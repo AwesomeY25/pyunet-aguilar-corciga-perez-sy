{
 "cells": [
  {
   "cell_type": "code",
   "execution_count": 1,
   "id": "c1d16df1",
   "metadata": {},
   "outputs": [],
   "source": [
    "import json\n",
    "import pandas as pd\n",
    "import copy\n",
    "import glob\n",
    "import cv2\n",
    "import matplotlib.pyplot as plt\n",
    "import sys\n",
    "import os\n",
    "import numpy as np\n",
    "sys.path.append(os.path.join('./','../pyunet'))\n",
    "from lib.unet import UNet\n",
    "from modules.train import Train\n",
    "import torch\n",
    "from lib.utils import get_image, get_mask, get_predicted_img, dice_score, count_parameters\n",
    "import glob\n",
    "from sklearn.model_selection import train_test_split\n",
    "import shutil\n",
    "from sklearn.metrics import jaccard_score\n",
    "from sklearn.metrics import accuracy_score\n",
    "from sklearn.metrics import f1_score\n",
    "from sklearn.metrics import precision_score\n",
    "from sklearn.metrics import recall_score"
   ]
  },
  {
   "cell_type": "code",
   "execution_count": 2,
   "id": "9a499e85",
   "metadata": {},
   "outputs": [],
   "source": [
    "img_dir  = \"./images/kvasir/images/\"\n",
    "mask_dir = \"./images/kvasir/masks/\"\n",
    "\n",
    "tmp_dir = \"./tmp\"\n",
    "\n",
    "if os.path.exists(tmp_dir):\n",
    "    shutil.rmtree(tmp_dir)\n",
    "\n",
    "train_images_dir = \"./tmp/train/images/\"\n",
    "train_masks_dir  = \"./tmp/train/masks/\"\n",
    "\n",
    "test_images_dir  = \"./tmp/test/images/\"\n",
    "test_masks_dir   = \"./tmp/test/masks/\"\n",
    "\n",
    "os.makedirs(train_images_dir)\n",
    "os.makedirs(train_masks_dir)\n",
    "os.makedirs(test_images_dir)\n",
    "os.makedirs(test_masks_dir)\n",
    "\n",
    "images = sorted(glob.glob(\"{}/*\".format(img_dir)))\n",
    "masks  = sorted(glob.glob(\"{}/*\".format(mask_dir)))\n",
    "\n",
    "train_images, test_images, train_masks, test_masks = train_test_split(\n",
    "    images,\n",
    "    masks,\n",
    "    test_size=0.3,\n",
    "    random_state=42\n",
    ")\n",
    "\n",
    "for img_file in train_images:\n",
    "    shutil.copy(img_file, train_images_dir)\n",
    "    \n",
    "for img_file in train_masks:\n",
    "    shutil.copy(img_file, train_masks_dir)\n",
    "    \n",
    "for img_file in test_images:\n",
    "    shutil.copy(img_file, test_images_dir)\n",
    "    \n",
    "for img_file in test_masks:\n",
    "    shutil.copy(img_file, test_masks_dir)\n",
    "    \n",
    "    "
   ]
  },
  {
   "cell_type": "code",
   "execution_count": 3,
   "id": "7688da81",
   "metadata": {},
   "outputs": [
    {
     "name": "stdout",
     "output_type": "stream",
     "text": [
      "Training model...\n",
      "input_img_dir: ./tmp/train/images/\n",
      "input_mask_dir: ./tmp/train/masks/\n",
      "CUDA Device: NVIDIA GeForce RTX 3050 Laptop GPU\n",
      "UNetRd(\n",
      "  (ups): ModuleList(\n",
      "    (0): ConvTranspose2d(1024, 512, kernel_size=(2, 2), stride=(2, 2))\n",
      "    (1): NormalizedDoubleConv(\n",
      "      (first_conv): DepthwiseSeperableConv(\n",
      "        (depthwise): Conv2d(1024, 1024, kernel_size=(3, 3), stride=(1, 1), padding=(1, 1), groups=1024, bias=False)\n",
      "        (pointwise): Conv2d(1024, 512, kernel_size=(1, 1), stride=(1, 1), bias=False)\n",
      "      )\n",
      "      (first_norm): BatchNorm2d(512, eps=1e-05, momentum=0.1, affine=True, track_running_stats=True)\n",
      "      (first_actv): ReLU(inplace=True)\n",
      "      (attention): AttentionConv2d(\n",
      "        (conv): Conv2d(512, 512, kernel_size=(1, 1), stride=(1, 1))\n",
      "        (attn): Conv2d(512, 512, kernel_size=(1, 1), stride=(1, 1))\n",
      "        (sigmoid): Sigmoid()\n",
      "        (relu): ReLU()\n",
      "      )\n",
      "      (skip_conn): Sequential(\n",
      "        (0): Conv2d(1024, 512, kernel_size=(3, 3), stride=(1, 1), padding=(1, 1), bias=False)\n",
      "        (1): BatchNorm2d(512, eps=1e-05, momentum=0.1, affine=True, track_running_stats=True)\n",
      "      )\n",
      "    )\n",
      "    (2): ConvTranspose2d(512, 256, kernel_size=(2, 2), stride=(2, 2))\n",
      "    (3): NormalizedDoubleConv(\n",
      "      (first_conv): DepthwiseSeperableConv(\n",
      "        (depthwise): Conv2d(512, 512, kernel_size=(3, 3), stride=(1, 1), padding=(1, 1), groups=512, bias=False)\n",
      "        (pointwise): Conv2d(512, 256, kernel_size=(1, 1), stride=(1, 1), bias=False)\n",
      "      )\n",
      "      (first_norm): BatchNorm2d(256, eps=1e-05, momentum=0.1, affine=True, track_running_stats=True)\n",
      "      (first_actv): ReLU(inplace=True)\n",
      "      (attention): AttentionConv2d(\n",
      "        (conv): Conv2d(256, 256, kernel_size=(1, 1), stride=(1, 1))\n",
      "        (attn): Conv2d(256, 256, kernel_size=(1, 1), stride=(1, 1))\n",
      "        (sigmoid): Sigmoid()\n",
      "        (relu): ReLU()\n",
      "      )\n",
      "      (skip_conn): Sequential(\n",
      "        (0): Conv2d(512, 256, kernel_size=(3, 3), stride=(1, 1), padding=(1, 1), bias=False)\n",
      "        (1): BatchNorm2d(256, eps=1e-05, momentum=0.1, affine=True, track_running_stats=True)\n",
      "      )\n",
      "    )\n",
      "    (4): ConvTranspose2d(256, 128, kernel_size=(2, 2), stride=(2, 2))\n",
      "    (5): NormalizedDoubleConv(\n",
      "      (first_conv): DepthwiseSeperableConv(\n",
      "        (depthwise): Conv2d(256, 256, kernel_size=(3, 3), stride=(1, 1), padding=(1, 1), groups=256, bias=False)\n",
      "        (pointwise): Conv2d(256, 128, kernel_size=(1, 1), stride=(1, 1), bias=False)\n",
      "      )\n",
      "      (first_norm): BatchNorm2d(128, eps=1e-05, momentum=0.1, affine=True, track_running_stats=True)\n",
      "      (first_actv): ReLU(inplace=True)\n",
      "      (attention): AttentionConv2d(\n",
      "        (conv): Conv2d(128, 128, kernel_size=(1, 1), stride=(1, 1))\n",
      "        (attn): Conv2d(128, 128, kernel_size=(1, 1), stride=(1, 1))\n",
      "        (sigmoid): Sigmoid()\n",
      "        (relu): ReLU()\n",
      "      )\n",
      "      (skip_conn): Sequential(\n",
      "        (0): Conv2d(256, 128, kernel_size=(3, 3), stride=(1, 1), padding=(1, 1), bias=False)\n",
      "        (1): BatchNorm2d(128, eps=1e-05, momentum=0.1, affine=True, track_running_stats=True)\n",
      "      )\n",
      "    )\n",
      "    (6): ConvTranspose2d(128, 64, kernel_size=(2, 2), stride=(2, 2))\n",
      "    (7): NormalizedDoubleConv(\n",
      "      (first_conv): DepthwiseSeperableConv(\n",
      "        (depthwise): Conv2d(128, 128, kernel_size=(3, 3), stride=(1, 1), padding=(1, 1), groups=128, bias=False)\n",
      "        (pointwise): Conv2d(128, 64, kernel_size=(1, 1), stride=(1, 1), bias=False)\n",
      "      )\n",
      "      (first_norm): BatchNorm2d(64, eps=1e-05, momentum=0.1, affine=True, track_running_stats=True)\n",
      "      (first_actv): ReLU(inplace=True)\n",
      "      (attention): AttentionConv2d(\n",
      "        (conv): Conv2d(64, 64, kernel_size=(1, 1), stride=(1, 1))\n",
      "        (attn): Conv2d(64, 64, kernel_size=(1, 1), stride=(1, 1))\n",
      "        (sigmoid): Sigmoid()\n",
      "        (relu): ReLU()\n",
      "      )\n",
      "      (skip_conn): Sequential(\n",
      "        (0): Conv2d(128, 64, kernel_size=(3, 3), stride=(1, 1), padding=(1, 1), bias=False)\n",
      "        (1): BatchNorm2d(64, eps=1e-05, momentum=0.1, affine=True, track_running_stats=True)\n",
      "      )\n",
      "    )\n",
      "  )\n",
      "  (downs): ModuleList(\n",
      "    (0): NormalizedDoubleConv(\n",
      "      (first_conv): DepthwiseSeperableConv(\n",
      "        (depthwise): Conv2d(3, 3, kernel_size=(3, 3), stride=(1, 1), padding=(1, 1), groups=3, bias=False)\n",
      "        (pointwise): Conv2d(3, 64, kernel_size=(1, 1), stride=(1, 1), bias=False)\n",
      "      )\n",
      "      (first_norm): BatchNorm2d(64, eps=1e-05, momentum=0.1, affine=True, track_running_stats=True)\n",
      "      (first_actv): ReLU(inplace=True)\n",
      "      (attention): AttentionConv2d(\n",
      "        (conv): Conv2d(64, 64, kernel_size=(1, 1), stride=(1, 1))\n",
      "        (attn): Conv2d(64, 64, kernel_size=(1, 1), stride=(1, 1))\n",
      "        (sigmoid): Sigmoid()\n",
      "        (relu): ReLU()\n",
      "      )\n",
      "      (skip_conn): Sequential(\n",
      "        (0): Conv2d(3, 64, kernel_size=(3, 3), stride=(1, 1), padding=(1, 1), bias=False)\n",
      "        (1): BatchNorm2d(64, eps=1e-05, momentum=0.1, affine=True, track_running_stats=True)\n",
      "      )\n",
      "    )\n",
      "    (1): NormalizedDoubleConv(\n",
      "      (first_conv): DepthwiseSeperableConv(\n",
      "        (depthwise): Conv2d(64, 64, kernel_size=(3, 3), stride=(1, 1), padding=(1, 1), groups=64, bias=False)\n",
      "        (pointwise): Conv2d(64, 128, kernel_size=(1, 1), stride=(1, 1), bias=False)\n",
      "      )\n",
      "      (first_norm): BatchNorm2d(128, eps=1e-05, momentum=0.1, affine=True, track_running_stats=True)\n",
      "      (first_actv): ReLU(inplace=True)\n",
      "      (attention): AttentionConv2d(\n",
      "        (conv): Conv2d(128, 128, kernel_size=(1, 1), stride=(1, 1))\n",
      "        (attn): Conv2d(128, 128, kernel_size=(1, 1), stride=(1, 1))\n",
      "        (sigmoid): Sigmoid()\n",
      "        (relu): ReLU()\n",
      "      )\n",
      "      (skip_conn): Sequential(\n",
      "        (0): Conv2d(64, 128, kernel_size=(3, 3), stride=(1, 1), padding=(1, 1), bias=False)\n",
      "        (1): BatchNorm2d(128, eps=1e-05, momentum=0.1, affine=True, track_running_stats=True)\n",
      "      )\n",
      "    )\n",
      "    (2): NormalizedDoubleConv(\n",
      "      (first_conv): DepthwiseSeperableConv(\n",
      "        (depthwise): Conv2d(128, 128, kernel_size=(3, 3), stride=(1, 1), padding=(1, 1), groups=128, bias=False)\n",
      "        (pointwise): Conv2d(128, 256, kernel_size=(1, 1), stride=(1, 1), bias=False)\n",
      "      )\n",
      "      (first_norm): BatchNorm2d(256, eps=1e-05, momentum=0.1, affine=True, track_running_stats=True)\n",
      "      (first_actv): ReLU(inplace=True)\n",
      "      (attention): AttentionConv2d(\n",
      "        (conv): Conv2d(256, 256, kernel_size=(1, 1), stride=(1, 1))\n",
      "        (attn): Conv2d(256, 256, kernel_size=(1, 1), stride=(1, 1))\n",
      "        (sigmoid): Sigmoid()\n",
      "        (relu): ReLU()\n",
      "      )\n",
      "      (skip_conn): Sequential(\n",
      "        (0): Conv2d(128, 256, kernel_size=(3, 3), stride=(1, 1), padding=(1, 1), bias=False)\n",
      "        (1): BatchNorm2d(256, eps=1e-05, momentum=0.1, affine=True, track_running_stats=True)\n",
      "      )\n",
      "    )\n",
      "    (3): NormalizedDoubleConv(\n",
      "      (first_conv): DepthwiseSeperableConv(\n",
      "        (depthwise): Conv2d(256, 256, kernel_size=(3, 3), stride=(1, 1), padding=(1, 1), groups=256, bias=False)\n",
      "        (pointwise): Conv2d(256, 512, kernel_size=(1, 1), stride=(1, 1), bias=False)\n",
      "      )\n",
      "      (first_norm): BatchNorm2d(512, eps=1e-05, momentum=0.1, affine=True, track_running_stats=True)\n",
      "      (first_actv): ReLU(inplace=True)\n",
      "      (attention): AttentionConv2d(\n",
      "        (conv): Conv2d(512, 512, kernel_size=(1, 1), stride=(1, 1))\n",
      "        (attn): Conv2d(512, 512, kernel_size=(1, 1), stride=(1, 1))\n",
      "        (sigmoid): Sigmoid()\n",
      "        (relu): ReLU()\n",
      "      )\n",
      "      (skip_conn): Sequential(\n",
      "        (0): Conv2d(256, 512, kernel_size=(3, 3), stride=(1, 1), padding=(1, 1), bias=False)\n",
      "        (1): BatchNorm2d(512, eps=1e-05, momentum=0.1, affine=True, track_running_stats=True)\n",
      "      )\n",
      "    )\n",
      "  )\n",
      "  (pool): MaxPool2d(kernel_size=2, stride=2, padding=0, dilation=1, ceil_mode=False)\n",
      "  (bottleneck): DoubleConv(\n",
      "    (conv): Sequential(\n",
      "      (0): Conv2d(512, 1024, kernel_size=(3, 3), stride=(1, 1), padding=(1, 1), bias=False)\n",
      "      (1): BatchNorm2d(1024, eps=1e-05, momentum=0.1, affine=True, track_running_stats=True)\n",
      "      (2): ReLU(inplace=True)\n",
      "      (3): Conv2d(1024, 1024, kernel_size=(3, 3), stride=(1, 1), padding=(1, 1), bias=False)\n",
      "      (4): BatchNorm2d(1024, eps=1e-05, momentum=0.1, affine=True, track_running_stats=True)\n",
      "      (5): ReLU(inplace=True)\n",
      "    )\n",
      "  )\n",
      "  (final_conv): Conv2d(64, 2, kernel_size=(1, 1), stride=(1, 1))\n",
      ")\n",
      "Loss Type: CE\n",
      "Epoch: 0\n"
     ]
    },
    {
     "name": "stderr",
     "output_type": "stream",
     "text": [
      "100%|████████████████████████████████████████████████████████████████████████████████████████████████████████████████████████████████████████████████████████████████| 140/140 [00:08<00:00, 16.35it/s, loss=0.545]\n"
     ]
    },
    {
     "name": "stdout",
     "output_type": "stream",
     "text": [
      "Ave Loss: 0.5472120906625475\n",
      "Ave Accuracy: 0.7977897135416666\n",
      "Ave F1: 0.6634103894633909\n",
      "Ave Precision: 0.6674090135366074\n",
      "Ave Recall: 0.7919105680166699\n",
      "Ave Specificity: 0.7919105680166699\n",
      "Saving model to test.pth...\n",
      "Epoch: 1\n"
     ]
    },
    {
     "name": "stderr",
     "output_type": "stream",
     "text": [
      "100%|████████████████████████████████████████████████████████████████████████████████████████████████████████████████████████████████████████████████████████████████| 140/140 [00:09<00:00, 14.26it/s, loss=0.481]\n"
     ]
    },
    {
     "name": "stdout",
     "output_type": "stream",
     "text": [
      "Ave Loss: 0.4478491900222642\n",
      "Ave Accuracy: 0.8331966145833334\n",
      "Ave F1: 0.6915192564065349\n",
      "Ave Precision: 0.6959879974796546\n",
      "Ave Recall: 0.7947055496288519\n",
      "Ave Specificity: 0.7947055496288519\n",
      "Saving model to test.pth...\n",
      "Epoch: 2\n"
     ]
    },
    {
     "name": "stderr",
     "output_type": "stream",
     "text": [
      "100%|████████████████████████████████████████████████████████████████████████████████████████████████████████████████████████████████████████████████████████████████| 140/140 [00:08<00:00, 16.58it/s, loss=0.397]\n"
     ]
    },
    {
     "name": "stdout",
     "output_type": "stream",
     "text": [
      "Ave Loss: 0.37373817414045335\n",
      "Ave Accuracy: 0.8390852864583334\n",
      "Ave F1: 0.6984820944753137\n",
      "Ave Precision: 0.703118192133602\n",
      "Ave Recall: 0.8005605771596636\n",
      "Ave Specificity: 0.8005605771596636\n",
      "Saving model to test.pth...\n",
      "Epoch: 3\n"
     ]
    },
    {
     "name": "stderr",
     "output_type": "stream",
     "text": [
      "100%|████████████████████████████████████████████████████████████████████████████████████████████████████████████████████████████████████████████████████████████████| 140/140 [00:08<00:00, 16.71it/s, loss=0.301]\n"
     ]
    },
    {
     "name": "stdout",
     "output_type": "stream",
     "text": [
      "Ave Loss: 0.29185330963560513\n",
      "Ave Accuracy: 0.8410384114583334\n",
      "Ave F1: 0.6983599913076094\n",
      "Ave Precision: 0.7039029437341546\n",
      "Ave Recall: 0.7954152191682327\n",
      "Ave Specificity: 0.7954152191682327\n",
      "Saving model to test.pth...\n",
      "Epoch: 4\n"
     ]
    },
    {
     "name": "stderr",
     "output_type": "stream",
     "text": [
      "100%|████████████████████████████████████████████████████████████████████████████████████████████████████████████████████████████████████████████████████████████████| 140/140 [00:08<00:00, 16.01it/s, loss=0.254]\n"
     ]
    },
    {
     "name": "stdout",
     "output_type": "stream",
     "text": [
      "Ave Loss: 0.2252895970429693\n",
      "Ave Accuracy: 0.84328125\n",
      "Ave F1: 0.6994901891049176\n",
      "Ave Precision: 0.705356206466885\n",
      "Ave Recall: 0.7898995151254885\n",
      "Ave Specificity: 0.7898995151254885\n",
      "Saving model to test.pth...\n",
      "Epoch: 5\n"
     ]
    },
    {
     "name": "stderr",
     "output_type": "stream",
     "text": [
      "100%|████████████████████████████████████████████████████████████████████████████████████████████████████████████████████████████████████████████████████████████████| 140/140 [00:08<00:00, 15.82it/s, loss=0.262]\n"
     ]
    },
    {
     "name": "stdout",
     "output_type": "stream",
     "text": [
      "Ave Loss: 0.19197588435241153\n",
      "Ave Accuracy: 0.84052734375\n",
      "Ave F1: 0.6906511302893973\n",
      "Ave Precision: 0.7001546500750836\n",
      "Ave Recall: 0.7763287679745934\n",
      "Ave Specificity: 0.7763287679745934\n",
      "Saving model to test.pth...\n",
      "Epoch: 6\n"
     ]
    },
    {
     "name": "stderr",
     "output_type": "stream",
     "text": [
      "100%|████████████████████████████████████████████████████████████████████████████████████████████████████████████████████████████████████████████████████████████████| 140/140 [00:09<00:00, 15.18it/s, loss=0.208]\n"
     ]
    },
    {
     "name": "stdout",
     "output_type": "stream",
     "text": [
      "Ave Loss: 0.16902218482324055\n",
      "Ave Accuracy: 0.8293587239583333\n",
      "Ave F1: 0.6725209354053042\n",
      "Ave Precision: 0.6815813017022043\n",
      "Ave Recall: 0.7578551617311827\n",
      "Ave Specificity: 0.7578551617311827\n",
      "Saving model to test.pth...\n",
      "Epoch: 7\n"
     ]
    },
    {
     "name": "stderr",
     "output_type": "stream",
     "text": [
      "100%|████████████████████████████████████████████████████████████████████████████████████████████████████████████████████████████████████████████████████████████████| 140/140 [00:08<00:00, 16.02it/s, loss=0.176]\n"
     ]
    },
    {
     "name": "stdout",
     "output_type": "stream",
     "text": [
      "Ave Loss: 0.14102633813662188\n",
      "Ave Accuracy: 0.8421712239583333\n",
      "Ave F1: 0.6897115824717455\n",
      "Ave Precision: 0.6988047468894278\n",
      "Ave Recall: 0.771579576034809\n",
      "Ave Specificity: 0.771579576034809\n",
      "Saving model to test.pth...\n",
      "Epoch: 8\n"
     ]
    },
    {
     "name": "stderr",
     "output_type": "stream",
     "text": [
      "100%|████████████████████████████████████████████████████████████████████████████████████████████████████████████████████████████████████████████████████████████████| 140/140 [00:09<00:00, 14.77it/s, loss=0.133]\n"
     ]
    },
    {
     "name": "stdout",
     "output_type": "stream",
     "text": [
      "Ave Loss: 0.11914608015545777\n",
      "Ave Accuracy: 0.8437890625\n",
      "Ave F1: 0.6931694363088599\n",
      "Ave Precision: 0.7009281887458337\n",
      "Ave Recall: 0.7766340176841292\n",
      "Ave Specificity: 0.7766340176841292\n",
      "Saving model to test.pth...\n",
      "Epoch: 9\n"
     ]
    },
    {
     "name": "stderr",
     "output_type": "stream",
     "text": [
      "100%|█████████████████████████████████████████████████████████████████████████████████████████████████████████████████████████████████████████████████████████████████| 140/140 [00:08<00:00, 15.95it/s, loss=0.12]\n"
     ]
    },
    {
     "name": "stdout",
     "output_type": "stream",
     "text": [
      "Ave Loss: 0.11147314421832562\n",
      "Ave Accuracy: 0.849765625\n",
      "Ave F1: 0.6978481374982097\n",
      "Ave Precision: 0.7092964865549347\n",
      "Ave Recall: 0.7741100839143877\n",
      "Ave Specificity: 0.7741100839143877\n",
      "Saving model to test.pth...\n",
      "Epoch: 10\n"
     ]
    },
    {
     "name": "stderr",
     "output_type": "stream",
     "text": [
      "100%|████████████████████████████████████████████████████████████████████████████████████████████████████████████████████████████████████████████████████████████████| 140/140 [00:09<00:00, 15.54it/s, loss=0.115]\n"
     ]
    },
    {
     "name": "stdout",
     "output_type": "stream",
     "text": [
      "Ave Loss: 0.10100083569330828\n",
      "Ave Accuracy: 0.8503385416666667\n",
      "Ave F1: 0.6930558508247372\n",
      "Ave Precision: 0.7071451669111977\n",
      "Ave Recall: 0.7610137324138484\n",
      "Ave Specificity: 0.7610137324138484\n",
      "Saving model to test.pth...\n",
      "Epoch: 11\n"
     ]
    },
    {
     "name": "stderr",
     "output_type": "stream",
     "text": [
      "100%|████████████████████████████████████████████████████████████████████████████████████████████████████████████████████████████████████████████████████████████████| 140/140 [00:09<00:00, 14.18it/s, loss=0.101]\n"
     ]
    },
    {
     "name": "stdout",
     "output_type": "stream",
     "text": [
      "Ave Loss: 0.09175152648240328\n",
      "Ave Accuracy: 0.8487858072916666\n",
      "Ave F1: 0.6909975926288242\n",
      "Ave Precision: 0.7051269343754536\n",
      "Ave Recall: 0.7623474427966571\n",
      "Ave Specificity: 0.7623474427966571\n",
      "Saving model to test.pth...\n",
      "Epoch: 12\n"
     ]
    },
    {
     "name": "stderr",
     "output_type": "stream",
     "text": [
      "100%|███████████████████████████████████████████████████████████████████████████████████████████████████████████████████████████████████████████████████████████████| 140/140 [00:09<00:00, 14.09it/s, loss=0.0825]\n"
     ]
    },
    {
     "name": "stdout",
     "output_type": "stream",
     "text": [
      "Ave Loss: 0.08340576525245394\n",
      "Ave Accuracy: 0.841162109375\n",
      "Ave F1: 0.6821522154817373\n",
      "Ave Precision: 0.697586212467626\n",
      "Ave Recall: 0.7554425835778911\n",
      "Ave Specificity: 0.7554425835778911\n",
      "Saving model to test.pth...\n",
      "Epoch: 13\n"
     ]
    },
    {
     "name": "stderr",
     "output_type": "stream",
     "text": [
      "100%|███████████████████████████████████████████████████████████████████████████████████████████████████████████████████████████████████████████████████████████████| 140/140 [00:09<00:00, 15.50it/s, loss=0.0855]\n"
     ]
    },
    {
     "name": "stdout",
     "output_type": "stream",
     "text": [
      "Ave Loss: 0.0783646961408002\n",
      "Ave Accuracy: 0.8508919270833334\n",
      "Ave F1: 0.6955635791199615\n",
      "Ave Precision: 0.7102740644888754\n",
      "Ave Recall: 0.7650325911637965\n",
      "Ave Specificity: 0.7650325911637965\n",
      "Saving model to test.pth...\n",
      "Epoch: 14\n"
     ]
    },
    {
     "name": "stderr",
     "output_type": "stream",
     "text": [
      "100%|███████████████████████████████████████████████████████████████████████████████████████████████████████████████████████████████████████████████████████████████| 140/140 [00:10<00:00, 13.89it/s, loss=0.0659]\n"
     ]
    },
    {
     "name": "stdout",
     "output_type": "stream",
     "text": [
      "Ave Loss: 0.07398880328983068\n",
      "Ave Accuracy: 0.8519986979166667\n",
      "Ave F1: 0.694294006515392\n",
      "Ave Precision: 0.7095999201134868\n",
      "Ave Recall: 0.7618188179944089\n",
      "Ave Specificity: 0.7618188179944089\n",
      "Saving model to test.pth...\n",
      "Epoch: 15\n"
     ]
    },
    {
     "name": "stderr",
     "output_type": "stream",
     "text": [
      "100%|███████████████████████████████████████████████████████████████████████████████████████████████████████████████████████████████████████████████████████████████| 140/140 [00:10<00:00, 13.49it/s, loss=0.0702]\n"
     ]
    },
    {
     "name": "stdout",
     "output_type": "stream",
     "text": [
      "Ave Loss: 0.06751326274658953\n",
      "Ave Accuracy: 0.8528385416666666\n",
      "Ave F1: 0.6922704483200188\n",
      "Ave Precision: 0.7092102226505745\n",
      "Ave Recall: 0.7571776742864179\n",
      "Ave Specificity: 0.7571776742864179\n",
      "Saving model to test.pth...\n",
      "Epoch: 16\n"
     ]
    },
    {
     "name": "stderr",
     "output_type": "stream",
     "text": [
      "100%|███████████████████████████████████████████████████████████████████████████████████████████████████████████████████████████████████████████████████████████████| 140/140 [00:08<00:00, 15.72it/s, loss=0.0632]\n"
     ]
    },
    {
     "name": "stdout",
     "output_type": "stream",
     "text": [
      "Ave Loss: 0.05925473451082196\n",
      "Ave Accuracy: 0.8480533854166666\n",
      "Ave F1: 0.6840265492188704\n",
      "Ave Precision: 0.6992146433708186\n",
      "Ave Recall: 0.7491573034966124\n",
      "Ave Specificity: 0.7491573034966124\n",
      "Saving model to test.pth...\n",
      "Epoch: 17\n"
     ]
    },
    {
     "name": "stderr",
     "output_type": "stream",
     "text": [
      "100%|███████████████████████████████████████████████████████████████████████████████████████████████████████████████████████████████████████████████████████████████| 140/140 [00:08<00:00, 15.71it/s, loss=0.0682]\n"
     ]
    },
    {
     "name": "stdout",
     "output_type": "stream",
     "text": [
      "Ave Loss: 0.05648500730416604\n",
      "Ave Accuracy: 0.8395865885416667\n",
      "Ave F1: 0.6828444633290996\n",
      "Ave Precision: 0.6953153116719503\n",
      "Ave Recall: 0.7561829889485397\n",
      "Ave Specificity: 0.7561829889485397\n",
      "Saving model to test.pth...\n",
      "Epoch: 18\n"
     ]
    },
    {
     "name": "stderr",
     "output_type": "stream",
     "text": [
      "100%|███████████████████████████████████████████████████████████████████████████████████████████████████████████████████████████████████████████████████████████████| 140/140 [00:09<00:00, 14.65it/s, loss=0.0534]\n"
     ]
    },
    {
     "name": "stdout",
     "output_type": "stream",
     "text": [
      "Ave Loss: 0.05103882572480611\n",
      "Ave Accuracy: 0.84560546875\n",
      "Ave F1: 0.6937084430973585\n",
      "Ave Precision: 0.7054273383910548\n",
      "Ave Recall: 0.7700594115856731\n",
      "Ave Specificity: 0.7700594115856731\n",
      "Saving model to test.pth...\n",
      "Epoch: 19\n"
     ]
    },
    {
     "name": "stderr",
     "output_type": "stream",
     "text": [
      "100%|███████████████████████████████████████████████████████████████████████████████████████████████████████████████████████████████████████████████████████████████| 140/140 [00:09<00:00, 15.32it/s, loss=0.0478]\n"
     ]
    },
    {
     "name": "stdout",
     "output_type": "stream",
     "text": [
      "Ave Loss: 0.0502607065652098\n",
      "Ave Accuracy: 0.8563704427083333\n",
      "Ave F1: 0.7039472342786182\n",
      "Ave Precision: 0.7194499485981248\n",
      "Ave Recall: 0.773897898377108\n",
      "Ave Specificity: 0.773897898377108\n",
      "Saving model to test.pth...\n",
      "Epoch: 20\n"
     ]
    },
    {
     "name": "stderr",
     "output_type": "stream",
     "text": [
      "100%|███████████████████████████████████████████████████████████████████████████████████████████████████████████████████████████████████████████████████████████████| 140/140 [00:10<00:00, 13.90it/s, loss=0.0513]\n"
     ]
    },
    {
     "name": "stdout",
     "output_type": "stream",
     "text": [
      "Ave Loss: 0.04653469246945211\n",
      "Ave Accuracy: 0.8507063802083333\n",
      "Ave F1: 0.6955282115551108\n",
      "Ave Precision: 0.709260038692322\n",
      "Ave Recall: 0.7629005275204392\n",
      "Ave Specificity: 0.7629005275204392\n",
      "Saving model to test.pth...\n",
      "Epoch: 21\n"
     ]
    },
    {
     "name": "stderr",
     "output_type": "stream",
     "text": [
      "100%|███████████████████████████████████████████████████████████████████████████████████████████████████████████████████████████████████████████████████████████████| 140/140 [00:09<00:00, 14.73it/s, loss=0.0528]\n"
     ]
    },
    {
     "name": "stdout",
     "output_type": "stream",
     "text": [
      "Ave Loss: 0.04315259728048529\n",
      "Ave Accuracy: 0.843505859375\n",
      "Ave F1: 0.691841794916197\n",
      "Ave Precision: 0.7016355691793253\n",
      "Ave Recall: 0.7698183589591072\n",
      "Ave Specificity: 0.7698183589591072\n",
      "Saving model to test.pth...\n",
      "Epoch: 22\n"
     ]
    },
    {
     "name": "stderr",
     "output_type": "stream",
     "text": [
      "100%|███████████████████████████████████████████████████████████████████████████████████████████████████████████████████████████████████████████████████████████████| 140/140 [00:10<00:00, 13.94it/s, loss=0.0525]\n"
     ]
    },
    {
     "name": "stdout",
     "output_type": "stream",
     "text": [
      "Ave Loss: 0.04106969921184438\n",
      "Ave Accuracy: 0.85146484375\n",
      "Ave F1: 0.698009908328924\n",
      "Ave Precision: 0.7112707669371375\n",
      "Ave Recall: 0.7697310818013512\n",
      "Ave Specificity: 0.7697310818013512\n",
      "Saving model to test.pth...\n",
      "Epoch: 23\n"
     ]
    },
    {
     "name": "stderr",
     "output_type": "stream",
     "text": [
      "100%|███████████████████████████████████████████████████████████████████████████████████████████████████████████████████████████████████████████████████████████████| 140/140 [00:09<00:00, 14.04it/s, loss=0.0508]\n"
     ]
    },
    {
     "name": "stdout",
     "output_type": "stream",
     "text": [
      "Ave Loss: 0.03920318460358041\n",
      "Ave Accuracy: 0.849912109375\n",
      "Ave F1: 0.6888740667399701\n",
      "Ave Precision: 0.7035676880340103\n",
      "Ave Recall: 0.7536275291967302\n",
      "Ave Specificity: 0.7536275291967302\n",
      "Saving model to test.pth...\n",
      "Epoch: 24\n"
     ]
    },
    {
     "name": "stderr",
     "output_type": "stream",
     "text": [
      "100%|███████████████████████████████████████████████████████████████████████████████████████████████████████████████████████████████████████████████████████████████| 140/140 [00:09<00:00, 14.69it/s, loss=0.0398]\n"
     ]
    },
    {
     "name": "stdout",
     "output_type": "stream",
     "text": [
      "Ave Loss: 0.038380571880510875\n",
      "Ave Accuracy: 0.8520638020833333\n",
      "Ave F1: 0.6858552460042355\n",
      "Ave Precision: 0.7041778293051615\n",
      "Ave Recall: 0.7437115599880543\n",
      "Ave Specificity: 0.7437115599880543\n",
      "Saving model to test.pth...\n",
      "Epoch: 25\n"
     ]
    },
    {
     "name": "stderr",
     "output_type": "stream",
     "text": [
      "100%|███████████████████████████████████████████████████████████████████████████████████████████████████████████████████████████████████████████████████████████████| 140/140 [00:09<00:00, 14.31it/s, loss=0.0387]\n"
     ]
    },
    {
     "name": "stdout",
     "output_type": "stream",
     "text": [
      "Ave Loss: 0.039853076756532706\n",
      "Ave Accuracy: 0.8535677083333333\n",
      "Ave F1: 0.6920151101850377\n",
      "Ave Precision: 0.7099186573606053\n",
      "Ave Recall: 0.7532819496127936\n",
      "Ave Specificity: 0.7532819496127936\n",
      "Saving model to test.pth...\n",
      "Epoch: 26\n"
     ]
    },
    {
     "name": "stderr",
     "output_type": "stream",
     "text": [
      "100%|███████████████████████████████████████████████████████████████████████████████████████████████████████████████████████████████████████████████████████████████| 140/140 [00:10<00:00, 13.93it/s, loss=0.0591]\n"
     ]
    },
    {
     "name": "stdout",
     "output_type": "stream",
     "text": [
      "Ave Loss: 0.03784553480467626\n",
      "Ave Accuracy: 0.8398209635416667\n",
      "Ave F1: 0.6763292231443045\n",
      "Ave Precision: 0.6918112075001465\n",
      "Ave Recall: 0.7425820430739111\n",
      "Ave Specificity: 0.7425820430739111\n",
      "Saving model to test.pth...\n",
      "Epoch: 27\n"
     ]
    },
    {
     "name": "stderr",
     "output_type": "stream",
     "text": [
      "100%|████████████████████████████████████████████████████████████████████████████████████████████████████████████████████████████████████████████████████████████████| 140/140 [00:09<00:00, 14.46it/s, loss=0.047]\n"
     ]
    },
    {
     "name": "stdout",
     "output_type": "stream",
     "text": [
      "Ave Loss: 0.03585502876500998\n",
      "Ave Accuracy: 0.8479622395833334\n",
      "Ave F1: 0.6894051574697293\n",
      "Ave Precision: 0.7040393279370261\n",
      "Ave Recall: 0.759776030958227\n",
      "Ave Specificity: 0.759776030958227\n",
      "Saving model to test.pth...\n",
      "Epoch: 28\n"
     ]
    },
    {
     "name": "stderr",
     "output_type": "stream",
     "text": [
      "100%|███████████████████████████████████████████████████████████████████████████████████████████████████████████████████████████████████████████████████████████████| 140/140 [00:09<00:00, 15.52it/s, loss=0.0414]\n"
     ]
    },
    {
     "name": "stdout",
     "output_type": "stream",
     "text": [
      "Ave Loss: 0.034871953898774725\n",
      "Ave Accuracy: 0.8502701822916666\n",
      "Ave F1: 0.6916521432761064\n",
      "Ave Precision: 0.7063109109490269\n",
      "Ave Recall: 0.7613698853386215\n",
      "Ave Specificity: 0.7613698853386215\n",
      "Saving model to test.pth...\n",
      "Epoch: 29\n"
     ]
    },
    {
     "name": "stderr",
     "output_type": "stream",
     "text": [
      "100%|███████████████████████████████████████████████████████████████████████████████████████████████████████████████████████████████████████████████████████████████| 140/140 [00:09<00:00, 15.07it/s, loss=0.0381]\n"
     ]
    },
    {
     "name": "stdout",
     "output_type": "stream",
     "text": [
      "Ave Loss: 0.0328833147484277\n",
      "Ave Accuracy: 0.8515852864583333\n",
      "Ave F1: 0.6869928318520713\n",
      "Ave Precision: 0.7048467791838969\n",
      "Ave Recall: 0.7482777395635046\n",
      "Ave Specificity: 0.7482777395635046\n",
      "Saving model to test.pth...\n",
      "Epoch: 30\n"
     ]
    },
    {
     "name": "stderr",
     "output_type": "stream",
     "text": [
      "100%|███████████████████████████████████████████████████████████████████████████████████████████████████████████████████████████████████████████████████████████████| 140/140 [00:11<00:00, 12.34it/s, loss=0.0334]\n"
     ]
    },
    {
     "name": "stdout",
     "output_type": "stream",
     "text": [
      "Ave Loss: 0.030878561775067023\n",
      "Ave Accuracy: 0.851484375\n",
      "Ave F1: 0.6863189920596117\n",
      "Ave Precision: 0.7057443994350867\n",
      "Ave Recall: 0.7466118076567252\n",
      "Ave Specificity: 0.7466118076567252\n",
      "Saving model to test.pth...\n",
      "Epoch: 31\n"
     ]
    },
    {
     "name": "stderr",
     "output_type": "stream",
     "text": [
      "100%|███████████████████████████████████████████████████████████████████████████████████████████████████████████████████████████████████████████████████████████████| 140/140 [00:10<00:00, 13.04it/s, loss=0.0521]\n"
     ]
    },
    {
     "name": "stdout",
     "output_type": "stream",
     "text": [
      "Ave Loss: 0.0286125700521682\n",
      "Ave Accuracy: 0.8501139322916667\n",
      "Ave F1: 0.6889285864589464\n",
      "Ave Precision: 0.7063407479532859\n",
      "Ave Recall: 0.7524468160911311\n",
      "Ave Specificity: 0.7524468160911311\n",
      "Saving model to test.pth...\n",
      "Epoch: 32\n"
     ]
    },
    {
     "name": "stderr",
     "output_type": "stream",
     "text": [
      "100%|████████████████████████████████████████████████████████████████████████████████████████████████████████████████████████████████████████████████████████████████| 140/140 [00:09<00:00, 14.73it/s, loss=0.038]\n"
     ]
    },
    {
     "name": "stdout",
     "output_type": "stream",
     "text": [
      "Ave Loss: 0.02819739862212113\n",
      "Ave Accuracy: 0.8464095052083334\n",
      "Ave F1: 0.6876175550989987\n",
      "Ave Precision: 0.7008074969939302\n",
      "Ave Recall: 0.7559575800741917\n",
      "Ave Specificity: 0.7559575800741917\n",
      "Saving model to test.pth...\n",
      "Epoch: 33\n"
     ]
    },
    {
     "name": "stderr",
     "output_type": "stream",
     "text": [
      "100%|███████████████████████████████████████████████████████████████████████████████████████████████████████████████████████████████████████████████████████████████| 140/140 [00:08<00:00, 16.02it/s, loss=0.0407]\n"
     ]
    },
    {
     "name": "stdout",
     "output_type": "stream",
     "text": [
      "Ave Loss: 0.02741313103054251\n",
      "Ave Accuracy: 0.8424479166666666\n",
      "Ave F1: 0.6869541183931056\n",
      "Ave Precision: 0.6971363564497\n",
      "Ave Recall: 0.7618303275403757\n",
      "Ave Specificity: 0.7618303275403757\n",
      "Saving model to test.pth...\n",
      "Epoch: 34\n"
     ]
    },
    {
     "name": "stderr",
     "output_type": "stream",
     "text": [
      "100%|████████████████████████████████████████████████████████████████████████████████████████████████████████████████████████████████████████████████████████████████| 140/140 [00:10<00:00, 13.40it/s, loss=0.035]\n"
     ]
    },
    {
     "name": "stdout",
     "output_type": "stream",
     "text": [
      "Ave Loss: 0.026298032348443356\n",
      "Ave Accuracy: 0.8518196614583333\n",
      "Ave F1: 0.6982847671845986\n",
      "Ave Precision: 0.7109520773203982\n",
      "Ave Recall: 0.7715082314803731\n",
      "Ave Specificity: 0.7715082314803731\n",
      "Saving model to test.pth...\n",
      "Epoch: 35\n"
     ]
    },
    {
     "name": "stderr",
     "output_type": "stream",
     "text": [
      "100%|████████████████████████████████████████████████████████████████████████████████████████████████████████████████████████████████████████████████████████████████| 140/140 [00:10<00:00, 13.31it/s, loss=0.029]\n"
     ]
    },
    {
     "name": "stdout",
     "output_type": "stream",
     "text": [
      "Ave Loss: 0.026859643815883568\n",
      "Ave Accuracy: 0.85091796875\n",
      "Ave F1: 0.6921924684857242\n",
      "Ave Precision: 0.7078026587294347\n",
      "Ave Recall: 0.7589527459338499\n",
      "Ave Specificity: 0.7589527459338499\n",
      "Saving model to test.pth...\n",
      "Epoch: 36\n"
     ]
    },
    {
     "name": "stderr",
     "output_type": "stream",
     "text": [
      "100%|███████████████████████████████████████████████████████████████████████████████████████████████████████████████████████████████████████████████████████████████| 140/140 [00:11<00:00, 12.24it/s, loss=0.0301]\n"
     ]
    },
    {
     "name": "stdout",
     "output_type": "stream",
     "text": [
      "Ave Loss: 0.02924940323989306\n",
      "Ave Accuracy: 0.8502799479166666\n",
      "Ave F1: 0.6867102084972242\n",
      "Ave Precision: 0.7060115194671412\n",
      "Ave Recall: 0.7477316065877097\n",
      "Ave Specificity: 0.7477316065877097\n",
      "Saving model to test.pth...\n",
      "Epoch: 37\n"
     ]
    },
    {
     "name": "stderr",
     "output_type": "stream",
     "text": [
      "100%|███████████████████████████████████████████████████████████████████████████████████████████████████████████████████████████████████████████████████████████████| 140/140 [00:09<00:00, 14.35it/s, loss=0.0304]\n"
     ]
    },
    {
     "name": "stdout",
     "output_type": "stream",
     "text": [
      "Ave Loss: 0.02888548704130309\n",
      "Ave Accuracy: 0.851669921875\n",
      "Ave F1: 0.689719988723824\n",
      "Ave Precision: 0.7074961009190838\n",
      "Ave Recall: 0.7514470035795333\n",
      "Ave Specificity: 0.7514470035795333\n",
      "Saving model to test.pth...\n",
      "Epoch: 38\n"
     ]
    },
    {
     "name": "stderr",
     "output_type": "stream",
     "text": [
      "100%|███████████████████████████████████████████████████████████████████████████████████████████████████████████████████████████████████████████████████████████████| 140/140 [00:09<00:00, 14.83it/s, loss=0.0389]\n"
     ]
    },
    {
     "name": "stdout",
     "output_type": "stream",
     "text": [
      "Ave Loss: 0.027320069154458386\n",
      "Ave Accuracy: 0.8513053385416667\n",
      "Ave F1: 0.6969825782144815\n",
      "Ave Precision: 0.7094461237734563\n",
      "Ave Recall: 0.7687142326606444\n",
      "Ave Specificity: 0.7687142326606444\n",
      "Saving model to test.pth...\n",
      "Epoch: 39\n"
     ]
    },
    {
     "name": "stderr",
     "output_type": "stream",
     "text": [
      "100%|███████████████████████████████████████████████████████████████████████████████████████████████████████████████████████████████████████████████████████████████| 140/140 [00:09<00:00, 14.31it/s, loss=0.0311]\n"
     ]
    },
    {
     "name": "stdout",
     "output_type": "stream",
     "text": [
      "Ave Loss: 0.025812148016744425\n",
      "Ave Accuracy: 0.8509635416666667\n",
      "Ave F1: 0.696051662099741\n",
      "Ave Precision: 0.7096593785931392\n",
      "Ave Recall: 0.7683309591070094\n",
      "Ave Specificity: 0.7683309591070094\n",
      "Saving model to test.pth...\n",
      "Epoch: 40\n"
     ]
    },
    {
     "name": "stderr",
     "output_type": "stream",
     "text": [
      "100%|███████████████████████████████████████████████████████████████████████████████████████████████████████████████████████████████████████████████████████████████| 140/140 [00:09<00:00, 14.21it/s, loss=0.0267]\n"
     ]
    },
    {
     "name": "stdout",
     "output_type": "stream",
     "text": [
      "Ave Loss: 0.02361995030327567\n",
      "Ave Accuracy: 0.8480436197916666\n",
      "Ave F1: 0.6895023022508036\n",
      "Ave Precision: 0.7035705091766137\n",
      "Ave Recall: 0.7584440005259435\n",
      "Ave Specificity: 0.7584440005259435\n",
      "Saving model to test.pth...\n",
      "Epoch: 41\n"
     ]
    },
    {
     "name": "stderr",
     "output_type": "stream",
     "text": [
      "100%|████████████████████████████████████████████████████████████████████████████████████████████████████████████████████████████████████████████████████████████████| 140/140 [00:09<00:00, 14.95it/s, loss=0.026]\n"
     ]
    },
    {
     "name": "stdout",
     "output_type": "stream",
     "text": [
      "Ave Loss: 0.022076237188386066\n",
      "Ave Accuracy: 0.8539029947916666\n",
      "Ave F1: 0.695714616851048\n",
      "Ave Precision: 0.7111578288661321\n",
      "Ave Recall: 0.76028329203953\n",
      "Ave Specificity: 0.76028329203953\n",
      "Saving model to test.pth...\n",
      "Epoch: 42\n"
     ]
    },
    {
     "name": "stderr",
     "output_type": "stream",
     "text": [
      "100%|███████████████████████████████████████████████████████████████████████████████████████████████████████████████████████████████████████████████████████████████| 140/140 [00:10<00:00, 13.82it/s, loss=0.0337]\n"
     ]
    },
    {
     "name": "stdout",
     "output_type": "stream",
     "text": [
      "Ave Loss: 0.02187657075534974\n",
      "Ave Accuracy: 0.847724609375\n",
      "Ave F1: 0.6858420682746438\n",
      "Ave Precision: 0.7005823641871012\n",
      "Ave Recall: 0.7490815283909652\n",
      "Ave Specificity: 0.7490815283909652\n",
      "Saving model to test.pth...\n",
      "Epoch: 43\n"
     ]
    },
    {
     "name": "stderr",
     "output_type": "stream",
     "text": [
      "100%|███████████████████████████████████████████████████████████████████████████████████████████████████████████████████████████████████████████████████████████████| 140/140 [00:10<00:00, 13.12it/s, loss=0.0294]\n"
     ]
    },
    {
     "name": "stdout",
     "output_type": "stream",
     "text": [
      "Ave Loss: 0.02172145612670907\n",
      "Ave Accuracy: 0.8407845052083334\n",
      "Ave F1: 0.6755969590140515\n",
      "Ave Precision: 0.690657972972564\n",
      "Ave Recall: 0.7379685976298006\n",
      "Ave Specificity: 0.7379685976298006\n",
      "Saving model to test.pth...\n",
      "Epoch: 44\n"
     ]
    },
    {
     "name": "stderr",
     "output_type": "stream",
     "text": [
      "100%|████████████████████████████████████████████████████████████████████████████████████████████████████████████████████████████████████████████████████████████████| 140/140 [00:11<00:00, 12.01it/s, loss=0.044]\n"
     ]
    },
    {
     "name": "stdout",
     "output_type": "stream",
     "text": [
      "Ave Loss: 0.02349459346649902\n",
      "Ave Accuracy: 0.8514811197916666\n",
      "Ave F1: 0.6939051327238995\n",
      "Ave Precision: 0.7086898429953981\n",
      "Ave Recall: 0.7589061186612457\n",
      "Ave Specificity: 0.7589061186612457\n",
      "Saving model to test.pth...\n",
      "Epoch: 45\n"
     ]
    },
    {
     "name": "stderr",
     "output_type": "stream",
     "text": [
      "100%|███████████████████████████████████████████████████████████████████████████████████████████████████████████████████████████████████████████████████████████████| 140/140 [00:09<00:00, 14.18it/s, loss=0.0434]\n"
     ]
    },
    {
     "name": "stdout",
     "output_type": "stream",
     "text": [
      "Ave Loss: 0.022127482002334935\n",
      "Ave Accuracy: 0.8466634114583333\n",
      "Ave F1: 0.6852660164743258\n",
      "Ave Precision: 0.7019325481816179\n",
      "Ave Recall: 0.7514206350202525\n",
      "Ave Specificity: 0.7514206350202525\n",
      "Saving model to test.pth...\n",
      "Epoch: 46\n"
     ]
    },
    {
     "name": "stderr",
     "output_type": "stream",
     "text": [
      "100%|████████████████████████████████████████████████████████████████████████████████████████████████████████████████████████████████████████████████████████████████| 140/140 [00:09<00:00, 14.69it/s, loss=0.025]\n"
     ]
    },
    {
     "name": "stdout",
     "output_type": "stream",
     "text": [
      "Ave Loss: 0.022240956460258792\n",
      "Ave Accuracy: 0.8551497395833333\n",
      "Ave F1: 0.6926287646083141\n",
      "Ave Precision: 0.7116363990533546\n",
      "Ave Recall: 0.7535852538655563\n",
      "Ave Specificity: 0.7535852538655563\n",
      "Saving model to test.pth...\n",
      "Epoch: 47\n"
     ]
    },
    {
     "name": "stderr",
     "output_type": "stream",
     "text": [
      "100%|███████████████████████████████████████████████████████████████████████████████████████████████████████████████████████████████████████████████████████████████| 140/140 [00:10<00:00, 13.37it/s, loss=0.0232]\n"
     ]
    },
    {
     "name": "stdout",
     "output_type": "stream",
     "text": [
      "Ave Loss: 0.02014190795432244\n",
      "Ave Accuracy: 0.8520930989583333\n",
      "Ave F1: 0.6816396135159283\n",
      "Ave Precision: 0.7028949803297467\n",
      "Ave Recall: 0.7355831336654778\n",
      "Ave Specificity: 0.7355831336654778\n",
      "Saving model to test.pth...\n",
      "Epoch: 48\n"
     ]
    },
    {
     "name": "stderr",
     "output_type": "stream",
     "text": [
      "100%|███████████████████████████████████████████████████████████████████████████████████████████████████████████████████████████████████████████████████████████████| 140/140 [00:10<00:00, 13.96it/s, loss=0.0216]\n"
     ]
    },
    {
     "name": "stdout",
     "output_type": "stream",
     "text": [
      "Ave Loss: 0.018964114918240477\n",
      "Ave Accuracy: 0.852177734375\n",
      "Ave F1: 0.677931569405841\n",
      "Ave Precision: 0.7007745009847356\n",
      "Ave Recall: 0.7279858686867381\n",
      "Ave Specificity: 0.7279858686867381\n",
      "Saving model to test.pth...\n",
      "Epoch: 49\n"
     ]
    },
    {
     "name": "stderr",
     "output_type": "stream",
     "text": [
      "100%|███████████████████████████████████████████████████████████████████████████████████████████████████████████████████████████████████████████████████████████████| 140/140 [00:10<00:00, 13.72it/s, loss=0.0221]\n"
     ]
    },
    {
     "name": "stdout",
     "output_type": "stream",
     "text": [
      "Ave Loss: 0.01740060608301844\n",
      "Ave Accuracy: 0.8528580729166667\n",
      "Ave F1: 0.6837172577267647\n",
      "Ave Precision: 0.7041508448599786\n",
      "Ave Recall: 0.7383362639075426\n",
      "Ave Specificity: 0.7383362639075426\n",
      "Saving model to test.pth...\n",
      "Epoch: 50\n"
     ]
    },
    {
     "name": "stderr",
     "output_type": "stream",
     "text": [
      "100%|███████████████████████████████████████████████████████████████████████████████████████████████████████████████████████████████████████████████████████████████| 140/140 [00:09<00:00, 15.10it/s, loss=0.0187]\n"
     ]
    },
    {
     "name": "stdout",
     "output_type": "stream",
     "text": [
      "Ave Loss: 0.016315051560689298\n",
      "Ave Accuracy: 0.8532389322916667\n",
      "Ave F1: 0.6994323602929122\n",
      "Ave Precision: 0.7123722847416596\n",
      "Ave Recall: 0.7696776586779996\n",
      "Ave Specificity: 0.7696776586779996\n",
      "Saving model to test.pth...\n",
      "Epoch: 51\n"
     ]
    },
    {
     "name": "stderr",
     "output_type": "stream",
     "text": [
      "100%|███████████████████████████████████████████████████████████████████████████████████████████████████████████████████████████████████████████████████████████████| 140/140 [00:10<00:00, 13.54it/s, loss=0.0227]\n"
     ]
    },
    {
     "name": "stdout",
     "output_type": "stream",
     "text": [
      "Ave Loss: 0.015552592044696213\n",
      "Ave Accuracy: 0.851513671875\n",
      "Ave F1: 0.7018350517238464\n",
      "Ave Precision: 0.7124862758337788\n",
      "Ave Recall: 0.7784699720348499\n",
      "Ave Specificity: 0.7784699720348499\n",
      "Saving model to test.pth...\n",
      "Epoch: 52\n"
     ]
    },
    {
     "name": "stderr",
     "output_type": "stream",
     "text": [
      "100%|████████████████████████████████████████████████████████████████████████████████████████████████████████████████████████████████████████████████████████████████| 140/140 [00:11<00:00, 11.95it/s, loss=0.021]\n"
     ]
    },
    {
     "name": "stdout",
     "output_type": "stream",
     "text": [
      "Ave Loss: 0.015434319851920009\n",
      "Ave Accuracy: 0.85111328125\n",
      "Ave F1: 0.6877583412629795\n",
      "Ave Precision: 0.7058327308407587\n",
      "Ave Recall: 0.7496580710492001\n",
      "Ave Specificity: 0.7496580710492001\n",
      "Saving model to test.pth...\n",
      "Epoch: 53\n"
     ]
    },
    {
     "name": "stderr",
     "output_type": "stream",
     "text": [
      "100%|███████████████████████████████████████████████████████████████████████████████████████████████████████████████████████████████████████████████████████████████| 140/140 [00:09<00:00, 15.02it/s, loss=0.0249]\n"
     ]
    },
    {
     "name": "stdout",
     "output_type": "stream",
     "text": [
      "Ave Loss: 0.015207135417897786\n",
      "Ave Accuracy: 0.85435546875\n",
      "Ave F1: 0.6877627911532901\n",
      "Ave Precision: 0.7087222760281531\n",
      "Ave Recall: 0.7438601305862305\n",
      "Ave Specificity: 0.7438601305862305\n",
      "Saving model to test.pth...\n",
      "Epoch: 54\n"
     ]
    },
    {
     "name": "stderr",
     "output_type": "stream",
     "text": [
      "100%|███████████████████████████████████████████████████████████████████████████████████████████████████████████████████████████████████████████████████████████████| 140/140 [00:10<00:00, 12.83it/s, loss=0.0233]\n"
     ]
    },
    {
     "name": "stdout",
     "output_type": "stream",
     "text": [
      "Ave Loss: 0.01564246283378452\n",
      "Ave Accuracy: 0.8577864583333333\n",
      "Ave F1: 0.6966669267788475\n",
      "Ave Precision: 0.7141545103292771\n",
      "Ave Recall: 0.759058521097733\n",
      "Ave Specificity: 0.759058521097733\n",
      "Saving model to test.pth...\n",
      "Epoch: 55\n"
     ]
    },
    {
     "name": "stderr",
     "output_type": "stream",
     "text": [
      "100%|███████████████████████████████████████████████████████████████████████████████████████████████████████████████████████████████████████████████████████████████| 140/140 [00:09<00:00, 14.26it/s, loss=0.0165]\n"
     ]
    },
    {
     "name": "stdout",
     "output_type": "stream",
     "text": [
      "Ave Loss: 0.015401247665951294\n",
      "Ave Accuracy: 0.8543001302083333\n",
      "Ave F1: 0.6867313566736934\n",
      "Ave Precision: 0.7071880850691942\n",
      "Ave Recall: 0.7425172572032075\n",
      "Ave Specificity: 0.7425172572032075\n",
      "Saving model to test.pth...\n",
      "Epoch: 56\n"
     ]
    },
    {
     "name": "stderr",
     "output_type": "stream",
     "text": [
      "100%|███████████████████████████████████████████████████████████████████████████████████████████████████████████████████████████████████████████████████████████████| 140/140 [00:10<00:00, 13.31it/s, loss=0.0171]\n"
     ]
    },
    {
     "name": "stdout",
     "output_type": "stream",
     "text": [
      "Ave Loss: 0.015037103027238378\n",
      "Ave Accuracy: 0.8516861979166667\n",
      "Ave F1: 0.6792746522295418\n",
      "Ave Precision: 0.7000374733435314\n",
      "Ave Recall: 0.7327934673677328\n",
      "Ave Specificity: 0.7327934673677328\n",
      "Saving model to test.pth...\n",
      "Epoch: 57\n"
     ]
    },
    {
     "name": "stderr",
     "output_type": "stream",
     "text": [
      "100%|███████████████████████████████████████████████████████████████████████████████████████████████████████████████████████████████████████████████████████████████| 140/140 [00:10<00:00, 12.99it/s, loss=0.0133]\n"
     ]
    },
    {
     "name": "stdout",
     "output_type": "stream",
     "text": [
      "Ave Loss: 0.014065269157955688\n",
      "Ave Accuracy: 0.8538216145833334\n",
      "Ave F1: 0.6826960868510694\n",
      "Ave Precision: 0.7034338717422922\n",
      "Ave Recall: 0.7352397213895897\n",
      "Ave Specificity: 0.7352397213895897\n",
      "Saving model to test.pth...\n",
      "Epoch: 58\n"
     ]
    },
    {
     "name": "stderr",
     "output_type": "stream",
     "text": [
      "100%|███████████████████████████████████████████████████████████████████████████████████████████████████████████████████████████████████████████████████████████████| 140/140 [00:10<00:00, 13.26it/s, loss=0.0193]\n"
     ]
    },
    {
     "name": "stdout",
     "output_type": "stream",
     "text": [
      "Ave Loss: 0.012959437158757022\n",
      "Ave Accuracy: 0.8541536458333333\n",
      "Ave F1: 0.6921370799506041\n",
      "Ave Precision: 0.7109191264589874\n",
      "Ave Recall: 0.7532972989902905\n",
      "Ave Specificity: 0.7532972989902905\n",
      "Saving model to test.pth...\n",
      "Epoch: 59\n"
     ]
    },
    {
     "name": "stderr",
     "output_type": "stream",
     "text": [
      "100%|███████████████████████████████████████████████████████████████████████████████████████████████████████████████████████████████████████████████████████████████| 140/140 [00:10<00:00, 13.68it/s, loss=0.0172]\n"
     ]
    },
    {
     "name": "stdout",
     "output_type": "stream",
     "text": [
      "Ave Loss: 0.011984461479421173\n",
      "Ave Accuracy: 0.8544303385416666\n",
      "Ave F1: 0.6979174243200899\n",
      "Ave Precision: 0.7130129402064505\n",
      "Ave Recall: 0.7648624405369118\n",
      "Ave Specificity: 0.7648624405369118\n",
      "Saving model to test.pth...\n",
      "Epoch: 60\n"
     ]
    },
    {
     "name": "stderr",
     "output_type": "stream",
     "text": [
      "100%|██████████████████████████████████████████████████████████████████████████████████████████████████████████████████████████████████████████████████████████████| 140/140 [00:10<00:00, 13.84it/s, loss=0.00991]\n"
     ]
    },
    {
     "name": "stdout",
     "output_type": "stream",
     "text": [
      "Ave Loss: 0.010921028971539012\n",
      "Ave Accuracy: 0.8582161458333334\n",
      "Ave F1: 0.6994443341402191\n",
      "Ave Precision: 0.7171706855634659\n",
      "Ave Recall: 0.7623885380502217\n",
      "Ave Specificity: 0.7623885380502217\n",
      "Saving model to test.pth...\n",
      "Epoch: 61\n"
     ]
    },
    {
     "name": "stderr",
     "output_type": "stream",
     "text": [
      "100%|███████████████████████████████████████████████████████████████████████████████████████████████████████████████████████████████████████████████████████████████| 140/140 [00:10<00:00, 13.41it/s, loss=0.0164]\n"
     ]
    },
    {
     "name": "stdout",
     "output_type": "stream",
     "text": [
      "Ave Loss: 0.01051441334919738\n",
      "Ave Accuracy: 0.8531966145833333\n",
      "Ave F1: 0.6930925696905549\n",
      "Ave Precision: 0.7094307883409698\n",
      "Ave Recall: 0.7563647634011402\n",
      "Ave Specificity: 0.7563647634011402\n",
      "Saving model to test.pth...\n",
      "Epoch: 62\n"
     ]
    },
    {
     "name": "stderr",
     "output_type": "stream",
     "text": [
      "100%|███████████████████████████████████████████████████████████████████████████████████████████████████████████████████████████████████████████████████████████████| 140/140 [00:08<00:00, 15.99it/s, loss=0.0119]\n"
     ]
    },
    {
     "name": "stdout",
     "output_type": "stream",
     "text": [
      "Ave Loss: 0.010720566972824079\n",
      "Ave Accuracy: 0.8532454427083334\n",
      "Ave F1: 0.6989562890892592\n",
      "Ave Precision: 0.7120301565319261\n",
      "Ave Recall: 0.7682972567924644\n",
      "Ave Specificity: 0.7682972567924644\n",
      "Saving model to test.pth...\n",
      "Epoch: 63\n"
     ]
    },
    {
     "name": "stderr",
     "output_type": "stream",
     "text": [
      "100%|███████████████████████████████████████████████████████████████████████████████████████████████████████████████████████████████████████████████████████████████| 140/140 [00:08<00:00, 16.71it/s, loss=0.0163]\n"
     ]
    },
    {
     "name": "stdout",
     "output_type": "stream",
     "text": [
      "Ave Loss: 0.010995918079944593\n",
      "Ave Accuracy: 0.8499283854166667\n",
      "Ave F1: 0.6969665001829943\n",
      "Ave Precision: 0.7085161270456051\n",
      "Ave Recall: 0.7698330523462825\n",
      "Ave Specificity: 0.7698330523462825\n",
      "Saving model to test.pth...\n",
      "Epoch: 64\n"
     ]
    },
    {
     "name": "stderr",
     "output_type": "stream",
     "text": [
      "100%|███████████████████████████████████████████████████████████████████████████████████████████████████████████████████████████████████████████████████████████████| 140/140 [00:09<00:00, 14.09it/s, loss=0.0187]\n"
     ]
    },
    {
     "name": "stdout",
     "output_type": "stream",
     "text": [
      "Ave Loss: 0.010928078448133809\n",
      "Ave Accuracy: 0.8472135416666666\n",
      "Ave F1: 0.6823858240001078\n",
      "Ave Precision: 0.6991871071172817\n",
      "Ave Recall: 0.7459432279730868\n",
      "Ave Specificity: 0.7459432279730868\n",
      "Saving model to test.pth...\n",
      "Epoch: 65\n"
     ]
    },
    {
     "name": "stderr",
     "output_type": "stream",
     "text": [
      "100%|███████████████████████████████████████████████████████████████████████████████████████████████████████████████████████████████████████████████████████████████| 140/140 [00:12<00:00, 11.44it/s, loss=0.0147]\n"
     ]
    },
    {
     "name": "stdout",
     "output_type": "stream",
     "text": [
      "Ave Loss: 0.011593966921126204\n",
      "Ave Accuracy: 0.8483756510416667\n",
      "Ave F1: 0.6696148832434872\n",
      "Ave Precision: 0.6951965838656221\n",
      "Ave Recall: 0.718750719755402\n",
      "Ave Specificity: 0.718750719755402\n",
      "Saving model to test.pth...\n",
      "Epoch: 66\n"
     ]
    },
    {
     "name": "stderr",
     "output_type": "stream",
     "text": [
      "100%|███████████████████████████████████████████████████████████████████████████████████████████████████████████████████████████████████████████████████████████████| 140/140 [00:13<00:00, 10.71it/s, loss=0.0165]\n"
     ]
    },
    {
     "name": "stdout",
     "output_type": "stream",
     "text": [
      "Ave Loss: 0.012056678548521762\n",
      "Ave Accuracy: 0.8520540364583333\n",
      "Ave F1: 0.6817069103572336\n",
      "Ave Precision: 0.7025107175958529\n",
      "Ave Recall: 0.7366394993426013\n",
      "Ave Specificity: 0.7366394993426013\n",
      "Saving model to test.pth...\n",
      "Epoch: 67\n"
     ]
    },
    {
     "name": "stderr",
     "output_type": "stream",
     "text": [
      "100%|███████████████████████████████████████████████████████████████████████████████████████████████████████████████████████████████████████████████████████████████| 140/140 [00:09<00:00, 15.03it/s, loss=0.0126]\n"
     ]
    },
    {
     "name": "stdout",
     "output_type": "stream",
     "text": [
      "Ave Loss: 0.012149776458474142\n",
      "Ave Accuracy: 0.8579134114583333\n",
      "Ave F1: 0.7003903198413438\n",
      "Ave Precision: 0.715463506756262\n",
      "Ave Recall: 0.7639767652596396\n",
      "Ave Specificity: 0.7639767652596396\n",
      "Saving model to test.pth...\n",
      "Epoch: 68\n"
     ]
    },
    {
     "name": "stderr",
     "output_type": "stream",
     "text": [
      "100%|███████████████████████████████████████████████████████████████████████████████████████████████████████████████████████████████████████████████████████████████| 140/140 [00:09<00:00, 15.40it/s, loss=0.0207]\n"
     ]
    },
    {
     "name": "stdout",
     "output_type": "stream",
     "text": [
      "Ave Loss: 0.011159555377837803\n",
      "Ave Accuracy: 0.8561002604166666\n",
      "Ave F1: 0.6961014305941585\n",
      "Ave Precision: 0.7109824727096723\n",
      "Ave Recall: 0.7590451608295679\n",
      "Ave Specificity: 0.7590451608295679\n",
      "Saving model to test.pth...\n",
      "Epoch: 69\n"
     ]
    },
    {
     "name": "stderr",
     "output_type": "stream",
     "text": [
      "100%|███████████████████████████████████████████████████████████████████████████████████████████████████████████████████████████████████████████████████████████████| 140/140 [00:09<00:00, 14.03it/s, loss=0.0128]\n"
     ]
    },
    {
     "name": "stdout",
     "output_type": "stream",
     "text": [
      "Ave Loss: 0.009470618615991303\n",
      "Ave Accuracy: 0.856953125\n",
      "Ave F1: 0.6964382393289962\n",
      "Ave Precision: 0.7142332176995537\n",
      "Ave Recall: 0.7574521750388339\n",
      "Ave Specificity: 0.7574521750388339\n",
      "Saving model to test.pth...\n",
      "Epoch: 70\n"
     ]
    },
    {
     "name": "stderr",
     "output_type": "stream",
     "text": [
      "100%|███████████████████████████████████████████████████████████████████████████████████████████████████████████████████████████████████████████████████████████████| 140/140 [00:10<00:00, 13.40it/s, loss=0.0118]\n"
     ]
    },
    {
     "name": "stdout",
     "output_type": "stream",
     "text": [
      "Ave Loss: 0.008435193189818944\n",
      "Ave Accuracy: 0.853701171875\n",
      "Ave F1: 0.6935167351485674\n",
      "Ave Precision: 0.7095533664836633\n",
      "Ave Recall: 0.7566553776585216\n",
      "Ave Specificity: 0.7566553776585216\n",
      "Saving model to test.pth...\n",
      "Epoch: 71\n"
     ]
    },
    {
     "name": "stderr",
     "output_type": "stream",
     "text": [
      "100%|██████████████████████████████████████████████████████████████████████████████████████████████████████████████████████████████████████████████████████████████| 140/140 [00:10<00:00, 13.02it/s, loss=0.00839]\n"
     ]
    },
    {
     "name": "stdout",
     "output_type": "stream",
     "text": [
      "Ave Loss: 0.007013529213145376\n",
      "Ave Accuracy: 0.857158203125\n",
      "Ave F1: 0.6988590122540871\n",
      "Ave Precision: 0.7149670340678635\n",
      "Ave Recall: 0.7627027097258658\n",
      "Ave Specificity: 0.7627027097258658\n",
      "Saving model to test.pth...\n",
      "Epoch: 72\n"
     ]
    },
    {
     "name": "stderr",
     "output_type": "stream",
     "text": [
      "100%|███████████████████████████████████████████████████████████████████████████████████████████████████████████████████████████████████████████████████████████████| 140/140 [00:11<00:00, 12.37it/s, loss=0.0105]\n"
     ]
    },
    {
     "name": "stdout",
     "output_type": "stream",
     "text": [
      "Ave Loss: 0.005818060701546658\n",
      "Ave Accuracy: 0.8565071614583334\n",
      "Ave F1: 0.6813933686753333\n",
      "Ave Precision: 0.7059019079889775\n",
      "Ave Recall: 0.7300449550476057\n",
      "Ave Specificity: 0.7300449550476057\n",
      "Saving model to test.pth...\n",
      "Epoch: 73\n"
     ]
    },
    {
     "name": "stderr",
     "output_type": "stream",
     "text": [
      "100%|██████████████████████████████████████████████████████████████████████████████████████████████████████████████████████████████████████████████████████████████| 140/140 [00:11<00:00, 12.37it/s, loss=0.00978]\n"
     ]
    },
    {
     "name": "stdout",
     "output_type": "stream",
     "text": [
      "Ave Loss: 0.004910775638251964\n",
      "Ave Accuracy: 0.8560481770833334\n",
      "Ave F1: 0.6845398273312436\n",
      "Ave Precision: 0.7065636248770724\n",
      "Ave Recall: 0.7362736371841211\n",
      "Ave Specificity: 0.7362736371841211\n",
      "Saving model to test.pth...\n",
      "Epoch: 74\n"
     ]
    },
    {
     "name": "stderr",
     "output_type": "stream",
     "text": [
      "100%|██████████████████████████████████████████████████████████████████████████████████████████████████████████████████████████████████████████████████████████████| 140/140 [00:09<00:00, 15.44it/s, loss=0.00373]\n"
     ]
    },
    {
     "name": "stdout",
     "output_type": "stream",
     "text": [
      "Ave Loss: 0.00437401171158334\n",
      "Ave Accuracy: 0.8573274739583333\n",
      "Ave F1: 0.6901276310095624\n",
      "Ave Precision: 0.7114579478190665\n",
      "Ave Recall: 0.7435786193153008\n",
      "Ave Specificity: 0.7435786193153008\n",
      "Saving model to test.pth...\n",
      "Epoch: 75\n"
     ]
    },
    {
     "name": "stderr",
     "output_type": "stream",
     "text": [
      "100%|██████████████████████████████████████████████████████████████████████████████████████████████████████████████████████████████████████████████████████████████| 140/140 [00:12<00:00, 11.66it/s, loss=0.00422]\n"
     ]
    },
    {
     "name": "stdout",
     "output_type": "stream",
     "text": [
      "Ave Loss: 0.0042192446009721605\n",
      "Ave Accuracy: 0.8584993489583334\n",
      "Ave F1: 0.6917296949694413\n",
      "Ave Precision: 0.7132237579462011\n",
      "Ave Recall: 0.7456104147325898\n",
      "Ave Specificity: 0.7456104147325898\n",
      "Saving model to test.pth...\n",
      "Epoch: 76\n"
     ]
    },
    {
     "name": "stderr",
     "output_type": "stream",
     "text": [
      "100%|██████████████████████████████████████████████████████████████████████████████████████████████████████████████████████████████████████████████████████████████| 140/140 [00:10<00:00, 13.67it/s, loss=0.00348]\n"
     ]
    },
    {
     "name": "stdout",
     "output_type": "stream",
     "text": [
      "Ave Loss: 0.00421200628625229\n",
      "Ave Accuracy: 0.857412109375\n",
      "Ave F1: 0.6857626310705028\n",
      "Ave Precision: 0.7090988261463215\n",
      "Ave Recall: 0.7360133902242063\n",
      "Ave Specificity: 0.7360133902242063\n",
      "Saving model to test.pth...\n",
      "Epoch: 77\n"
     ]
    },
    {
     "name": "stderr",
     "output_type": "stream",
     "text": [
      "100%|██████████████████████████████████████████████████████████████████████████████████████████████████████████████████████████████████████████████████████████████| 140/140 [00:09<00:00, 15.03it/s, loss=0.00361]\n"
     ]
    },
    {
     "name": "stdout",
     "output_type": "stream",
     "text": [
      "Ave Loss: 0.004172943075120982\n",
      "Ave Accuracy: 0.8563411458333333\n",
      "Ave F1: 0.6812931683989654\n",
      "Ave Precision: 0.7065340130103469\n",
      "Ave Recall: 0.7295163501638599\n",
      "Ave Specificity: 0.7295163501638599\n",
      "Saving model to test.pth...\n",
      "Epoch: 78\n"
     ]
    },
    {
     "name": "stderr",
     "output_type": "stream",
     "text": [
      "100%|██████████████████████████████████████████████████████████████████████████████████████████████████████████████████████████████████████████████████████████████| 140/140 [00:09<00:00, 15.32it/s, loss=0.00409]\n"
     ]
    },
    {
     "name": "stdout",
     "output_type": "stream",
     "text": [
      "Ave Loss: 0.004277570307853498\n",
      "Ave Accuracy: 0.8565006510416666\n",
      "Ave F1: 0.6798193630822911\n",
      "Ave Precision: 0.7055221894258438\n",
      "Ave Recall: 0.7262167779761616\n",
      "Ave Specificity: 0.7262167779761616\n",
      "Saving model to test.pth...\n",
      "Epoch: 79\n"
     ]
    },
    {
     "name": "stderr",
     "output_type": "stream",
     "text": [
      "100%|██████████████████████████████████████████████████████████████████████████████████████████████████████████████████████████████████████████████████████████████| 140/140 [00:09<00:00, 14.41it/s, loss=0.00447]\n"
     ]
    },
    {
     "name": "stdout",
     "output_type": "stream",
     "text": [
      "Ave Loss: 0.004810866757595379\n",
      "Ave Accuracy: 0.8540559895833333\n",
      "Ave F1: 0.6837076285520391\n",
      "Ave Precision: 0.7056603854614926\n",
      "Ave Recall: 0.7362871084732445\n",
      "Ave Specificity: 0.7362871084732445\n",
      "Saving model to test.pth...\n",
      "Epoch: 80\n"
     ]
    },
    {
     "name": "stderr",
     "output_type": "stream",
     "text": [
      "100%|██████████████████████████████████████████████████████████████████████████████████████████████████████████████████████████████████████████████████████████████| 140/140 [00:10<00:00, 12.86it/s, loss=0.00885]\n"
     ]
    },
    {
     "name": "stdout",
     "output_type": "stream",
     "text": [
      "Ave Loss: 0.005391285612547238\n",
      "Ave Accuracy: 0.850419921875\n",
      "Ave F1: 0.6814664171701075\n",
      "Ave Precision: 0.7000947597185999\n",
      "Ave Recall: 0.7391704621975186\n",
      "Ave Specificity: 0.7391704621975186\n",
      "Saving model to test.pth...\n",
      "Epoch: 81\n"
     ]
    },
    {
     "name": "stderr",
     "output_type": "stream",
     "text": [
      "100%|██████████████████████████████████████████████████████████████████████████████████████████████████████████████████████████████████████████████████████████████| 140/140 [00:10<00:00, 13.42it/s, loss=0.00828]\n"
     ]
    },
    {
     "name": "stdout",
     "output_type": "stream",
     "text": [
      "Ave Loss: 0.005617819008849828\n",
      "Ave Accuracy: 0.8500065104166666\n",
      "Ave F1: 0.6829091527126572\n",
      "Ave Precision: 0.7008861312430142\n",
      "Ave Recall: 0.742422088101571\n",
      "Ave Specificity: 0.742422088101571\n",
      "Saving model to test.pth...\n",
      "Epoch: 82\n"
     ]
    },
    {
     "name": "stderr",
     "output_type": "stream",
     "text": [
      "100%|███████████████████████████████████████████████████████████████████████████████████████████████████████████████████████████████████████████████████████████████| 140/140 [00:09<00:00, 15.30it/s, loss=0.0139]\n"
     ]
    },
    {
     "name": "stdout",
     "output_type": "stream",
     "text": [
      "Ave Loss: 0.006057775486260653\n",
      "Ave Accuracy: 0.858203125\n",
      "Ave F1: 0.6964512441164511\n",
      "Ave Precision: 0.7134305866131004\n",
      "Ave Recall: 0.7572667280759589\n",
      "Ave Specificity: 0.7572667280759589\n",
      "Saving model to test.pth...\n",
      "Epoch: 83\n"
     ]
    },
    {
     "name": "stderr",
     "output_type": "stream",
     "text": [
      "100%|███████████████████████████████████████████████████████████████████████████████████████████████████████████████████████████████████████████████████████████████| 140/140 [00:09<00:00, 15.24it/s, loss=0.0117]\n"
     ]
    },
    {
     "name": "stdout",
     "output_type": "stream",
     "text": [
      "Ave Loss: 0.00658129424638381\n",
      "Ave Accuracy: 0.8563346354166667\n",
      "Ave F1: 0.6965959753552577\n",
      "Ave Precision: 0.7120228953060868\n",
      "Ave Recall: 0.7600022222169206\n",
      "Ave Specificity: 0.7600022222169206\n",
      "Saving model to test.pth...\n",
      "Epoch: 84\n"
     ]
    },
    {
     "name": "stderr",
     "output_type": "stream",
     "text": [
      "100%|██████████████████████████████████████████████████████████████████████████████████████████████████████████████████████████████████████████████████████████████| 140/140 [00:08<00:00, 16.06it/s, loss=0.00968]\n"
     ]
    },
    {
     "name": "stdout",
     "output_type": "stream",
     "text": [
      "Ave Loss: 0.0077830105454527905\n",
      "Ave Accuracy: 0.8570735677083333\n",
      "Ave F1: 0.6913746376229916\n",
      "Ave Precision: 0.7101107260526732\n",
      "Ave Recall: 0.7485937727694739\n",
      "Ave Specificity: 0.7485937727694739\n",
      "Saving model to test.pth...\n",
      "Epoch: 85\n"
     ]
    },
    {
     "name": "stderr",
     "output_type": "stream",
     "text": [
      "100%|██████████████████████████████████████████████████████████████████████████████████████████████████████████████████████████████████████████████████████████████| 140/140 [00:09<00:00, 14.29it/s, loss=0.00763]\n"
     ]
    },
    {
     "name": "stdout",
     "output_type": "stream",
     "text": [
      "Ave Loss: 0.00820197937843789\n",
      "Ave Accuracy: 0.8580143229166667\n",
      "Ave F1: 0.6857908807444177\n",
      "Ave Precision: 0.7093492079555366\n",
      "Ave Recall: 0.7366993916788849\n",
      "Ave Specificity: 0.7366993916788849\n",
      "Saving model to test.pth...\n",
      "Epoch: 86\n"
     ]
    },
    {
     "name": "stderr",
     "output_type": "stream",
     "text": [
      "100%|███████████████████████████████████████████████████████████████████████████████████████████████████████████████████████████████████████████████████████████████| 140/140 [00:10<00:00, 13.76it/s, loss=0.0173]\n"
     ]
    },
    {
     "name": "stdout",
     "output_type": "stream",
     "text": [
      "Ave Loss: 0.007707505072799645\n",
      "Ave Accuracy: 0.8560416666666667\n",
      "Ave F1: 0.6855556209903128\n",
      "Ave Precision: 0.7063367924343755\n",
      "Ave Recall: 0.7380403559609787\n",
      "Ave Specificity: 0.7380403559609787\n",
      "Saving model to test.pth...\n",
      "Epoch: 87\n"
     ]
    },
    {
     "name": "stderr",
     "output_type": "stream",
     "text": [
      "100%|██████████████████████████████████████████████████████████████████████████████████████████████████████████████████████████████████████████████████████████████| 140/140 [00:11<00:00, 12.65it/s, loss=0.00504]\n"
     ]
    },
    {
     "name": "stdout",
     "output_type": "stream",
     "text": [
      "Ave Loss: 0.004922767213013555\n",
      "Ave Accuracy: 0.8539583333333334\n",
      "Ave F1: 0.6862214111262772\n",
      "Ave Precision: 0.7051832428822636\n",
      "Ave Recall: 0.7429958748491544\n",
      "Ave Specificity: 0.7429958748491544\n",
      "Saving model to test.pth...\n",
      "Epoch: 88\n"
     ]
    },
    {
     "name": "stderr",
     "output_type": "stream",
     "text": [
      "100%|██████████████████████████████████████████████████████████████████████████████████████████████████████████████████████████████████████████████████████████████| 140/140 [00:08<00:00, 15.62it/s, loss=0.00612]\n"
     ]
    },
    {
     "name": "stdout",
     "output_type": "stream",
     "text": [
      "Ave Loss: 0.0025033063878903963\n",
      "Ave Accuracy: 0.8585026041666667\n",
      "Ave F1: 0.69213350652715\n",
      "Ave Precision: 0.7125445049327044\n",
      "Ave Recall: 0.7475462696956763\n",
      "Ave Specificity: 0.7475462696956763\n",
      "Saving model to test.pth...\n",
      "Epoch: 89\n"
     ]
    },
    {
     "name": "stderr",
     "output_type": "stream",
     "text": [
      "100%|██████████████████████████████████████████████████████████████████████████████████████████████████████████████████████████████████████████████████████████████| 140/140 [00:10<00:00, 13.36it/s, loss=0.00197]\n"
     ]
    },
    {
     "name": "stdout",
     "output_type": "stream",
     "text": [
      "Ave Loss: 0.0013298649667246667\n",
      "Ave Accuracy: 0.8577669270833334\n",
      "Ave F1: 0.6925593799795302\n",
      "Ave Precision: 0.7118051142395849\n",
      "Ave Recall: 0.7484416425649447\n",
      "Ave Specificity: 0.7484416425649447\n",
      "Saving model to test.pth...\n",
      "Epoch: 90\n"
     ]
    },
    {
     "name": "stderr",
     "output_type": "stream",
     "text": [
      "100%|███████████████████████████████████████████████████████████████████████████████████████████████████████████████████████████████████████████████████████████████| 140/140 [00:10<00:00, 13.36it/s, loss=0.0017]\n"
     ]
    },
    {
     "name": "stdout",
     "output_type": "stream",
     "text": [
      "Ave Loss: 0.0008548050249893484\n",
      "Ave Accuracy: 0.8607454427083333\n",
      "Ave F1: 0.6924172571165392\n",
      "Ave Precision: 0.7158837199989097\n",
      "Ave Recall: 0.7438936867304513\n",
      "Ave Specificity: 0.7438936867304513\n",
      "Saving model to test.pth...\n",
      "Epoch: 91\n"
     ]
    },
    {
     "name": "stderr",
     "output_type": "stream",
     "text": [
      "100%|█████████████████████████████████████████████████████████████████████████████████████████████████████████████████████████████████████████████████████████████| 140/140 [00:09<00:00, 15.33it/s, loss=0.000963]\n"
     ]
    },
    {
     "name": "stdout",
     "output_type": "stream",
     "text": [
      "Ave Loss: 0.0006235844423437292\n",
      "Ave Accuracy: 0.8604036458333333\n",
      "Ave F1: 0.6913779681153661\n",
      "Ave Precision: 0.7154642534425976\n",
      "Ave Recall: 0.7420602034321239\n",
      "Ave Specificity: 0.7420602034321239\n",
      "Saving model to test.pth...\n",
      "Epoch: 92\n"
     ]
    },
    {
     "name": "stderr",
     "output_type": "stream",
     "text": [
      "100%|█████████████████████████████████████████████████████████████████████████████████████████████████████████████████████████████████████████████████████████████| 140/140 [00:08<00:00, 17.01it/s, loss=0.000709]\n"
     ]
    },
    {
     "name": "stdout",
     "output_type": "stream",
     "text": [
      "Ave Loss: 0.0004967395536368713\n",
      "Ave Accuracy: 0.86052734375\n",
      "Ave F1: 0.6908812141898437\n",
      "Ave Precision: 0.7150358253830145\n",
      "Ave Recall: 0.7413548255976172\n",
      "Ave Specificity: 0.7413548255976172\n",
      "Saving model to test.pth...\n",
      "Epoch: 93\n"
     ]
    },
    {
     "name": "stderr",
     "output_type": "stream",
     "text": [
      "100%|██████████████████████████████████████████████████████████████████████████████████████████████████████████████████████████████████████████████████████████████| 140/140 [00:09<00:00, 14.80it/s, loss=0.00064]\n"
     ]
    },
    {
     "name": "stdout",
     "output_type": "stream",
     "text": [
      "Ave Loss: 0.0004325221583712846\n",
      "Ave Accuracy: 0.8599251302083334\n",
      "Ave F1: 0.6905094184513328\n",
      "Ave Precision: 0.7143689391866193\n",
      "Ave Recall: 0.741418880570721\n",
      "Ave Specificity: 0.741418880570721\n",
      "Saving model to test.pth...\n",
      "Epoch: 94\n"
     ]
    },
    {
     "name": "stderr",
     "output_type": "stream",
     "text": [
      "100%|██████████████████████████████████████████████████████████████████████████████████████████████████████████████████████████████████████████████████████████████| 140/140 [00:09<00:00, 14.19it/s, loss=0.00064]\n"
     ]
    },
    {
     "name": "stdout",
     "output_type": "stream",
     "text": [
      "Ave Loss: 0.00039547742656265784\n",
      "Ave Accuracy: 0.85998046875\n",
      "Ave F1: 0.6891101148671042\n",
      "Ave Precision: 0.7136954147866365\n",
      "Ave Recall: 0.7389299871086638\n",
      "Ave Specificity: 0.7389299871086638\n",
      "Saving model to test.pth...\n",
      "Epoch: 95\n"
     ]
    },
    {
     "name": "stderr",
     "output_type": "stream",
     "text": [
      "100%|█████████████████████████████████████████████████████████████████████████████████████████████████████████████████████████████████████████████████████████████| 140/140 [00:09<00:00, 14.56it/s, loss=0.000631]\n"
     ]
    },
    {
     "name": "stdout",
     "output_type": "stream",
     "text": [
      "Ave Loss: 0.0003702907570446509\n",
      "Ave Accuracy: 0.8598958333333333\n",
      "Ave F1: 0.68993341184953\n",
      "Ave Precision: 0.7141148464740733\n",
      "Ave Recall: 0.740421231031406\n",
      "Ave Specificity: 0.740421231031406\n",
      "Saving model to test.pth...\n",
      "Epoch: 96\n"
     ]
    },
    {
     "name": "stderr",
     "output_type": "stream",
     "text": [
      "100%|█████████████████████████████████████████████████████████████████████████████████████████████████████████████████████████████████████████████████████████████| 140/140 [00:09<00:00, 14.98it/s, loss=0.000695]\n"
     ]
    },
    {
     "name": "stdout",
     "output_type": "stream",
     "text": [
      "Ave Loss: 0.00035062573328364775\n",
      "Ave Accuracy: 0.8595279947916666\n",
      "Ave F1: 0.6886575186416484\n",
      "Ave Precision: 0.7131242031673549\n",
      "Ave Recall: 0.7386490284227146\n",
      "Ave Specificity: 0.7386490284227146\n",
      "Saving model to test.pth...\n",
      "Epoch: 97\n"
     ]
    },
    {
     "name": "stderr",
     "output_type": "stream",
     "text": [
      "100%|██████████████████████████████████████████████████████████████████████████████████████████████████████████████████████████████████████████████████████████████| 140/140 [00:10<00:00, 13.73it/s, loss=0.00084]\n"
     ]
    },
    {
     "name": "stdout",
     "output_type": "stream",
     "text": [
      "Ave Loss: 0.0003520451675285585\n",
      "Ave Accuracy: 0.859775390625\n",
      "Ave F1: 0.6898206617210108\n",
      "Ave Precision: 0.7140424849642099\n",
      "Ave Recall: 0.740371432332736\n",
      "Ave Specificity: 0.740371432332736\n",
      "Saving model to test.pth...\n",
      "Epoch: 98\n"
     ]
    },
    {
     "name": "stderr",
     "output_type": "stream",
     "text": [
      "100%|████████████████████████████████████████████████████████████████████████████████████████████████████████████████████████████████████████████████████████████████| 140/140 [00:10<00:00, 13.65it/s, loss=0.001]\n"
     ]
    },
    {
     "name": "stdout",
     "output_type": "stream",
     "text": [
      "Ave Loss: 0.00039939425571771736\n",
      "Ave Accuracy: 0.8595377604166666\n",
      "Ave F1: 0.688894895181711\n",
      "Ave Precision: 0.7125971554397222\n",
      "Ave Recall: 0.739144327768974\n",
      "Ave Specificity: 0.739144327768974\n",
      "Saving model to test.pth...\n",
      "Epoch: 99\n"
     ]
    },
    {
     "name": "stderr",
     "output_type": "stream",
     "text": [
      "100%|██████████████████████████████████████████████████████████████████████████████████████████████████████████████████████████████████████████████████████████████| 140/140 [00:09<00:00, 14.05it/s, loss=0.00177]\n"
     ]
    },
    {
     "name": "stdout",
     "output_type": "stream",
     "text": [
      "Ave Loss: 0.0007127329227971911\n",
      "Ave Accuracy: 0.859892578125\n",
      "Ave F1: 0.6892792393329282\n",
      "Ave Precision: 0.7140760024424172\n",
      "Ave Recall: 0.7391422497703256\n",
      "Ave Specificity: 0.7391422497703256\n",
      "Saving model to test.pth...\n",
      "Number of Parameters: 27057181\n"
     ]
    }
   ],
   "source": [
    "img_height     = 128\n",
    "img_width      = 128\n",
    "device         = 'cuda'\n",
    "gpu_index      = 0\n",
    "input_img_dir  = train_images_dir\n",
    "input_mask_dir = train_masks_dir\n",
    "model_file     = \"test.pth\"\n",
    "epochs         = 100\n",
    "learning_rate  = 1e-005\n",
    "in_channels    = 3\n",
    "out_channels   = 2\n",
    "batch_size     = 5\n",
    "loss_type      = 'CE'\n",
    "model_type     = 'unet_rd'\n",
    "labels         = [0, 1]\n",
    "\n",
    "params = {\n",
    "    'img_height':     img_height,\n",
    "    'img_width':      img_width,\n",
    "    'device':         device,\n",
    "    'gpu_index':      gpu_index,\n",
    "    'input_img_dir':  input_img_dir,\n",
    "    'input_mask_dir': input_mask_dir,\n",
    "    'epochs':         epochs,\n",
    "    'learning_rate':  learning_rate,\n",
    "    'in_channels':    in_channels,\n",
    "    'out_channels':   out_channels,\n",
    "    'loss_type':      loss_type,\n",
    "    'batch_size':     batch_size,\n",
    "    'model_file':     model_file,\n",
    "    'test_img_dir':   test_images_dir,\n",
    "    'test_mask_dir':  test_masks_dir,\n",
    "    'model_type':     model_type\n",
    "}\n",
    "\n",
    "cmd = Train(params=params)\n",
    "\n",
    "cmd.execute()\n",
    "\n",
    "model = cmd.model\n",
    "\n",
    "num_parameters = count_parameters(model)\n",
    "\n",
    "print(\"Number of Parameters: {}\".format(num_parameters))"
   ]
  },
  {
   "cell_type": "code",
   "execution_count": 4,
   "id": "2a8b39c4",
   "metadata": {},
   "outputs": [
    {
     "data": {
      "image/png": "[encoded data removed]",
      "text/plain": [
       "<Figure size 432x288 with 1 Axes>"
      ]
     },
     "metadata": {
      "needs_background": "light"
     },
     "output_type": "display_data"
    }
   ],
   "source": [
    "plt.plot(cmd.losses, label='loss', color='red')\n",
    "plt.plot(cmd.accuracies, label='accuracy', color='blue')\n",
    "plt.plot(cmd.f1s, label='f1', color='green')\n",
    "plt.plot(cmd.precisions, label='precision', color='gold')\n",
    "plt.plot(cmd.recalls, label='recall', color='teal')\n",
    "plt.plot(cmd.specificities, label='specificity', color='purple')\n",
    "plt.title('Training Evaluation {}'.format(model_type), fontsize=14)\n",
    "plt.xlabel('Epoch', fontsize=11)\n",
    "plt.ylabel('Magnitude', fontsize=11)\n",
    "plt.grid(True)\n",
    "plt.legend()\n",
    "plt.show()"
   ]
  },
  {
   "cell_type": "code",
   "execution_count": 5,
   "id": "66b36eb9",
   "metadata": {},
   "outputs": [
    {
     "data": {
      "image/png": "[encoded data removed]",
      "text/plain": [
       "<Figure size 864x5760 with 60 Axes>"
      ]
     },
     "metadata": {
      "needs_background": "light"
     },
     "output_type": "display_data"
    }
   ],
   "source": [
    "images = sorted(glob.glob(\"{}/*\".format(test_images_dir)))\n",
    "masks  = sorted(glob.glob(\"{}/*\".format(test_masks_dir)))\n",
    "\n",
    "dim = (img_width, img_height)\n",
    "\n",
    "num_images = 20\n",
    "num_cols   = 3\n",
    "\n",
    "col_names = [\n",
    "    \"Original\",\n",
    "    \"Ground Truth\",\n",
    "    \"Prediction\"\n",
    "]\n",
    "\n",
    "fig, axes = plt.subplots(nrows=num_images, ncols=num_cols, figsize=(num_cols*4, num_images*4))\n",
    "\n",
    "for ax, col in zip(axes[0], col_names):\n",
    "    ax.set_title(col)\n",
    "    \n",
    "counter = 0\n",
    "\n",
    "scores = []\n",
    "\n",
    "for i in range(num_images):\n",
    "    image_file = images[i]\n",
    "    mask_file  = masks[i]\n",
    "    \n",
    "    img  = get_image(image_file, dim)\n",
    "    mask = get_mask(mask_file, dim)\n",
    "    \n",
    "    prediction = get_predicted_img(img, model)\n",
    "    \n",
    "    counter += 1\n",
    "    \n",
    "    plt.subplot(num_images, num_cols, counter)\n",
    "    plt.imshow(img)\n",
    "    \n",
    "    counter += 1\n",
    "    \n",
    "    plt.subplot(num_images, num_cols, counter)\n",
    "    plt.imshow(mask)\n",
    "    \n",
    "    counter += 1\n",
    "    \n",
    "    plt.subplot(num_images, num_cols, counter)\n",
    "    plt.imshow(prediction)\n",
    "    \n",
    "    mask_vectorized = mask.ravel().astype(int)\n",
    "    prediction_vectorized = prediction.ravel().astype(int)\n",
    "    \n",
    "    macro_score = jaccard_score(mask_vectorized, prediction_vectorized, average='macro')\n",
    "    label_score = jaccard_score(mask_vectorized, prediction_vectorized, average=None)\n",
    "    \n",
    "    label_specificity = recall_score(mask_vectorized, prediction_vectorized, labels=labels, average=None, zero_division=1)\n",
    "    label_recall      = recall_score(mask_vectorized, prediction_vectorized, average=None, zero_division=1)\n",
    "    \n",
    "    f1          = f1_score(mask_vectorized, prediction_vectorized, average='macro', zero_division=1)\n",
    "    accuracy    = accuracy_score(mask_vectorized, prediction_vectorized)\n",
    "    precision   = precision_score(mask_vectorized, prediction_vectorized, average='macro', zero_division=1)\n",
    "    recall      = recall_score(mask_vectorized, prediction_vectorized, average='macro', zero_division=1) # sensitivity\n",
    "    specificity = recall_score(mask_vectorized, prediction_vectorized, labels=labels, average='macro', zero_division=1)\n",
    "    \n",
    "    jaccard_score_0 = None\n",
    "    jaccard_score_1 = None\n",
    "    \n",
    "    specificity_0 = None\n",
    "    specificity_1 = None\n",
    "    \n",
    "    recall_0 = None\n",
    "    recall_1 = None\n",
    "    \n",
    "    dice_0 = dice_score(mask_vectorized, prediction_vectorized, k=0)\n",
    "    dice_1 = dice_score(mask_vectorized, prediction_vectorized, k=1)\n",
    "    \n",
    "    for i in range(len(label_score)):\n",
    "        if i == 0:\n",
    "            jaccard_score_0 = label_score[i]\n",
    "        elif i == 1:\n",
    "            jaccard_score_1 = label_score[i]\n",
    "            \n",
    "    for i in range(len(label_specificity)):\n",
    "        if i == 0:\n",
    "            specificity_0    = label_specificity[i]\n",
    "        elif i == 1:\n",
    "            specificity_1    = label_specificity[i]\n",
    "            \n",
    "    for i in range(len(label_recall)):\n",
    "        if i == 0:\n",
    "            recall_0 = label_recall[i]\n",
    "        elif i == 1:\n",
    "            recall_1 = label_recall[i]\n",
    "        \n",
    "    \n",
    "    \n",
    "    scores.append({\n",
    "        'image_file':  image_file,\n",
    "        'mask_file':   mask_file,\n",
    "        'jaccard_score': macro_score,\n",
    "        'f1_score': f1,\n",
    "        'accuracy': accuracy,\n",
    "        'precision': precision,\n",
    "        'recall': recall,\n",
    "        'precision': precision,\n",
    "        'specificity': specificity,\n",
    "        'jaccard_score_0': jaccard_score_0,\n",
    "        'jaccard_score_1': jaccard_score_1,\n",
    "        'specificity_0': specificity_0,\n",
    "        'specificity_1': specificity_1,\n",
    "        'recall_0': recall_0,\n",
    "        'recall_1': recall_1,\n",
    "        'dice_0': dice_0,\n",
    "        'dice_1': dice_1,\n",
    "    })\n",
    "\n",
    "plt.show()"
   ]
  },
  {
   "cell_type": "code",
   "execution_count": 6,
   "id": "f3cf07fe",
   "metadata": {},
   "outputs": [
    {
     "data": {
      "text/html": [
       "<div>\n",
       "<style scoped>\n",
       "    .dataframe tbody tr th:only-of-type {\n",
       "        vertical-align: middle;\n",
       "    }\n",
       "\n",
       "    .dataframe tbody tr th {\n",
       "        vertical-align: top;\n",
       "    }\n",
       "\n",
       "    .dataframe thead th {\n",
       "        text-align: right;\n",
       "    }\n",
       "</style>\n",
       "<table border=\"1\" class=\"dataframe\">\n",
       "  <thead>\n",
       "    <tr style=\"text-align: right;\">\n",
       "      <th></th>\n",
       "      <th>image_file</th>\n",
       "      <th>mask_file</th>\n",
       "      <th>jaccard_score</th>\n",
       "      <th>f1_score</th>\n",
       "      <th>accuracy</th>\n",
       "      <th>precision</th>\n",
       "      <th>recall</th>\n",
       "      <th>specificity</th>\n",
       "      <th>jaccard_score_0</th>\n",
       "      <th>jaccard_score_1</th>\n",
       "      <th>specificity_0</th>\n",
       "      <th>specificity_1</th>\n",
       "      <th>recall_0</th>\n",
       "      <th>recall_1</th>\n",
       "      <th>dice_0</th>\n",
       "      <th>dice_1</th>\n",
       "    </tr>\n",
       "  </thead>\n",
       "  <tbody>\n",
       "    <tr>\n",
       "      <th>0</th>\n",
       "      <td>./tmp/test/images/cju0qx73cjw570799j4n5cjze.jpg</td>\n",
       "      <td>./tmp/test/masks/cju0qx73cjw570799j4n5cjze.tiff</td>\n",
       "      <td>0.531913</td>\n",
       "      <td>0.666467</td>\n",
       "      <td>0.778320</td>\n",
       "      <td>0.832776</td>\n",
       "      <td>0.652587</td>\n",
       "      <td>0.652587</td>\n",
       "      <td>0.753796</td>\n",
       "      <td>0.310030</td>\n",
       "      <td>0.984419</td>\n",
       "      <td>0.320755</td>\n",
       "      <td>0.984419</td>\n",
       "      <td>0.320755</td>\n",
       "      <td>1.002320</td>\n",
       "      <td>0.473318</td>\n",
       "    </tr>\n",
       "    <tr>\n",
       "      <th>1</th>\n",
       "      <td>./tmp/test/images/cju0roawvklrq0799vmjorwfv.jpg</td>\n",
       "      <td>./tmp/test/masks/cju0roawvklrq0799vmjorwfv.tiff</td>\n",
       "      <td>0.443257</td>\n",
       "      <td>0.522348</td>\n",
       "      <td>0.806641</td>\n",
       "      <td>0.521256</td>\n",
       "      <td>0.524679</td>\n",
       "      <td>0.524679</td>\n",
       "      <td>0.803181</td>\n",
       "      <td>0.083333</td>\n",
       "      <td>0.881134</td>\n",
       "      <td>0.168224</td>\n",
       "      <td>0.881134</td>\n",
       "      <td>0.168224</td>\n",
       "      <td>0.760684</td>\n",
       "      <td>0.153846</td>\n",
       "    </tr>\n",
       "    <tr>\n",
       "      <th>2</th>\n",
       "      <td>./tmp/test/images/cju0s2a9ekvms080138tjjpxr.jpg</td>\n",
       "      <td>./tmp/test/masks/cju0s2a9ekvms080138tjjpxr.tiff</td>\n",
       "      <td>0.789465</td>\n",
       "      <td>0.876501</td>\n",
       "      <td>0.929688</td>\n",
       "      <td>0.953275</td>\n",
       "      <td>0.832105</td>\n",
       "      <td>0.832105</td>\n",
       "      <td>0.918552</td>\n",
       "      <td>0.660377</td>\n",
       "      <td>0.997543</td>\n",
       "      <td>0.666667</td>\n",
       "      <td>0.997543</td>\n",
       "      <td>0.666667</td>\n",
       "      <td>0.397727</td>\n",
       "      <td>0.795455</td>\n",
       "    </tr>\n",
       "    <tr>\n",
       "      <th>3</th>\n",
       "      <td>./tmp/test/images/cju0sr5ghl0nd08789uzf1raf.jpg</td>\n",
       "      <td>./tmp/test/masks/cju0sr5ghl0nd08789uzf1raf.tiff</td>\n",
       "      <td>0.522579</td>\n",
       "      <td>0.638788</td>\n",
       "      <td>0.818359</td>\n",
       "      <td>0.627738</td>\n",
       "      <td>0.655756</td>\n",
       "      <td>0.655756</td>\n",
       "      <td>0.807453</td>\n",
       "      <td>0.237705</td>\n",
       "      <td>0.875421</td>\n",
       "      <td>0.436090</td>\n",
       "      <td>0.875421</td>\n",
       "      <td>0.436090</td>\n",
       "      <td>0.496689</td>\n",
       "      <td>0.384106</td>\n",
       "    </tr>\n",
       "    <tr>\n",
       "      <th>4</th>\n",
       "      <td>./tmp/test/images/cju0t4oil7vzk099370nun5h9.jpg</td>\n",
       "      <td>./tmp/test/masks/cju0t4oil7vzk099370nun5h9.tiff</td>\n",
       "      <td>0.475156</td>\n",
       "      <td>0.609372</td>\n",
       "      <td>0.733398</td>\n",
       "      <td>0.765223</td>\n",
       "      <td>0.612990</td>\n",
       "      <td>0.612990</td>\n",
       "      <td>0.708645</td>\n",
       "      <td>0.241667</td>\n",
       "      <td>0.969343</td>\n",
       "      <td>0.256637</td>\n",
       "      <td>0.969343</td>\n",
       "      <td>0.256637</td>\n",
       "      <td>1.127517</td>\n",
       "      <td>0.389262</td>\n",
       "    </tr>\n",
       "    <tr>\n",
       "      <th>5</th>\n",
       "      <td>./tmp/test/images/cju0tl3uz8blh0993wxvn7ly3.jpg</td>\n",
       "      <td>./tmp/test/masks/cju0tl3uz8blh0993wxvn7ly3.tiff</td>\n",
       "      <td>0.445312</td>\n",
       "      <td>0.471074</td>\n",
       "      <td>0.890625</td>\n",
       "      <td>0.497274</td>\n",
       "      <td>0.447498</td>\n",
       "      <td>0.447498</td>\n",
       "      <td>0.890625</td>\n",
       "      <td>0.000000</td>\n",
       "      <td>0.894995</td>\n",
       "      <td>0.000000</td>\n",
       "      <td>0.894995</td>\n",
       "      <td>0.000000</td>\n",
       "      <td>0.089286</td>\n",
       "      <td>0.000000</td>\n",
       "    </tr>\n",
       "    <tr>\n",
       "      <th>6</th>\n",
       "      <td>./tmp/test/images/cju15l5ubz9yh0855b3ivdpse.jpg</td>\n",
       "      <td>./tmp/test/masks/cju15l5ubz9yh0855b3ivdpse.tiff</td>\n",
       "      <td>0.567565</td>\n",
       "      <td>0.661904</td>\n",
       "      <td>0.908203</td>\n",
       "      <td>0.615990</td>\n",
       "      <td>0.905792</td>\n",
       "      <td>0.905792</td>\n",
       "      <td>0.905622</td>\n",
       "      <td>0.229508</td>\n",
       "      <td>0.908359</td>\n",
       "      <td>0.903226</td>\n",
       "      <td>0.908359</td>\n",
       "      <td>0.903226</td>\n",
       "      <td>0.040000</td>\n",
       "      <td>0.373333</td>\n",
       "    </tr>\n",
       "    <tr>\n",
       "      <th>7</th>\n",
       "      <td>./tmp/test/images/cju15ptjtppz40988odsm9azx.jpg</td>\n",
       "      <td>./tmp/test/masks/cju15ptjtppz40988odsm9azx.tiff</td>\n",
       "      <td>0.622268</td>\n",
       "      <td>0.725174</td>\n",
       "      <td>0.919922</td>\n",
       "      <td>0.678737</td>\n",
       "      <td>0.829065</td>\n",
       "      <td>0.829065</td>\n",
       "      <td>0.916667</td>\n",
       "      <td>0.327869</td>\n",
       "      <td>0.930857</td>\n",
       "      <td>0.727273</td>\n",
       "      <td>0.930857</td>\n",
       "      <td>0.727273</td>\n",
       "      <td>0.185185</td>\n",
       "      <td>0.493827</td>\n",
       "    </tr>\n",
       "    <tr>\n",
       "      <th>8</th>\n",
       "      <td>./tmp/test/images/cju16b6ynq8e40988m8vx0xnj.jpg</td>\n",
       "      <td>./tmp/test/masks/cju16b6ynq8e40988m8vx0xnj.tiff</td>\n",
       "      <td>0.444824</td>\n",
       "      <td>0.470801</td>\n",
       "      <td>0.889648</td>\n",
       "      <td>0.489785</td>\n",
       "      <td>0.453234</td>\n",
       "      <td>0.453234</td>\n",
       "      <td>0.889648</td>\n",
       "      <td>0.000000</td>\n",
       "      <td>0.906468</td>\n",
       "      <td>0.000000</td>\n",
       "      <td>0.906468</td>\n",
       "      <td>0.000000</td>\n",
       "      <td>0.336283</td>\n",
       "      <td>0.000000</td>\n",
       "    </tr>\n",
       "    <tr>\n",
       "      <th>9</th>\n",
       "      <td>./tmp/test/images/cju16d65tzw9d0799ouslsw25.jpg</td>\n",
       "      <td>./tmp/test/masks/cju16d65tzw9d0799ouslsw25.tiff</td>\n",
       "      <td>0.536871</td>\n",
       "      <td>0.643437</td>\n",
       "      <td>0.853516</td>\n",
       "      <td>0.613402</td>\n",
       "      <td>0.923469</td>\n",
       "      <td>0.923469</td>\n",
       "      <td>0.846939</td>\n",
       "      <td>0.226804</td>\n",
       "      <td>0.846939</td>\n",
       "      <td>1.000000</td>\n",
       "      <td>0.846939</td>\n",
       "      <td>1.000000</td>\n",
       "      <td>0.000000</td>\n",
       "      <td>0.369748</td>\n",
       "    </tr>\n",
       "    <tr>\n",
       "      <th>10</th>\n",
       "      <td>./tmp/test/images/cju16fpvhzypl0799p9phnlx6.jpg</td>\n",
       "      <td>./tmp/test/masks/cju16fpvhzypl0799p9phnlx6.tiff</td>\n",
       "      <td>0.708302</td>\n",
       "      <td>0.811002</td>\n",
       "      <td>0.925781</td>\n",
       "      <td>0.795354</td>\n",
       "      <td>0.829264</td>\n",
       "      <td>0.829264</td>\n",
       "      <td>0.919916</td>\n",
       "      <td>0.496689</td>\n",
       "      <td>0.950980</td>\n",
       "      <td>0.707547</td>\n",
       "      <td>0.950980</td>\n",
       "      <td>0.707547</td>\n",
       "      <td>0.274336</td>\n",
       "      <td>0.663717</td>\n",
       "    </tr>\n",
       "    <tr>\n",
       "      <th>11</th>\n",
       "      <td>./tmp/test/images/cju16whaj0e7n0855q7b6cjkm.jpg</td>\n",
       "      <td>./tmp/test/masks/cju16whaj0e7n0855q7b6cjkm.tiff</td>\n",
       "      <td>0.577876</td>\n",
       "      <td>0.707961</td>\n",
       "      <td>0.816406</td>\n",
       "      <td>0.787072</td>\n",
       "      <td>0.681928</td>\n",
       "      <td>0.681928</td>\n",
       "      <td>0.795207</td>\n",
       "      <td>0.360544</td>\n",
       "      <td>0.953003</td>\n",
       "      <td>0.410853</td>\n",
       "      <td>0.953003</td>\n",
       "      <td>0.410853</td>\n",
       "      <td>0.760000</td>\n",
       "      <td>0.530000</td>\n",
       "    </tr>\n",
       "    <tr>\n",
       "      <th>12</th>\n",
       "      <td>./tmp/test/images/cju17otoe119u0799nqcbl8n1.jpg</td>\n",
       "      <td>./tmp/test/masks/cju17otoe119u0799nqcbl8n1.tiff</td>\n",
       "      <td>0.337547</td>\n",
       "      <td>0.494275</td>\n",
       "      <td>0.525391</td>\n",
       "      <td>0.714911</td>\n",
       "      <td>0.609841</td>\n",
       "      <td>0.609841</td>\n",
       "      <td>0.448980</td>\n",
       "      <td>0.226115</td>\n",
       "      <td>0.992481</td>\n",
       "      <td>0.227200</td>\n",
       "      <td>0.992481</td>\n",
       "      <td>0.227200</td>\n",
       "      <td>1.254545</td>\n",
       "      <td>0.368831</td>\n",
       "    </tr>\n",
       "    <tr>\n",
       "      <th>13</th>\n",
       "      <td>./tmp/test/images/cju1819curo000988pd5xcqme.jpg</td>\n",
       "      <td>./tmp/test/masks/cju1819curo000988pd5xcqme.tiff</td>\n",
       "      <td>0.763143</td>\n",
       "      <td>0.855569</td>\n",
       "      <td>0.935547</td>\n",
       "      <td>0.810951</td>\n",
       "      <td>0.926864</td>\n",
       "      <td>0.926864</td>\n",
       "      <td>0.928726</td>\n",
       "      <td>0.597561</td>\n",
       "      <td>0.937841</td>\n",
       "      <td>0.915888</td>\n",
       "      <td>0.937841</td>\n",
       "      <td>0.915888</td>\n",
       "      <td>0.068702</td>\n",
       "      <td>0.748092</td>\n",
       "    </tr>\n",
       "    <tr>\n",
       "      <th>14</th>\n",
       "      <td>./tmp/test/images/cju18ibp219ub08783i6o98g7.jpg</td>\n",
       "      <td>./tmp/test/masks/cju18ibp219ub08783i6o98g7.tiff</td>\n",
       "      <td>0.523187</td>\n",
       "      <td>0.602519</td>\n",
       "      <td>0.899414</td>\n",
       "      <td>0.574525</td>\n",
       "      <td>0.899701</td>\n",
       "      <td>0.899701</td>\n",
       "      <td>0.897614</td>\n",
       "      <td>0.148760</td>\n",
       "      <td>0.899402</td>\n",
       "      <td>0.900000</td>\n",
       "      <td>0.899402</td>\n",
       "      <td>0.900000</td>\n",
       "      <td>0.028777</td>\n",
       "      <td>0.258993</td>\n",
       "    </tr>\n",
       "    <tr>\n",
       "      <th>15</th>\n",
       "      <td>./tmp/test/images/cju1ats0y372e08011yazcsxm.jpg</td>\n",
       "      <td>./tmp/test/masks/cju1ats0y372e08011yazcsxm.tiff</td>\n",
       "      <td>0.711724</td>\n",
       "      <td>0.820087</td>\n",
       "      <td>0.895508</td>\n",
       "      <td>0.791138</td>\n",
       "      <td>0.864223</td>\n",
       "      <td>0.864223</td>\n",
       "      <td>0.880713</td>\n",
       "      <td>0.542735</td>\n",
       "      <td>0.909091</td>\n",
       "      <td>0.819355</td>\n",
       "      <td>0.909091</td>\n",
       "      <td>0.819355</td>\n",
       "      <td>0.155125</td>\n",
       "      <td>0.703601</td>\n",
       "    </tr>\n",
       "    <tr>\n",
       "      <th>16</th>\n",
       "      <td>./tmp/test/images/cju1b0y2e396p08558ois175d.jpg</td>\n",
       "      <td>./tmp/test/masks/cju1b0y2e396p08558ois175d.tiff</td>\n",
       "      <td>0.457152</td>\n",
       "      <td>0.484846</td>\n",
       "      <td>0.904297</td>\n",
       "      <td>0.488834</td>\n",
       "      <td>0.482225</td>\n",
       "      <td>0.482225</td>\n",
       "      <td>0.904203</td>\n",
       "      <td>0.010101</td>\n",
       "      <td>0.938134</td>\n",
       "      <td>0.026316</td>\n",
       "      <td>0.938134</td>\n",
       "      <td>0.026316</td>\n",
       "      <td>0.740000</td>\n",
       "      <td>0.020000</td>\n",
       "    </tr>\n",
       "    <tr>\n",
       "      <th>17</th>\n",
       "      <td>./tmp/test/images/cju1bm8063nmh07996rsjjemq.jpg</td>\n",
       "      <td>./tmp/test/masks/cju1bm8063nmh07996rsjjemq.tiff</td>\n",
       "      <td>0.645468</td>\n",
       "      <td>0.766125</td>\n",
       "      <td>0.863281</td>\n",
       "      <td>0.893658</td>\n",
       "      <td>0.724380</td>\n",
       "      <td>0.724380</td>\n",
       "      <td>0.846491</td>\n",
       "      <td>0.444444</td>\n",
       "      <td>0.989744</td>\n",
       "      <td>0.459016</td>\n",
       "      <td>0.989744</td>\n",
       "      <td>0.459016</td>\n",
       "      <td>0.725275</td>\n",
       "      <td>0.615385</td>\n",
       "    </tr>\n",
       "    <tr>\n",
       "      <th>18</th>\n",
       "      <td>./tmp/test/images/cju1brhsj3rls0855a1vgdlen.jpg</td>\n",
       "      <td>./tmp/test/masks/cju1brhsj3rls0855a1vgdlen.tiff</td>\n",
       "      <td>0.527131</td>\n",
       "      <td>0.628247</td>\n",
       "      <td>0.857422</td>\n",
       "      <td>0.601001</td>\n",
       "      <td>0.889837</td>\n",
       "      <td>0.889837</td>\n",
       "      <td>0.852077</td>\n",
       "      <td>0.202186</td>\n",
       "      <td>0.854675</td>\n",
       "      <td>0.925000</td>\n",
       "      <td>0.854675</td>\n",
       "      <td>0.925000</td>\n",
       "      <td>0.027273</td>\n",
       "      <td>0.336364</td>\n",
       "    </tr>\n",
       "    <tr>\n",
       "      <th>19</th>\n",
       "      <td>./tmp/test/images/cju1c4fcu40hl07992b8gj0c8.jpg</td>\n",
       "      <td>./tmp/test/masks/cju1c4fcu40hl07992b8gj0c8.tiff</td>\n",
       "      <td>0.522081</td>\n",
       "      <td>0.601318</td>\n",
       "      <td>0.898438</td>\n",
       "      <td>0.584110</td>\n",
       "      <td>0.637069</td>\n",
       "      <td>0.637069</td>\n",
       "      <td>0.896620</td>\n",
       "      <td>0.147541</td>\n",
       "      <td>0.927984</td>\n",
       "      <td>0.346154</td>\n",
       "      <td>0.927984</td>\n",
       "      <td>0.346154</td>\n",
       "      <td>0.485714</td>\n",
       "      <td>0.257143</td>\n",
       "    </tr>\n",
       "  </tbody>\n",
       "</table>\n",
       "</div>"
      ],
      "text/plain": [
       "                                         image_file  \\\n",
       "0   ./tmp/test/images/cju0qx73cjw570799j4n5cjze.jpg   \n",
       "1   ./tmp/test/images/cju0roawvklrq0799vmjorwfv.jpg   \n",
       "2   ./tmp/test/images/cju0s2a9ekvms080138tjjpxr.jpg   \n",
       "3   ./tmp/test/images/cju0sr5ghl0nd08789uzf1raf.jpg   \n",
       "4   ./tmp/test/images/cju0t4oil7vzk099370nun5h9.jpg   \n",
       "5   ./tmp/test/images/cju0tl3uz8blh0993wxvn7ly3.jpg   \n",
       "6   ./tmp/test/images/cju15l5ubz9yh0855b3ivdpse.jpg   \n",
       "7   ./tmp/test/images/cju15ptjtppz40988odsm9azx.jpg   \n",
       "8   ./tmp/test/images/cju16b6ynq8e40988m8vx0xnj.jpg   \n",
       "9   ./tmp/test/images/cju16d65tzw9d0799ouslsw25.jpg   \n",
       "10  ./tmp/test/images/cju16fpvhzypl0799p9phnlx6.jpg   \n",
       "11  ./tmp/test/images/cju16whaj0e7n0855q7b6cjkm.jpg   \n",
       "12  ./tmp/test/images/cju17otoe119u0799nqcbl8n1.jpg   \n",
       "13  ./tmp/test/images/cju1819curo000988pd5xcqme.jpg   \n",
       "14  ./tmp/test/images/cju18ibp219ub08783i6o98g7.jpg   \n",
       "15  ./tmp/test/images/cju1ats0y372e08011yazcsxm.jpg   \n",
       "16  ./tmp/test/images/cju1b0y2e396p08558ois175d.jpg   \n",
       "17  ./tmp/test/images/cju1bm8063nmh07996rsjjemq.jpg   \n",
       "18  ./tmp/test/images/cju1brhsj3rls0855a1vgdlen.jpg   \n",
       "19  ./tmp/test/images/cju1c4fcu40hl07992b8gj0c8.jpg   \n",
       "\n",
       "                                          mask_file  jaccard_score  f1_score  \\\n",
       "0   ./tmp/test/masks/cju0qx73cjw570799j4n5cjze.tiff       0.531913  0.666467   \n",
       "1   ./tmp/test/masks/cju0roawvklrq0799vmjorwfv.tiff       0.443257  0.522348   \n",
       "2   ./tmp/test/masks/cju0s2a9ekvms080138tjjpxr.tiff       0.789465  0.876501   \n",
       "3   ./tmp/test/masks/cju0sr5ghl0nd08789uzf1raf.tiff       0.522579  0.638788   \n",
       "4   ./tmp/test/masks/cju0t4oil7vzk099370nun5h9.tiff       0.475156  0.609372   \n",
       "5   ./tmp/test/masks/cju0tl3uz8blh0993wxvn7ly3.tiff       0.445312  0.471074   \n",
       "6   ./tmp/test/masks/cju15l5ubz9yh0855b3ivdpse.tiff       0.567565  0.661904   \n",
       "7   ./tmp/test/masks/cju15ptjtppz40988odsm9azx.tiff       0.622268  0.725174   \n",
       "8   ./tmp/test/masks/cju16b6ynq8e40988m8vx0xnj.tiff       0.444824  0.470801   \n",
       "9   ./tmp/test/masks/cju16d65tzw9d0799ouslsw25.tiff       0.536871  0.643437   \n",
       "10  ./tmp/test/masks/cju16fpvhzypl0799p9phnlx6.tiff       0.708302  0.811002   \n",
       "11  ./tmp/test/masks/cju16whaj0e7n0855q7b6cjkm.tiff       0.577876  0.707961   \n",
       "12  ./tmp/test/masks/cju17otoe119u0799nqcbl8n1.tiff       0.337547  0.494275   \n",
       "13  ./tmp/test/masks/cju1819curo000988pd5xcqme.tiff       0.763143  0.855569   \n",
       "14  ./tmp/test/masks/cju18ibp219ub08783i6o98g7.tiff       0.523187  0.602519   \n",
       "15  ./tmp/test/masks/cju1ats0y372e08011yazcsxm.tiff       0.711724  0.820087   \n",
       "16  ./tmp/test/masks/cju1b0y2e396p08558ois175d.tiff       0.457152  0.484846   \n",
       "17  ./tmp/test/masks/cju1bm8063nmh07996rsjjemq.tiff       0.645468  0.766125   \n",
       "18  ./tmp/test/masks/cju1brhsj3rls0855a1vgdlen.tiff       0.527131  0.628247   \n",
       "19  ./tmp/test/masks/cju1c4fcu40hl07992b8gj0c8.tiff       0.522081  0.601318   \n",
       "\n",
       "    accuracy  precision    recall  specificity  jaccard_score_0  \\\n",
       "0   0.778320   0.832776  0.652587     0.652587         0.753796   \n",
       "1   0.806641   0.521256  0.524679     0.524679         0.803181   \n",
       "2   0.929688   0.953275  0.832105     0.832105         0.918552   \n",
       "3   0.818359   0.627738  0.655756     0.655756         0.807453   \n",
       "4   0.733398   0.765223  0.612990     0.612990         0.708645   \n",
       "5   0.890625   0.497274  0.447498     0.447498         0.890625   \n",
       "6   0.908203   0.615990  0.905792     0.905792         0.905622   \n",
       "7   0.919922   0.678737  0.829065     0.829065         0.916667   \n",
       "8   0.889648   0.489785  0.453234     0.453234         0.889648   \n",
       "9   0.853516   0.613402  0.923469     0.923469         0.846939   \n",
       "10  0.925781   0.795354  0.829264     0.829264         0.919916   \n",
       "11  0.816406   0.787072  0.681928     0.681928         0.795207   \n",
       "12  0.525391   0.714911  0.609841     0.609841         0.448980   \n",
       "13  0.935547   0.810951  0.926864     0.926864         0.928726   \n",
       "14  0.899414   0.574525  0.899701     0.899701         0.897614   \n",
       "15  0.895508   0.791138  0.864223     0.864223         0.880713   \n",
       "16  0.904297   0.488834  0.482225     0.482225         0.904203   \n",
       "17  0.863281   0.893658  0.724380     0.724380         0.846491   \n",
       "18  0.857422   0.601001  0.889837     0.889837         0.852077   \n",
       "19  0.898438   0.584110  0.637069     0.637069         0.896620   \n",
       "\n",
       "    jaccard_score_1  specificity_0  specificity_1  recall_0  recall_1  \\\n",
       "0          0.310030       0.984419       0.320755  0.984419  0.320755   \n",
       "1          0.083333       0.881134       0.168224  0.881134  0.168224   \n",
       "2          0.660377       0.997543       0.666667  0.997543  0.666667   \n",
       "3          0.237705       0.875421       0.436090  0.875421  0.436090   \n",
       "4          0.241667       0.969343       0.256637  0.969343  0.256637   \n",
       "5          0.000000       0.894995       0.000000  0.894995  0.000000   \n",
       "6          0.229508       0.908359       0.903226  0.908359  0.903226   \n",
       "7          0.327869       0.930857       0.727273  0.930857  0.727273   \n",
       "8          0.000000       0.906468       0.000000  0.906468  0.000000   \n",
       "9          0.226804       0.846939       1.000000  0.846939  1.000000   \n",
       "10         0.496689       0.950980       0.707547  0.950980  0.707547   \n",
       "11         0.360544       0.953003       0.410853  0.953003  0.410853   \n",
       "12         0.226115       0.992481       0.227200  0.992481  0.227200   \n",
       "13         0.597561       0.937841       0.915888  0.937841  0.915888   \n",
       "14         0.148760       0.899402       0.900000  0.899402  0.900000   \n",
       "15         0.542735       0.909091       0.819355  0.909091  0.819355   \n",
       "16         0.010101       0.938134       0.026316  0.938134  0.026316   \n",
       "17         0.444444       0.989744       0.459016  0.989744  0.459016   \n",
       "18         0.202186       0.854675       0.925000  0.854675  0.925000   \n",
       "19         0.147541       0.927984       0.346154  0.927984  0.346154   \n",
       "\n",
       "      dice_0    dice_1  \n",
       "0   1.002320  0.473318  \n",
       "1   0.760684  0.153846  \n",
       "2   0.397727  0.795455  \n",
       "3   0.496689  0.384106  \n",
       "4   1.127517  0.389262  \n",
       "5   0.089286  0.000000  \n",
       "6   0.040000  0.373333  \n",
       "7   0.185185  0.493827  \n",
       "8   0.336283  0.000000  \n",
       "9   0.000000  0.369748  \n",
       "10  0.274336  0.663717  \n",
       "11  0.760000  0.530000  \n",
       "12  1.254545  0.368831  \n",
       "13  0.068702  0.748092  \n",
       "14  0.028777  0.258993  \n",
       "15  0.155125  0.703601  \n",
       "16  0.740000  0.020000  \n",
       "17  0.725275  0.615385  \n",
       "18  0.027273  0.336364  \n",
       "19  0.485714  0.257143  "
      ]
     },
     "execution_count": 6,
     "metadata": {},
     "output_type": "execute_result"
    }
   ],
   "source": [
    "df_scores = pd.DataFrame(scores)\n",
    "\n",
    "df_scores"
   ]
  },
  {
   "cell_type": "code",
   "execution_count": 7,
   "id": "ba7d1f04",
   "metadata": {},
   "outputs": [
    {
     "data": {
      "text/html": [
       "<div>\n",
       "<style scoped>\n",
       "    .dataframe tbody tr th:only-of-type {\n",
       "        vertical-align: middle;\n",
       "    }\n",
       "\n",
       "    .dataframe tbody tr th {\n",
       "        vertical-align: top;\n",
       "    }\n",
       "\n",
       "    .dataframe thead th {\n",
       "        text-align: right;\n",
       "    }\n",
       "</style>\n",
       "<table border=\"1\" class=\"dataframe\">\n",
       "  <thead>\n",
       "    <tr style=\"text-align: right;\">\n",
       "      <th></th>\n",
       "      <th>jaccard_score</th>\n",
       "      <th>f1_score</th>\n",
       "      <th>accuracy</th>\n",
       "      <th>precision</th>\n",
       "      <th>recall</th>\n",
       "      <th>specificity</th>\n",
       "      <th>jaccard_score_0</th>\n",
       "      <th>jaccard_score_1</th>\n",
       "      <th>specificity_0</th>\n",
       "      <th>specificity_1</th>\n",
       "      <th>recall_0</th>\n",
       "      <th>recall_1</th>\n",
       "      <th>dice_0</th>\n",
       "      <th>dice_1</th>\n",
       "    </tr>\n",
       "  </thead>\n",
       "  <tbody>\n",
       "    <tr>\n",
       "      <th>count</th>\n",
       "      <td>20.000000</td>\n",
       "      <td>20.000000</td>\n",
       "      <td>20.000000</td>\n",
       "      <td>20.000000</td>\n",
       "      <td>20.000000</td>\n",
       "      <td>20.000000</td>\n",
       "      <td>20.000000</td>\n",
       "      <td>20.000000</td>\n",
       "      <td>20.000000</td>\n",
       "      <td>20.000000</td>\n",
       "      <td>20.000000</td>\n",
       "      <td>20.000000</td>\n",
       "      <td>20.000000</td>\n",
       "      <td>20.000000</td>\n",
       "    </tr>\n",
       "    <tr>\n",
       "      <th>mean</th>\n",
       "      <td>0.557641</td>\n",
       "      <td>0.652891</td>\n",
       "      <td>0.852490</td>\n",
       "      <td>0.681850</td>\n",
       "      <td>0.719125</td>\n",
       "      <td>0.719125</td>\n",
       "      <td>0.840584</td>\n",
       "      <td>0.274699</td>\n",
       "      <td>0.927441</td>\n",
       "      <td>0.510810</td>\n",
       "      <td>0.927441</td>\n",
       "      <td>0.510810</td>\n",
       "      <td>0.447772</td>\n",
       "      <td>0.396751</td>\n",
       "    </tr>\n",
       "    <tr>\n",
       "      <th>std</th>\n",
       "      <td>0.117940</td>\n",
       "      <td>0.127737</td>\n",
       "      <td>0.094299</td>\n",
       "      <td>0.140580</td>\n",
       "      <td>0.165075</td>\n",
       "      <td>0.165075</td>\n",
       "      <td>0.110067</td>\n",
       "      <td>0.194445</td>\n",
       "      <td>0.045350</td>\n",
       "      <td>0.339190</td>\n",
       "      <td>0.045350</td>\n",
       "      <td>0.339190</td>\n",
       "      <td>0.395572</td>\n",
       "      <td>0.239388</td>\n",
       "    </tr>\n",
       "    <tr>\n",
       "      <th>min</th>\n",
       "      <td>0.337547</td>\n",
       "      <td>0.470801</td>\n",
       "      <td>0.525391</td>\n",
       "      <td>0.488834</td>\n",
       "      <td>0.447498</td>\n",
       "      <td>0.447498</td>\n",
       "      <td>0.448980</td>\n",
       "      <td>0.000000</td>\n",
       "      <td>0.846939</td>\n",
       "      <td>0.000000</td>\n",
       "      <td>0.846939</td>\n",
       "      <td>0.000000</td>\n",
       "      <td>0.000000</td>\n",
       "      <td>0.000000</td>\n",
       "    </tr>\n",
       "    <tr>\n",
       "      <th>25%</th>\n",
       "      <td>0.470655</td>\n",
       "      <td>0.581575</td>\n",
       "      <td>0.817871</td>\n",
       "      <td>0.581714</td>\n",
       "      <td>0.612203</td>\n",
       "      <td>0.612203</td>\n",
       "      <td>0.806385</td>\n",
       "      <td>0.148455</td>\n",
       "      <td>0.898301</td>\n",
       "      <td>0.249278</td>\n",
       "      <td>0.898301</td>\n",
       "      <td>0.249278</td>\n",
       "      <td>0.084140</td>\n",
       "      <td>0.258530</td>\n",
       "    </tr>\n",
       "    <tr>\n",
       "      <th>50%</th>\n",
       "      <td>0.529522</td>\n",
       "      <td>0.641113</td>\n",
       "      <td>0.890137</td>\n",
       "      <td>0.653238</td>\n",
       "      <td>0.703154</td>\n",
       "      <td>0.703154</td>\n",
       "      <td>0.885181</td>\n",
       "      <td>0.233607</td>\n",
       "      <td>0.929420</td>\n",
       "      <td>0.447553</td>\n",
       "      <td>0.929420</td>\n",
       "      <td>0.447553</td>\n",
       "      <td>0.367005</td>\n",
       "      <td>0.378720</td>\n",
       "    </tr>\n",
       "    <tr>\n",
       "      <th>75%</th>\n",
       "      <td>0.628068</td>\n",
       "      <td>0.735412</td>\n",
       "      <td>0.905273</td>\n",
       "      <td>0.792192</td>\n",
       "      <td>0.870627</td>\n",
       "      <td>0.870627</td>\n",
       "      <td>0.904558</td>\n",
       "      <td>0.381519</td>\n",
       "      <td>0.957088</td>\n",
       "      <td>0.839516</td>\n",
       "      <td>0.957088</td>\n",
       "      <td>0.839516</td>\n",
       "      <td>0.745000</td>\n",
       "      <td>0.551346</td>\n",
       "    </tr>\n",
       "    <tr>\n",
       "      <th>max</th>\n",
       "      <td>0.789465</td>\n",
       "      <td>0.876501</td>\n",
       "      <td>0.935547</td>\n",
       "      <td>0.953275</td>\n",
       "      <td>0.926864</td>\n",
       "      <td>0.926864</td>\n",
       "      <td>0.928726</td>\n",
       "      <td>0.660377</td>\n",
       "      <td>0.997543</td>\n",
       "      <td>1.000000</td>\n",
       "      <td>0.997543</td>\n",
       "      <td>1.000000</td>\n",
       "      <td>1.254545</td>\n",
       "      <td>0.795455</td>\n",
       "    </tr>\n",
       "  </tbody>\n",
       "</table>\n",
       "</div>"
      ],
      "text/plain": [
       "       jaccard_score   f1_score   accuracy  precision     recall  specificity  \\\n",
       "count      20.000000  20.000000  20.000000  20.000000  20.000000    20.000000   \n",
       "mean        0.557641   0.652891   0.852490   0.681850   0.719125     0.719125   \n",
       "std         0.117940   0.127737   0.094299   0.140580   0.165075     0.165075   \n",
       "min         0.337547   0.470801   0.525391   0.488834   0.447498     0.447498   \n",
       "25%         0.470655   0.581575   0.817871   0.581714   0.612203     0.612203   \n",
       "50%         0.529522   0.641113   0.890137   0.653238   0.703154     0.703154   \n",
       "75%         0.628068   0.735412   0.905273   0.792192   0.870627     0.870627   \n",
       "max         0.789465   0.876501   0.935547   0.953275   0.926864     0.926864   \n",
       "\n",
       "       jaccard_score_0  jaccard_score_1  specificity_0  specificity_1  \\\n",
       "count        20.000000        20.000000      20.000000      20.000000   \n",
       "mean          0.840584         0.274699       0.927441       0.510810   \n",
       "std           0.110067         0.194445       0.045350       0.339190   \n",
       "min           0.448980         0.000000       0.846939       0.000000   \n",
       "25%           0.806385         0.148455       0.898301       0.249278   \n",
       "50%           0.885181         0.233607       0.929420       0.447553   \n",
       "75%           0.904558         0.381519       0.957088       0.839516   \n",
       "max           0.928726         0.660377       0.997543       1.000000   \n",
       "\n",
       "        recall_0   recall_1     dice_0     dice_1  \n",
       "count  20.000000  20.000000  20.000000  20.000000  \n",
       "mean    0.927441   0.510810   0.447772   0.396751  \n",
       "std     0.045350   0.339190   0.395572   0.239388  \n",
       "min     0.846939   0.000000   0.000000   0.000000  \n",
       "25%     0.898301   0.249278   0.084140   0.258530  \n",
       "50%     0.929420   0.447553   0.367005   0.378720  \n",
       "75%     0.957088   0.839516   0.745000   0.551346  \n",
       "max     0.997543   1.000000   1.254545   0.795455  "
      ]
     },
     "execution_count": 7,
     "metadata": {},
     "output_type": "execute_result"
    }
   ],
   "source": [
    "df_scores.describe()"
   ]
  },
  {
   "cell_type": "code",
   "execution_count": 8,
   "id": "1d248459",
   "metadata": {},
   "outputs": [],
   "source": [
    "df_scores.describe().to_csv(\"{}-scores-kvasir.csv\".format(model_type))"
   ]
  },
  {
   "cell_type": "code",
   "execution_count": 9,
   "id": "d270611d",
   "metadata": {},
   "outputs": [
    {
     "name": "stdout",
     "output_type": "stream",
     "text": [
      "Training model...\n",
      "input_img_dir: ./tmp/train/images/\n",
      "input_mask_dir: ./tmp/train/masks/\n",
      "CUDA Device: NVIDIA GeForce RTX 3050 Laptop GPU\n",
      "UNet(\n",
      "  (ups): ModuleList(\n",
      "    (0): ConvTranspose2d(1024, 512, kernel_size=(2, 2), stride=(2, 2))\n",
      "    (1): DoubleConv(\n",
      "      (conv): Sequential(\n",
      "        (0): Conv2d(1024, 512, kernel_size=(3, 3), stride=(1, 1), padding=(1, 1), bias=False)\n",
      "        (1): BatchNorm2d(512, eps=1e-05, momentum=0.1, affine=True, track_running_stats=True)\n",
      "        (2): ReLU(inplace=True)\n",
      "        (3): Conv2d(512, 512, kernel_size=(3, 3), stride=(1, 1), padding=(1, 1), bias=False)\n",
      "        (4): BatchNorm2d(512, eps=1e-05, momentum=0.1, affine=True, track_running_stats=True)\n",
      "        (5): ReLU(inplace=True)\n",
      "      )\n",
      "    )\n",
      "    (2): ConvTranspose2d(512, 256, kernel_size=(2, 2), stride=(2, 2))\n",
      "    (3): DoubleConv(\n",
      "      (conv): Sequential(\n",
      "        (0): Conv2d(512, 256, kernel_size=(3, 3), stride=(1, 1), padding=(1, 1), bias=False)\n",
      "        (1): BatchNorm2d(256, eps=1e-05, momentum=0.1, affine=True, track_running_stats=True)\n",
      "        (2): ReLU(inplace=True)\n",
      "        (3): Conv2d(256, 256, kernel_size=(3, 3), stride=(1, 1), padding=(1, 1), bias=False)\n",
      "        (4): BatchNorm2d(256, eps=1e-05, momentum=0.1, affine=True, track_running_stats=True)\n",
      "        (5): ReLU(inplace=True)\n",
      "      )\n",
      "    )\n",
      "    (4): ConvTranspose2d(256, 128, kernel_size=(2, 2), stride=(2, 2))\n",
      "    (5): DoubleConv(\n",
      "      (conv): Sequential(\n",
      "        (0): Conv2d(256, 128, kernel_size=(3, 3), stride=(1, 1), padding=(1, 1), bias=False)\n",
      "        (1): BatchNorm2d(128, eps=1e-05, momentum=0.1, affine=True, track_running_stats=True)\n",
      "        (2): ReLU(inplace=True)\n",
      "        (3): Conv2d(128, 128, kernel_size=(3, 3), stride=(1, 1), padding=(1, 1), bias=False)\n",
      "        (4): BatchNorm2d(128, eps=1e-05, momentum=0.1, affine=True, track_running_stats=True)\n",
      "        (5): ReLU(inplace=True)\n",
      "      )\n",
      "    )\n",
      "    (6): ConvTranspose2d(128, 64, kernel_size=(2, 2), stride=(2, 2))\n",
      "    (7): DoubleConv(\n",
      "      (conv): Sequential(\n",
      "        (0): Conv2d(128, 64, kernel_size=(3, 3), stride=(1, 1), padding=(1, 1), bias=False)\n",
      "        (1): BatchNorm2d(64, eps=1e-05, momentum=0.1, affine=True, track_running_stats=True)\n",
      "        (2): ReLU(inplace=True)\n",
      "        (3): Conv2d(64, 64, kernel_size=(3, 3), stride=(1, 1), padding=(1, 1), bias=False)\n",
      "        (4): BatchNorm2d(64, eps=1e-05, momentum=0.1, affine=True, track_running_stats=True)\n",
      "        (5): ReLU(inplace=True)\n",
      "      )\n",
      "    )\n",
      "  )\n",
      "  (downs): ModuleList(\n",
      "    (0): DoubleConv(\n",
      "      (conv): Sequential(\n",
      "        (0): Conv2d(3, 64, kernel_size=(3, 3), stride=(1, 1), padding=(1, 1), bias=False)\n",
      "        (1): BatchNorm2d(64, eps=1e-05, momentum=0.1, affine=True, track_running_stats=True)\n",
      "        (2): ReLU(inplace=True)\n",
      "        (3): Conv2d(64, 64, kernel_size=(3, 3), stride=(1, 1), padding=(1, 1), bias=False)\n",
      "        (4): BatchNorm2d(64, eps=1e-05, momentum=0.1, affine=True, track_running_stats=True)\n",
      "        (5): ReLU(inplace=True)\n",
      "      )\n",
      "    )\n",
      "    (1): DoubleConv(\n",
      "      (conv): Sequential(\n",
      "        (0): Conv2d(64, 128, kernel_size=(3, 3), stride=(1, 1), padding=(1, 1), bias=False)\n",
      "        (1): BatchNorm2d(128, eps=1e-05, momentum=0.1, affine=True, track_running_stats=True)\n",
      "        (2): ReLU(inplace=True)\n",
      "        (3): Conv2d(128, 128, kernel_size=(3, 3), stride=(1, 1), padding=(1, 1), bias=False)\n",
      "        (4): BatchNorm2d(128, eps=1e-05, momentum=0.1, affine=True, track_running_stats=True)\n",
      "        (5): ReLU(inplace=True)\n",
      "      )\n",
      "    )\n",
      "    (2): DoubleConv(\n",
      "      (conv): Sequential(\n",
      "        (0): Conv2d(128, 256, kernel_size=(3, 3), stride=(1, 1), padding=(1, 1), bias=False)\n",
      "        (1): BatchNorm2d(256, eps=1e-05, momentum=0.1, affine=True, track_running_stats=True)\n",
      "        (2): ReLU(inplace=True)\n",
      "        (3): Conv2d(256, 256, kernel_size=(3, 3), stride=(1, 1), padding=(1, 1), bias=False)\n",
      "        (4): BatchNorm2d(256, eps=1e-05, momentum=0.1, affine=True, track_running_stats=True)\n",
      "        (5): ReLU(inplace=True)\n",
      "      )\n",
      "    )\n",
      "    (3): DoubleConv(\n",
      "      (conv): Sequential(\n",
      "        (0): Conv2d(256, 512, kernel_size=(3, 3), stride=(1, 1), padding=(1, 1), bias=False)\n",
      "        (1): BatchNorm2d(512, eps=1e-05, momentum=0.1, affine=True, track_running_stats=True)\n",
      "        (2): ReLU(inplace=True)\n",
      "        (3): Conv2d(512, 512, kernel_size=(3, 3), stride=(1, 1), padding=(1, 1), bias=False)\n",
      "        (4): BatchNorm2d(512, eps=1e-05, momentum=0.1, affine=True, track_running_stats=True)\n",
      "        (5): ReLU(inplace=True)\n",
      "      )\n",
      "    )\n",
      "  )\n",
      "  (pool): MaxPool2d(kernel_size=2, stride=2, padding=0, dilation=1, ceil_mode=False)\n",
      "  (bottleneck): DoubleConv(\n",
      "    (conv): Sequential(\n",
      "      (0): Conv2d(512, 1024, kernel_size=(3, 3), stride=(1, 1), padding=(1, 1), bias=False)\n",
      "      (1): BatchNorm2d(1024, eps=1e-05, momentum=0.1, affine=True, track_running_stats=True)\n",
      "      (2): ReLU(inplace=True)\n",
      "      (3): Conv2d(1024, 1024, kernel_size=(3, 3), stride=(1, 1), padding=(1, 1), bias=False)\n",
      "      (4): BatchNorm2d(1024, eps=1e-05, momentum=0.1, affine=True, track_running_stats=True)\n",
      "      (5): ReLU(inplace=True)\n",
      "    )\n",
      "  )\n",
      "  (final_conv): Conv2d(64, 2, kernel_size=(1, 1), stride=(1, 1))\n",
      ")\n",
      "Loss Type: CE\n",
      "Epoch: 0\n"
     ]
    },
    {
     "name": "stderr",
     "output_type": "stream",
     "text": [
      "100%|█████████████████████████████████████████████████████████████████████████████████████████████████████████████████████████████████████████████████████████████████| 140/140 [00:10<00:00, 13.70it/s, loss=0.62]\n"
     ]
    },
    {
     "name": "stdout",
     "output_type": "stream",
     "text": [
      "Ave Loss: 0.6320551863738468\n",
      "Ave Accuracy: 0.7158984375\n",
      "Ave F1: 0.6095360683758616\n",
      "Ave Precision: 0.6355840432724655\n",
      "Ave Recall: 0.77599326595236\n",
      "Ave Specificity: 0.77599326595236\n",
      "Saving model to test.pth...\n",
      "Epoch: 1\n"
     ]
    },
    {
     "name": "stderr",
     "output_type": "stream",
     "text": [
      "100%|████████████████████████████████████████████████████████████████████████████████████████████████████████████████████████████████████████████████████████████████| 140/140 [00:09<00:00, 14.09it/s, loss=0.565]\n"
     ]
    },
    {
     "name": "stdout",
     "output_type": "stream",
     "text": [
      "Ave Loss: 0.5404202456985201\n",
      "Ave Accuracy: 0.809384765625\n",
      "Ave F1: 0.6816231424498523\n",
      "Ave Precision: 0.6847955944200639\n",
      "Ave Recall: 0.8139235788937383\n",
      "Ave Specificity: 0.8139235788937383\n",
      "Saving model to test.pth...\n",
      "Epoch: 2\n"
     ]
    },
    {
     "name": "stderr",
     "output_type": "stream",
     "text": [
      "100%|████████████████████████████████████████████████████████████████████████████████████████████████████████████████████████████████████████████████████████████████| 140/140 [00:10<00:00, 13.53it/s, loss=0.469]\n"
     ]
    },
    {
     "ename": "KeyboardInterrupt",
     "evalue": "",
     "output_type": "error",
     "traceback": [
      "\u001b[0;31m---------------------------------------------------------------------------\u001b[0m",
      "\u001b[0;31mKeyboardInterrupt\u001b[0m                         Traceback (most recent call last)",
      "Input \u001b[0;32mIn [9]\u001b[0m, in \u001b[0;36m<cell line: 24>\u001b[0;34m()\u001b[0m\n\u001b[1;32m      3\u001b[0m params \u001b[38;5;241m=\u001b[39m {\n\u001b[1;32m      4\u001b[0m     \u001b[38;5;124m'\u001b[39m\u001b[38;5;124mimg_height\u001b[39m\u001b[38;5;124m'\u001b[39m:     img_height,\n\u001b[1;32m      5\u001b[0m     \u001b[38;5;124m'\u001b[39m\u001b[38;5;124mimg_width\u001b[39m\u001b[38;5;124m'\u001b[39m:      img_width,\n\u001b[0;32m   (...)\u001b[0m\n\u001b[1;32m     19\u001b[0m     \u001b[38;5;124m'\u001b[39m\u001b[38;5;124mmodel_type\u001b[39m\u001b[38;5;124m'\u001b[39m:     model_type\n\u001b[1;32m     20\u001b[0m }\n\u001b[1;32m     22\u001b[0m cmd \u001b[38;5;241m=\u001b[39m Train(params\u001b[38;5;241m=\u001b[39mparams)\n\u001b[0;32m---> 24\u001b[0m \u001b[43mcmd\u001b[49m\u001b[38;5;241;43m.\u001b[39;49m\u001b[43mexecute\u001b[49m\u001b[43m(\u001b[49m\u001b[43m)\u001b[49m\n\u001b[1;32m     26\u001b[0m model \u001b[38;5;241m=\u001b[39m cmd\u001b[38;5;241m.\u001b[39mmodel\n\u001b[1;32m     28\u001b[0m num_parameters \u001b[38;5;241m=\u001b[39m count_parameters(model)\n",
      "File \u001b[0;32m~/workspace/pyunet/notebooks/./../pyunet/modules/train.py:123\u001b[0m, in \u001b[0;36mTrain.execute\u001b[0;34m(self)\u001b[0m\n\u001b[1;32m    120\u001b[0m \u001b[38;5;28;01mfor\u001b[39;00m epoch \u001b[38;5;129;01min\u001b[39;00m \u001b[38;5;28mrange\u001b[39m(\u001b[38;5;28mself\u001b[39m\u001b[38;5;241m.\u001b[39mepochs):\n\u001b[1;32m    121\u001b[0m     \u001b[38;5;28mprint\u001b[39m(\u001b[38;5;124m\"\u001b[39m\u001b[38;5;124mEpoch: \u001b[39m\u001b[38;5;132;01m{}\u001b[39;00m\u001b[38;5;124m\"\u001b[39m\u001b[38;5;241m.\u001b[39mformat(epoch))\n\u001b[0;32m--> 123\u001b[0m     ave_loss, ave_accuracy, ave_f1, ave_precision, ave_recall, ave_specificity \u001b[38;5;241m=\u001b[39m \u001b[38;5;28;43mself\u001b[39;49m\u001b[38;5;241;43m.\u001b[39;49m\u001b[43mtrain_fn\u001b[49m\u001b[43m(\u001b[49m\n\u001b[1;32m    124\u001b[0m \u001b[43m        \u001b[49m\u001b[43mtrain_loader\u001b[49m\u001b[43m,\u001b[49m\u001b[43m \u001b[49m\n\u001b[1;32m    125\u001b[0m \u001b[43m        \u001b[49m\u001b[38;5;28;43mself\u001b[39;49m\u001b[38;5;241;43m.\u001b[39;49m\u001b[43mmodel\u001b[49m\u001b[43m,\u001b[49m\u001b[43m \u001b[49m\n\u001b[1;32m    126\u001b[0m \u001b[43m        \u001b[49m\u001b[43moptimizer\u001b[49m\u001b[43m,\u001b[49m\u001b[43m \u001b[49m\n\u001b[1;32m    127\u001b[0m \u001b[43m        \u001b[49m\u001b[43mloss_fn\u001b[49m\u001b[43m,\u001b[49m\u001b[43m \u001b[49m\n\u001b[1;32m    128\u001b[0m \u001b[43m        \u001b[49m\u001b[43mscaler\u001b[49m\u001b[43m,\u001b[49m\n\u001b[1;32m    129\u001b[0m \u001b[43m        \u001b[49m\u001b[43mtest_img_dir\u001b[49m\u001b[38;5;241;43m=\u001b[39;49m\u001b[38;5;28;43mself\u001b[39;49m\u001b[38;5;241;43m.\u001b[39;49m\u001b[43mtest_img_dir\u001b[49m\u001b[43m,\u001b[49m\n\u001b[1;32m    130\u001b[0m \u001b[43m        \u001b[49m\u001b[43mtest_mask_dir\u001b[49m\u001b[38;5;241;43m=\u001b[39;49m\u001b[38;5;28;43mself\u001b[39;49m\u001b[38;5;241;43m.\u001b[39;49m\u001b[43mtest_mask_dir\u001b[49m\n\u001b[1;32m    131\u001b[0m \u001b[43m    \u001b[49m\u001b[43m)\u001b[49m\n\u001b[1;32m    133\u001b[0m     \u001b[38;5;28mself\u001b[39m\u001b[38;5;241m.\u001b[39mlosses\u001b[38;5;241m.\u001b[39mappend(ave_loss)\n\u001b[1;32m    135\u001b[0m     \u001b[38;5;28mprint\u001b[39m(\u001b[38;5;124m\"\u001b[39m\u001b[38;5;124mAve Loss: \u001b[39m\u001b[38;5;132;01m{}\u001b[39;00m\u001b[38;5;124m\"\u001b[39m\u001b[38;5;241m.\u001b[39mformat(ave_loss))\n",
      "File \u001b[0;32m~/workspace/pyunet/notebooks/./../pyunet/modules/train.py:220\u001b[0m, in \u001b[0;36mTrain.train_fn\u001b[0;34m(self, loader, model, optimizer, loss_fn, scaler, test_img_dir, test_mask_dir)\u001b[0m\n\u001b[1;32m    217\u001b[0m img  \u001b[38;5;241m=\u001b[39m get_image(image_file, dim)\n\u001b[1;32m    218\u001b[0m mask \u001b[38;5;241m=\u001b[39m get_mask(mask_file, dim)\n\u001b[0;32m--> 220\u001b[0m prediction \u001b[38;5;241m=\u001b[39m \u001b[43mget_predicted_img\u001b[49m\u001b[43m(\u001b[49m\u001b[43mimg\u001b[49m\u001b[43m,\u001b[49m\u001b[43m \u001b[49m\u001b[43mmodel\u001b[49m\u001b[43m,\u001b[49m\u001b[43m \u001b[49m\u001b[43mdevice\u001b[49m\u001b[38;5;241;43m=\u001b[39;49m\u001b[38;5;28;43mself\u001b[39;49m\u001b[38;5;241;43m.\u001b[39;49m\u001b[43mdevice\u001b[49m\u001b[43m)\u001b[49m\n\u001b[1;32m    222\u001b[0m mask_vectorized \u001b[38;5;241m=\u001b[39m mask\u001b[38;5;241m.\u001b[39mravel()\u001b[38;5;241m.\u001b[39mastype(\u001b[38;5;28mint\u001b[39m)\n\u001b[1;32m    223\u001b[0m prediction_vectorized \u001b[38;5;241m=\u001b[39m prediction\u001b[38;5;241m.\u001b[39mravel()\u001b[38;5;241m.\u001b[39mastype(\u001b[38;5;28mint\u001b[39m)\n",
      "File \u001b[0;32m~/workspace/pyunet/notebooks/./../pyunet/lib/utils.py:42\u001b[0m, in \u001b[0;36mget_predicted_img\u001b[0;34m(img, model, device, out_channels)\u001b[0m\n\u001b[1;32m     38\u001b[0m input_img \u001b[38;5;241m=\u001b[39m img\u001b[38;5;241m.\u001b[39mtranspose((\u001b[38;5;241m2\u001b[39m, \u001b[38;5;241m0\u001b[39m, \u001b[38;5;241m1\u001b[39m))\n\u001b[1;32m     40\u001b[0m x \u001b[38;5;241m=\u001b[39m torch\u001b[38;5;241m.\u001b[39mTensor(np\u001b[38;5;241m.\u001b[39marray([input_img]))\u001b[38;5;241m.\u001b[39mto(device)\n\u001b[0;32m---> 42\u001b[0m result \u001b[38;5;241m=\u001b[39m \u001b[43mmodel\u001b[49m\u001b[38;5;241;43m.\u001b[39;49m\u001b[43mforward\u001b[49m\u001b[43m(\u001b[49m\u001b[43mx\u001b[49m\u001b[43m)\u001b[49m\n\u001b[1;32m     43\u001b[0m result \u001b[38;5;241m=\u001b[39m torch\u001b[38;5;241m.\u001b[39margmax(result, \u001b[38;5;241m1\u001b[39m)\u001b[38;5;241m.\u001b[39mdetach()\u001b[38;5;241m.\u001b[39mcpu()\u001b[38;5;241m.\u001b[39mnumpy()\u001b[38;5;241m.\u001b[39mastype(np\u001b[38;5;241m.\u001b[39mint32)\n\u001b[1;32m     44\u001b[0m result \u001b[38;5;241m=\u001b[39m result\u001b[38;5;241m.\u001b[39mtranspose((\u001b[38;5;241m1\u001b[39m, \u001b[38;5;241m2\u001b[39m, \u001b[38;5;241m0\u001b[39m))\n",
      "File \u001b[0;32m~/workspace/pyunet/notebooks/./../pyunet/lib/unet.py:98\u001b[0m, in \u001b[0;36mUNet.forward\u001b[0;34m(self, x)\u001b[0m\n\u001b[1;32m     95\u001b[0m         x \u001b[38;5;241m=\u001b[39m TF\u001b[38;5;241m.\u001b[39mresize(x, size\u001b[38;5;241m=\u001b[39mskip_connection\u001b[38;5;241m.\u001b[39mshape[\u001b[38;5;241m2\u001b[39m:])\n\u001b[1;32m     97\u001b[0m     concat_skip \u001b[38;5;241m=\u001b[39m torch\u001b[38;5;241m.\u001b[39mcat((skip_connection, x), dim\u001b[38;5;241m=\u001b[39m\u001b[38;5;241m1\u001b[39m)\n\u001b[0;32m---> 98\u001b[0m     x \u001b[38;5;241m=\u001b[39m \u001b[38;5;28;43mself\u001b[39;49m\u001b[38;5;241;43m.\u001b[39;49m\u001b[43mups\u001b[49m\u001b[43m[\u001b[49m\u001b[43midx\u001b[49m\u001b[43m \u001b[49m\u001b[38;5;241;43m+\u001b[39;49m\u001b[43m \u001b[49m\u001b[38;5;241;43m1\u001b[39;49m\u001b[43m]\u001b[49m\u001b[43m(\u001b[49m\u001b[43mconcat_skip\u001b[49m\u001b[43m)\u001b[49m\n\u001b[1;32m    100\u001b[0m \u001b[38;5;28;01mreturn\u001b[39;00m \u001b[38;5;28mself\u001b[39m\u001b[38;5;241m.\u001b[39mfinal_conv(x)\n",
      "File \u001b[0;32m~/workspace/pyunet/env/lib/python3.10/site-packages/torch/nn/modules/module.py:1110\u001b[0m, in \u001b[0;36mModule._call_impl\u001b[0;34m(self, *input, **kwargs)\u001b[0m\n\u001b[1;32m   1106\u001b[0m \u001b[38;5;66;03m# If we don't have any hooks, we want to skip the rest of the logic in\u001b[39;00m\n\u001b[1;32m   1107\u001b[0m \u001b[38;5;66;03m# this function, and just call forward.\u001b[39;00m\n\u001b[1;32m   1108\u001b[0m \u001b[38;5;28;01mif\u001b[39;00m \u001b[38;5;129;01mnot\u001b[39;00m (\u001b[38;5;28mself\u001b[39m\u001b[38;5;241m.\u001b[39m_backward_hooks \u001b[38;5;129;01mor\u001b[39;00m \u001b[38;5;28mself\u001b[39m\u001b[38;5;241m.\u001b[39m_forward_hooks \u001b[38;5;129;01mor\u001b[39;00m \u001b[38;5;28mself\u001b[39m\u001b[38;5;241m.\u001b[39m_forward_pre_hooks \u001b[38;5;129;01mor\u001b[39;00m _global_backward_hooks\n\u001b[1;32m   1109\u001b[0m         \u001b[38;5;129;01mor\u001b[39;00m _global_forward_hooks \u001b[38;5;129;01mor\u001b[39;00m _global_forward_pre_hooks):\n\u001b[0;32m-> 1110\u001b[0m     \u001b[38;5;28;01mreturn\u001b[39;00m \u001b[43mforward_call\u001b[49m\u001b[43m(\u001b[49m\u001b[38;5;241;43m*\u001b[39;49m\u001b[38;5;28;43minput\u001b[39;49m\u001b[43m,\u001b[49m\u001b[43m \u001b[49m\u001b[38;5;241;43m*\u001b[39;49m\u001b[38;5;241;43m*\u001b[39;49m\u001b[43mkwargs\u001b[49m\u001b[43m)\u001b[49m\n\u001b[1;32m   1111\u001b[0m \u001b[38;5;66;03m# Do not call functions when jit is used\u001b[39;00m\n\u001b[1;32m   1112\u001b[0m full_backward_hooks, non_full_backward_hooks \u001b[38;5;241m=\u001b[39m [], []\n",
      "File \u001b[0;32m~/workspace/pyunet/notebooks/./../pyunet/lib/double_conv.py:19\u001b[0m, in \u001b[0;36mDoubleConv.forward\u001b[0;34m(self, x)\u001b[0m\n\u001b[1;32m     18\u001b[0m \u001b[38;5;28;01mdef\u001b[39;00m \u001b[38;5;21mforward\u001b[39m(\u001b[38;5;28mself\u001b[39m, x):\n\u001b[0;32m---> 19\u001b[0m     \u001b[38;5;28;01mreturn\u001b[39;00m \u001b[38;5;28;43mself\u001b[39;49m\u001b[38;5;241;43m.\u001b[39;49m\u001b[43mconv\u001b[49m\u001b[43m(\u001b[49m\u001b[43mx\u001b[49m\u001b[43m)\u001b[49m\n",
      "File \u001b[0;32m~/workspace/pyunet/env/lib/python3.10/site-packages/torch/nn/modules/module.py:1110\u001b[0m, in \u001b[0;36mModule._call_impl\u001b[0;34m(self, *input, **kwargs)\u001b[0m\n\u001b[1;32m   1106\u001b[0m \u001b[38;5;66;03m# If we don't have any hooks, we want to skip the rest of the logic in\u001b[39;00m\n\u001b[1;32m   1107\u001b[0m \u001b[38;5;66;03m# this function, and just call forward.\u001b[39;00m\n\u001b[1;32m   1108\u001b[0m \u001b[38;5;28;01mif\u001b[39;00m \u001b[38;5;129;01mnot\u001b[39;00m (\u001b[38;5;28mself\u001b[39m\u001b[38;5;241m.\u001b[39m_backward_hooks \u001b[38;5;129;01mor\u001b[39;00m \u001b[38;5;28mself\u001b[39m\u001b[38;5;241m.\u001b[39m_forward_hooks \u001b[38;5;129;01mor\u001b[39;00m \u001b[38;5;28mself\u001b[39m\u001b[38;5;241m.\u001b[39m_forward_pre_hooks \u001b[38;5;129;01mor\u001b[39;00m _global_backward_hooks\n\u001b[1;32m   1109\u001b[0m         \u001b[38;5;129;01mor\u001b[39;00m _global_forward_hooks \u001b[38;5;129;01mor\u001b[39;00m _global_forward_pre_hooks):\n\u001b[0;32m-> 1110\u001b[0m     \u001b[38;5;28;01mreturn\u001b[39;00m \u001b[43mforward_call\u001b[49m\u001b[43m(\u001b[49m\u001b[38;5;241;43m*\u001b[39;49m\u001b[38;5;28;43minput\u001b[39;49m\u001b[43m,\u001b[49m\u001b[43m \u001b[49m\u001b[38;5;241;43m*\u001b[39;49m\u001b[38;5;241;43m*\u001b[39;49m\u001b[43mkwargs\u001b[49m\u001b[43m)\u001b[49m\n\u001b[1;32m   1111\u001b[0m \u001b[38;5;66;03m# Do not call functions when jit is used\u001b[39;00m\n\u001b[1;32m   1112\u001b[0m full_backward_hooks, non_full_backward_hooks \u001b[38;5;241m=\u001b[39m [], []\n",
      "File \u001b[0;32m~/workspace/pyunet/env/lib/python3.10/site-packages/torch/nn/modules/container.py:141\u001b[0m, in \u001b[0;36mSequential.forward\u001b[0;34m(self, input)\u001b[0m\n\u001b[1;32m    139\u001b[0m \u001b[38;5;28;01mdef\u001b[39;00m \u001b[38;5;21mforward\u001b[39m(\u001b[38;5;28mself\u001b[39m, \u001b[38;5;28minput\u001b[39m):\n\u001b[1;32m    140\u001b[0m     \u001b[38;5;28;01mfor\u001b[39;00m module \u001b[38;5;129;01min\u001b[39;00m \u001b[38;5;28mself\u001b[39m:\n\u001b[0;32m--> 141\u001b[0m         \u001b[38;5;28minput\u001b[39m \u001b[38;5;241m=\u001b[39m \u001b[43mmodule\u001b[49m\u001b[43m(\u001b[49m\u001b[38;5;28;43minput\u001b[39;49m\u001b[43m)\u001b[49m\n\u001b[1;32m    142\u001b[0m     \u001b[38;5;28;01mreturn\u001b[39;00m \u001b[38;5;28minput\u001b[39m\n",
      "File \u001b[0;32m~/workspace/pyunet/env/lib/python3.10/site-packages/torch/nn/modules/module.py:1110\u001b[0m, in \u001b[0;36mModule._call_impl\u001b[0;34m(self, *input, **kwargs)\u001b[0m\n\u001b[1;32m   1106\u001b[0m \u001b[38;5;66;03m# If we don't have any hooks, we want to skip the rest of the logic in\u001b[39;00m\n\u001b[1;32m   1107\u001b[0m \u001b[38;5;66;03m# this function, and just call forward.\u001b[39;00m\n\u001b[1;32m   1108\u001b[0m \u001b[38;5;28;01mif\u001b[39;00m \u001b[38;5;129;01mnot\u001b[39;00m (\u001b[38;5;28mself\u001b[39m\u001b[38;5;241m.\u001b[39m_backward_hooks \u001b[38;5;129;01mor\u001b[39;00m \u001b[38;5;28mself\u001b[39m\u001b[38;5;241m.\u001b[39m_forward_hooks \u001b[38;5;129;01mor\u001b[39;00m \u001b[38;5;28mself\u001b[39m\u001b[38;5;241m.\u001b[39m_forward_pre_hooks \u001b[38;5;129;01mor\u001b[39;00m _global_backward_hooks\n\u001b[1;32m   1109\u001b[0m         \u001b[38;5;129;01mor\u001b[39;00m _global_forward_hooks \u001b[38;5;129;01mor\u001b[39;00m _global_forward_pre_hooks):\n\u001b[0;32m-> 1110\u001b[0m     \u001b[38;5;28;01mreturn\u001b[39;00m \u001b[43mforward_call\u001b[49m\u001b[43m(\u001b[49m\u001b[38;5;241;43m*\u001b[39;49m\u001b[38;5;28;43minput\u001b[39;49m\u001b[43m,\u001b[49m\u001b[43m \u001b[49m\u001b[38;5;241;43m*\u001b[39;49m\u001b[38;5;241;43m*\u001b[39;49m\u001b[43mkwargs\u001b[49m\u001b[43m)\u001b[49m\n\u001b[1;32m   1111\u001b[0m \u001b[38;5;66;03m# Do not call functions when jit is used\u001b[39;00m\n\u001b[1;32m   1112\u001b[0m full_backward_hooks, non_full_backward_hooks \u001b[38;5;241m=\u001b[39m [], []\n",
      "File \u001b[0;32m~/workspace/pyunet/env/lib/python3.10/site-packages/torch/nn/modules/batchnorm.py:168\u001b[0m, in \u001b[0;36m_BatchNorm.forward\u001b[0;34m(self, input)\u001b[0m\n\u001b[1;32m    161\u001b[0m     bn_training \u001b[38;5;241m=\u001b[39m (\u001b[38;5;28mself\u001b[39m\u001b[38;5;241m.\u001b[39mrunning_mean \u001b[38;5;129;01mis\u001b[39;00m \u001b[38;5;28;01mNone\u001b[39;00m) \u001b[38;5;129;01mand\u001b[39;00m (\u001b[38;5;28mself\u001b[39m\u001b[38;5;241m.\u001b[39mrunning_var \u001b[38;5;129;01mis\u001b[39;00m \u001b[38;5;28;01mNone\u001b[39;00m)\n\u001b[1;32m    163\u001b[0m \u001b[38;5;124mr\u001b[39m\u001b[38;5;124;03m\"\"\"\u001b[39;00m\n\u001b[1;32m    164\u001b[0m \u001b[38;5;124;03mBuffers are only updated if they are to be tracked and we are in training mode. Thus they only need to be\u001b[39;00m\n\u001b[1;32m    165\u001b[0m \u001b[38;5;124;03mpassed when the update should occur (i.e. in training mode when they are tracked), or when buffer stats are\u001b[39;00m\n\u001b[1;32m    166\u001b[0m \u001b[38;5;124;03mused for normalization (i.e. in eval mode when buffers are not None).\u001b[39;00m\n\u001b[1;32m    167\u001b[0m \u001b[38;5;124;03m\"\"\"\u001b[39;00m\n\u001b[0;32m--> 168\u001b[0m \u001b[38;5;28;01mreturn\u001b[39;00m \u001b[43mF\u001b[49m\u001b[38;5;241;43m.\u001b[39;49m\u001b[43mbatch_norm\u001b[49m\u001b[43m(\u001b[49m\n\u001b[1;32m    169\u001b[0m \u001b[43m    \u001b[49m\u001b[38;5;28;43minput\u001b[39;49m\u001b[43m,\u001b[49m\n\u001b[1;32m    170\u001b[0m \u001b[43m    \u001b[49m\u001b[38;5;66;43;03m# If buffers are not to be tracked, ensure that they won't be updated\u001b[39;49;00m\n\u001b[1;32m    171\u001b[0m \u001b[43m    \u001b[49m\u001b[38;5;28;43mself\u001b[39;49m\u001b[38;5;241;43m.\u001b[39;49m\u001b[43mrunning_mean\u001b[49m\n\u001b[1;32m    172\u001b[0m \u001b[43m    \u001b[49m\u001b[38;5;28;43;01mif\u001b[39;49;00m\u001b[43m \u001b[49m\u001b[38;5;129;43;01mnot\u001b[39;49;00m\u001b[43m \u001b[49m\u001b[38;5;28;43mself\u001b[39;49m\u001b[38;5;241;43m.\u001b[39;49m\u001b[43mtraining\u001b[49m\u001b[43m \u001b[49m\u001b[38;5;129;43;01mor\u001b[39;49;00m\u001b[43m \u001b[49m\u001b[38;5;28;43mself\u001b[39;49m\u001b[38;5;241;43m.\u001b[39;49m\u001b[43mtrack_running_stats\u001b[49m\n\u001b[1;32m    173\u001b[0m \u001b[43m    \u001b[49m\u001b[38;5;28;43;01melse\u001b[39;49;00m\u001b[43m \u001b[49m\u001b[38;5;28;43;01mNone\u001b[39;49;00m\u001b[43m,\u001b[49m\n\u001b[1;32m    174\u001b[0m \u001b[43m    \u001b[49m\u001b[38;5;28;43mself\u001b[39;49m\u001b[38;5;241;43m.\u001b[39;49m\u001b[43mrunning_var\u001b[49m\u001b[43m \u001b[49m\u001b[38;5;28;43;01mif\u001b[39;49;00m\u001b[43m \u001b[49m\u001b[38;5;129;43;01mnot\u001b[39;49;00m\u001b[43m \u001b[49m\u001b[38;5;28;43mself\u001b[39;49m\u001b[38;5;241;43m.\u001b[39;49m\u001b[43mtraining\u001b[49m\u001b[43m \u001b[49m\u001b[38;5;129;43;01mor\u001b[39;49;00m\u001b[43m \u001b[49m\u001b[38;5;28;43mself\u001b[39;49m\u001b[38;5;241;43m.\u001b[39;49m\u001b[43mtrack_running_stats\u001b[49m\u001b[43m \u001b[49m\u001b[38;5;28;43;01melse\u001b[39;49;00m\u001b[43m \u001b[49m\u001b[38;5;28;43;01mNone\u001b[39;49;00m\u001b[43m,\u001b[49m\n\u001b[1;32m    175\u001b[0m \u001b[43m    \u001b[49m\u001b[38;5;28;43mself\u001b[39;49m\u001b[38;5;241;43m.\u001b[39;49m\u001b[43mweight\u001b[49m\u001b[43m,\u001b[49m\n\u001b[1;32m    176\u001b[0m \u001b[43m    \u001b[49m\u001b[38;5;28;43mself\u001b[39;49m\u001b[38;5;241;43m.\u001b[39;49m\u001b[43mbias\u001b[49m\u001b[43m,\u001b[49m\n\u001b[1;32m    177\u001b[0m \u001b[43m    \u001b[49m\u001b[43mbn_training\u001b[49m\u001b[43m,\u001b[49m\n\u001b[1;32m    178\u001b[0m \u001b[43m    \u001b[49m\u001b[43mexponential_average_factor\u001b[49m\u001b[43m,\u001b[49m\n\u001b[1;32m    179\u001b[0m \u001b[43m    \u001b[49m\u001b[38;5;28;43mself\u001b[39;49m\u001b[38;5;241;43m.\u001b[39;49m\u001b[43meps\u001b[49m\u001b[43m,\u001b[49m\n\u001b[1;32m    180\u001b[0m \u001b[43m\u001b[49m\u001b[43m)\u001b[49m\n",
      "File \u001b[0;32m~/workspace/pyunet/env/lib/python3.10/site-packages/torch/nn/functional.py:2421\u001b[0m, in \u001b[0;36mbatch_norm\u001b[0;34m(input, running_mean, running_var, weight, bias, training, momentum, eps)\u001b[0m\n\u001b[1;32m   2418\u001b[0m \u001b[38;5;28;01mif\u001b[39;00m training:\n\u001b[1;32m   2419\u001b[0m     _verify_batch_size(\u001b[38;5;28minput\u001b[39m\u001b[38;5;241m.\u001b[39msize())\n\u001b[0;32m-> 2421\u001b[0m \u001b[38;5;28;01mreturn\u001b[39;00m \u001b[43mtorch\u001b[49m\u001b[38;5;241;43m.\u001b[39;49m\u001b[43mbatch_norm\u001b[49m\u001b[43m(\u001b[49m\n\u001b[1;32m   2422\u001b[0m \u001b[43m    \u001b[49m\u001b[38;5;28;43minput\u001b[39;49m\u001b[43m,\u001b[49m\u001b[43m \u001b[49m\u001b[43mweight\u001b[49m\u001b[43m,\u001b[49m\u001b[43m \u001b[49m\u001b[43mbias\u001b[49m\u001b[43m,\u001b[49m\u001b[43m \u001b[49m\u001b[43mrunning_mean\u001b[49m\u001b[43m,\u001b[49m\u001b[43m \u001b[49m\u001b[43mrunning_var\u001b[49m\u001b[43m,\u001b[49m\u001b[43m \u001b[49m\u001b[43mtraining\u001b[49m\u001b[43m,\u001b[49m\u001b[43m \u001b[49m\u001b[43mmomentum\u001b[49m\u001b[43m,\u001b[49m\u001b[43m \u001b[49m\u001b[43meps\u001b[49m\u001b[43m,\u001b[49m\u001b[43m \u001b[49m\u001b[43mtorch\u001b[49m\u001b[38;5;241;43m.\u001b[39;49m\u001b[43mbackends\u001b[49m\u001b[38;5;241;43m.\u001b[39;49m\u001b[43mcudnn\u001b[49m\u001b[38;5;241;43m.\u001b[39;49m\u001b[43menabled\u001b[49m\n\u001b[1;32m   2423\u001b[0m \u001b[43m\u001b[49m\u001b[43m)\u001b[49m\n",
      "\u001b[0;31mKeyboardInterrupt\u001b[0m: "
     ]
    }
   ],
   "source": [
    "model_type     = 'unet'\n",
    "\n",
    "params = {\n",
    "    'img_height':     img_height,\n",
    "    'img_width':      img_width,\n",
    "    'device':         device,\n",
    "    'gpu_index':      gpu_index,\n",
    "    'input_img_dir':  input_img_dir,\n",
    "    'input_mask_dir': input_mask_dir,\n",
    "    'epochs':         epochs,\n",
    "    'learning_rate':  learning_rate,\n",
    "    'in_channels':    in_channels,\n",
    "    'out_channels':   out_channels,\n",
    "    'loss_type':      loss_type,\n",
    "    'batch_size':     batch_size,\n",
    "    'model_file':     model_file,\n",
    "    'test_img_dir':   test_images_dir,\n",
    "    'test_mask_dir':  test_masks_dir,\n",
    "    'model_type':     model_type\n",
    "}\n",
    "\n",
    "cmd = Train(params=params)\n",
    "\n",
    "cmd.execute()\n",
    "\n",
    "model = cmd.model\n",
    "\n",
    "num_parameters = count_parameters(model)\n",
    "\n",
    "print(\"Number of Parameters: {}\".format(num_parameters))"
   ]
  },
  {
   "cell_type": "code",
   "execution_count": null,
   "id": "720b6018",
   "metadata": {},
   "outputs": [],
   "source": [
    "plt.plot(cmd.losses, label='loss', color='red')\n",
    "plt.plot(cmd.accuracies, label='accuracy', color='blue')\n",
    "plt.plot(cmd.f1s, label='f1', color='green')\n",
    "plt.plot(cmd.precisions, label='precision', color='gold')\n",
    "plt.plot(cmd.recalls, label='recall', color='teal')\n",
    "plt.plot(cmd.specificities, label='specificity', color='purple')\n",
    "plt.title('Training Evaluation ({})'.format(model_type), fontsize=14)\n",
    "plt.xlabel('Epoch', fontsize=11)\n",
    "plt.ylabel('Magnitude', fontsize=11)\n",
    "plt.grid(True)\n",
    "plt.legend()\n",
    "plt.show()"
   ]
  },
  {
   "cell_type": "code",
   "execution_count": null,
   "id": "e0d8f5d2",
   "metadata": {},
   "outputs": [],
   "source": [
    "images = sorted(glob.glob(\"{}/*\".format(test_images_dir)))\n",
    "masks  = sorted(glob.glob(\"{}/*\".format(test_masks_dir)))\n",
    "\n",
    "dim = (img_width, img_height)\n",
    "\n",
    "num_images = len(images)\n",
    "num_cols   = 3\n",
    "\n",
    "col_names = [\n",
    "    \"Original\",\n",
    "    \"Ground Truth\",\n",
    "    \"Prediction\"\n",
    "]\n",
    "\n",
    "fig, axes = plt.subplots(nrows=num_images, ncols=num_cols, figsize=(num_cols*4, num_images*4))\n",
    "\n",
    "for ax, col in zip(axes[0], col_names):\n",
    "    ax.set_title(col)\n",
    "    \n",
    "counter = 0\n",
    "\n",
    "scores = []\n",
    "\n",
    "for i in range(num_images):\n",
    "    image_file = images[i]\n",
    "    mask_file  = masks[i]\n",
    "    \n",
    "    img  = get_image(image_file, dim)\n",
    "    mask = get_mask(mask_file, dim)\n",
    "    \n",
    "    prediction = get_predicted_img(img, model)\n",
    "    \n",
    "    counter += 1\n",
    "    \n",
    "    plt.subplot(num_images, num_cols, counter)\n",
    "    plt.imshow(img)\n",
    "    \n",
    "    counter += 1\n",
    "    \n",
    "    plt.subplot(num_images, num_cols, counter)\n",
    "    plt.imshow(mask)\n",
    "    \n",
    "    counter += 1\n",
    "    \n",
    "    plt.subplot(num_images, num_cols, counter)\n",
    "    plt.imshow(prediction)\n",
    "    \n",
    "    mask_vectorized = mask.ravel().astype(int)\n",
    "    prediction_vectorized = prediction.ravel().astype(int)\n",
    "    \n",
    "    macro_score = jaccard_score(mask_vectorized, prediction_vectorized, average='macro')\n",
    "    label_score = jaccard_score(mask_vectorized, prediction_vectorized, average=None)\n",
    "    \n",
    "    label_specificity = recall_score(mask_vectorized, prediction_vectorized, labels=labels, average=None, zero_division=1)\n",
    "    label_recall      = recall_score(mask_vectorized, prediction_vectorized, average=None, zero_division=1)\n",
    "    \n",
    "    f1          = f1_score(mask_vectorized, prediction_vectorized, average='macro', zero_division=1)\n",
    "    accuracy    = accuracy_score(mask_vectorized, prediction_vectorized)\n",
    "    precision   = precision_score(mask_vectorized, prediction_vectorized, average='macro', zero_division=1)\n",
    "    recall      = recall_score(mask_vectorized, prediction_vectorized, average='macro', zero_division=1) # sensitivity\n",
    "    specificity = recall_score(mask_vectorized, prediction_vectorized, labels=labels, average='macro', zero_division=1)\n",
    "    \n",
    "    jaccard_score_0 = None\n",
    "    jaccard_score_1 = None\n",
    "    \n",
    "    specificity_0 = None\n",
    "    specificity_1 = None\n",
    "    \n",
    "    recall_0 = None\n",
    "    recall_1 = None\n",
    "    \n",
    "    dice_0 = dice_score(mask_vectorized, prediction_vectorized, k=0)\n",
    "    dice_1 = dice_score(mask_vectorized, prediction_vectorized, k=1)\n",
    "    \n",
    "    for i in range(len(label_score)):\n",
    "        if i == 0:\n",
    "            jaccard_score_0 = label_score[i]\n",
    "        elif i == 1:\n",
    "            jaccard_score_1 = label_score[i]\n",
    "            \n",
    "    for i in range(len(label_specificity)):\n",
    "        if i == 0:\n",
    "            specificity_0    = label_specificity[i]\n",
    "        elif i == 1:\n",
    "            specificity_1    = label_specificity[i]\n",
    "            \n",
    "    for i in range(len(label_recall)):\n",
    "        if i == 0:\n",
    "            recall_0 = label_recall[i]\n",
    "        elif i == 1:\n",
    "            recall_1 = label_recall[i]\n",
    "        \n",
    "    \n",
    "    \n",
    "    scores.append({\n",
    "        'image_file':  image_file,\n",
    "        'mask_file':   mask_file,\n",
    "        'jaccard_score': macro_score,\n",
    "        'f1_score': f1,\n",
    "        'accuracy': accuracy,\n",
    "        'precision': precision,\n",
    "        'recall': recall,\n",
    "        'precision': precision,\n",
    "        'specificity': specificity,\n",
    "        'jaccard_score_0': jaccard_score_0,\n",
    "        'jaccard_score_1': jaccard_score_1,\n",
    "        'specificity_0': specificity_0,\n",
    "        'specificity_1': specificity_1,\n",
    "        'recall_0': recall_0,\n",
    "        'recall_1': recall_1,\n",
    "        'dice_0': dice_0,\n",
    "        'dice_1': dice_1,\n",
    "    })\n",
    "\n",
    "plt.show()"
   ]
  },
  {
   "cell_type": "code",
   "execution_count": null,
   "id": "384a4820",
   "metadata": {},
   "outputs": [],
   "source": [
    "df_scores_unet = pd.DataFrame(scores)\n",
    "\n",
    "df_scores_unet"
   ]
  },
  {
   "cell_type": "code",
   "execution_count": null,
   "id": "b5524fdd",
   "metadata": {},
   "outputs": [],
   "source": [
    "df_scores_unet.describe()"
   ]
  },
  {
   "cell_type": "code",
   "execution_count": null,
   "id": "587e5bdb",
   "metadata": {},
   "outputs": [],
   "source": [
    "df_scores.describe().to_csv(\"{}-scores-kvasir.csv\".format(model_type))"
   ]
  },
  {
   "cell_type": "code",
   "execution_count": null,
   "id": "b68f202e",
   "metadata": {},
   "outputs": [],
   "source": [
    "df_scores.describe()"
   ]
  },
  {
   "cell_type": "code",
   "execution_count": null,
   "id": "43b47c18",
   "metadata": {},
   "outputs": [],
   "source": [
    "df_scores_unet.describe()"
   ]
  },
  {
   "cell_type": "code",
   "execution_count": null,
   "id": "5b8f5f28",
   "metadata": {},
   "outputs": [],
   "source": []
  }
 ],
 "metadata": {
  "kernelspec": {
   "display_name": "Python 3 (ipykernel)",
   "language": "python",
   "name": "python3"
  },
  "language_info": {
   "codemirror_mode": {
    "name": "ipython",
    "version": 3
   },
   "file_extension": ".py",
   "mimetype": "text/x-python",
   "name": "python",
   "nbconvert_exporter": "python",
   "pygments_lexer": "ipython3",
   "version": "3.10.7"
  },
  "vscode": {
   "interpreter": {
    "hash": "916dbcbb3f70747c44a77c7bcd40155683ae19c65e1c03b4aa3499c5328201f1"
   }
  }
 },
 "nbformat": 4,
 "nbformat_minor": 5
}
