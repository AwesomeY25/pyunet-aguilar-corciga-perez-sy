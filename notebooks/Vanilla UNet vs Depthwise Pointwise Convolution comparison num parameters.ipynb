{
 "cells": [
  {
   "cell_type": "code",
   "execution_count": null,
   "id": "c1d16df1",
   "metadata": {},
   "outputs": [],
   "source": [
    "import json\n",
    "import pandas as pd\n",
    "import copy\n",
    "import glob\n",
    "import cv2\n",
    "import matplotlib.pyplot as plt\n",
    "import sys\n",
    "import os\n",
    "import numpy as np\n",
    "sys.path.append(os.path.join('./','../pyunet'))\n",
    "from lib.unet import UNet\n",
    "from lib.unet_rd import UNetRd\n",
    "from modules.train import Train\n",
    "import torch\n",
    "from lib.utils import get_image, get_mask, get_predicted_img, dice_score, count_parameters\n",
    "import glob\n",
    "from sklearn.model_selection import train_test_split\n",
    "import shutil\n",
    "from sklearn.metrics import jaccard_score\n",
    "from sklearn.metrics import accuracy_score\n",
    "from sklearn.metrics import f1_score\n",
    "from sklearn.metrics import precision_score\n",
    "from sklearn.metrics import recall_score\n",
    "\n",
    "device = 'cuda'"
   ]
  },
  {
   "cell_type": "code",
   "execution_count": null,
   "id": "53d0e65c",
   "metadata": {},
   "outputs": [],
   "source": [
    "vanilla_unet = UNet(\n",
    "    in_channels=3,\n",
    "    out_channels=4\n",
    ").to(device)\n",
    "\n",
    "num_parameters_vanilla = count_parameters(vanilla_unet)\n",
    "\n",
    "print(\"Number of Parameters: {}\".format(num_parameters_vanilla))"
   ]
  },
  {
   "cell_type": "code",
   "execution_count": null,
   "id": "b4bdf2e8",
   "metadata": {},
   "outputs": [],
   "source": [
    "depthwise_unet = UNetRd(\n",
    "    in_channels=3,\n",
    "    out_channels=4\n",
    ").to(device)\n",
    "\n",
    "num_parameters_depthwise = count_parameters(depthwise_unet)\n",
    "\n",
    "print(\"Number of Parameters: {}\".format(num_parameters_depthwise))"
   ]
  },
  {
   "cell_type": "code",
   "execution_count": null,
   "id": "ca244419",
   "metadata": {},
   "outputs": [],
   "source": [
    "diff = num_parameters_vanilla - num_parameters_depthwise\n",
    "\n",
    "print(\"Difference: {}\".format(diff))"
   ]
  },
  {
   "cell_type": "code",
   "execution_count": null,
   "id": "30dc0ad7",
   "metadata": {},
   "outputs": [],
   "source": []
  }
 ],
 "metadata": {
  "kernelspec": {
   "display_name": "Python 3 (ipykernel)",
   "language": "python",
   "name": "python3"
  },
  "language_info": {
   "codemirror_mode": {
    "name": "ipython",
    "version": 3
   },
   "file_extension": ".py",
   "mimetype": "text/x-python",
   "name": "python",
   "nbconvert_exporter": "python",
   "pygments_lexer": "ipython3",
   "version": "3.10.6"
  }
 },
 "nbformat": 4,
 "nbformat_minor": 5
}
