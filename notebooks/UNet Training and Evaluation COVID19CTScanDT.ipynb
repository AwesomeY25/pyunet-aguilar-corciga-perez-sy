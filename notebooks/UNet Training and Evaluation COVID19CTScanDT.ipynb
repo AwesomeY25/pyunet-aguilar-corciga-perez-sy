{
 "cells": [
  {
   "cell_type": "code",
   "execution_count": 1,
   "id": "c1d16df1",
   "metadata": {},
   "outputs": [],
   "source": [
    "import json\n",
    "import pandas as pd\n",
    "import copy\n",
    "import glob\n",
    "import cv2\n",
    "import matplotlib.pyplot as plt\n",
    "import sys\n",
    "import os\n",
    "import numpy as np\n",
    "sys.path.append(os.path.join('./','../pyunet'))\n",
    "from lib.unet import UNet\n",
    "from modules.train import Train\n",
    "import torch\n",
    "from lib.utils import get_image, get_mask, get_predicted_img, dice_score, count_parameters\n",
    "import glob\n",
    "from sklearn.model_selection import train_test_split\n",
    "import shutil\n",
    "from sklearn.metrics import jaccard_score\n",
    "from sklearn.metrics import accuracy_score\n",
    "from sklearn.metrics import f1_score\n",
    "from sklearn.metrics import precision_score\n",
    "from sklearn.metrics import recall_score"
   ]
  },
  {
   "cell_type": "code",
   "execution_count": 2,
   "id": "9a499e85",
   "metadata": {},
   "outputs": [],
   "source": [
    "img_dir  = \"./images/covid19ctscandlmulti/images/\"\n",
    "mask_dir = \"./images/covid19ctscandlmulti/masks/\"\n",
    "\n",
    "tmp_dir = \"./tmp\"\n",
    "\n",
    "if os.path.exists(tmp_dir):\n",
    "    shutil.rmtree(tmp_dir)\n",
    "\n",
    "train_images_dir = \"./tmp/train/images/\"\n",
    "train_masks_dir  = \"./tmp/train/masks/\"\n",
    "\n",
    "test_images_dir  = \"./tmp/test/images/\"\n",
    "test_masks_dir   = \"./tmp/test/masks/\"\n",
    "\n",
    "os.makedirs(train_images_dir)\n",
    "os.makedirs(train_masks_dir)\n",
    "os.makedirs(test_images_dir)\n",
    "os.makedirs(test_masks_dir)\n",
    "\n",
    "images = sorted(glob.glob(\"{}/*\".format(img_dir)))\n",
    "masks  = sorted(glob.glob(\"{}/*\".format(mask_dir)))\n",
    "\n",
    "train_images, test_images, train_masks, test_masks = train_test_split(\n",
    "    images,\n",
    "    masks,\n",
    "    test_size=0.3,\n",
    "    random_state=42\n",
    ")\n",
    "\n",
    "for img_file in train_images:\n",
    "    shutil.copy(img_file, train_images_dir)\n",
    "    \n",
    "for img_file in train_masks:\n",
    "    shutil.copy(img_file, train_masks_dir)\n",
    "    \n",
    "for img_file in test_images:\n",
    "    shutil.copy(img_file, test_images_dir)\n",
    "    \n",
    "for img_file in test_masks:\n",
    "    shutil.copy(img_file, test_masks_dir)\n",
    "    \n",
    "    "
   ]
  },
  {
   "cell_type": "code",
   "execution_count": null,
   "id": "7688da81",
   "metadata": {},
   "outputs": [
    {
     "name": "stdout",
     "output_type": "stream",
     "text": [
      "Training model...\n",
      "input_img_dir: ./tmp/train/images/\n",
      "input_mask_dir: ./tmp/train/masks/\n",
      "CUDA Device: NVIDIA GeForce RTX 3050 Laptop GPU\n",
      "UNet(\n",
      "  (ups): ModuleList(\n",
      "    (0): ConvTranspose2d(1024, 512, kernel_size=(2, 2), stride=(2, 2))\n",
      "    (1): DoubleConv(\n",
      "      (conv): Sequential(\n",
      "        (0): Conv2d(1024, 512, kernel_size=(3, 3), stride=(1, 1), padding=(1, 1), bias=False)\n",
      "        (1): BatchNorm2d(512, eps=1e-05, momentum=0.1, affine=True, track_running_stats=True)\n",
      "        (2): ReLU(inplace=True)\n",
      "        (3): Conv2d(512, 512, kernel_size=(3, 3), stride=(1, 1), padding=(1, 1), bias=False)\n",
      "        (4): BatchNorm2d(512, eps=1e-05, momentum=0.1, affine=True, track_running_stats=True)\n",
      "        (5): ReLU(inplace=True)\n",
      "      )\n",
      "    )\n",
      "    (2): ConvTranspose2d(512, 256, kernel_size=(2, 2), stride=(2, 2))\n",
      "    (3): DoubleConv(\n",
      "      (conv): Sequential(\n",
      "        (0): Conv2d(512, 256, kernel_size=(3, 3), stride=(1, 1), padding=(1, 1), bias=False)\n",
      "        (1): BatchNorm2d(256, eps=1e-05, momentum=0.1, affine=True, track_running_stats=True)\n",
      "        (2): ReLU(inplace=True)\n",
      "        (3): Conv2d(256, 256, kernel_size=(3, 3), stride=(1, 1), padding=(1, 1), bias=False)\n",
      "        (4): BatchNorm2d(256, eps=1e-05, momentum=0.1, affine=True, track_running_stats=True)\n",
      "        (5): ReLU(inplace=True)\n",
      "      )\n",
      "    )\n",
      "    (4): ConvTranspose2d(256, 128, kernel_size=(2, 2), stride=(2, 2))\n",
      "    (5): DoubleConv(\n",
      "      (conv): Sequential(\n",
      "        (0): Conv2d(256, 128, kernel_size=(3, 3), stride=(1, 1), padding=(1, 1), bias=False)\n",
      "        (1): BatchNorm2d(128, eps=1e-05, momentum=0.1, affine=True, track_running_stats=True)\n",
      "        (2): ReLU(inplace=True)\n",
      "        (3): Conv2d(128, 128, kernel_size=(3, 3), stride=(1, 1), padding=(1, 1), bias=False)\n",
      "        (4): BatchNorm2d(128, eps=1e-05, momentum=0.1, affine=True, track_running_stats=True)\n",
      "        (5): ReLU(inplace=True)\n",
      "      )\n",
      "    )\n",
      "    (6): ConvTranspose2d(128, 64, kernel_size=(2, 2), stride=(2, 2))\n",
      "    (7): DoubleConv(\n",
      "      (conv): Sequential(\n",
      "        (0): Conv2d(128, 64, kernel_size=(3, 3), stride=(1, 1), padding=(1, 1), bias=False)\n",
      "        (1): BatchNorm2d(64, eps=1e-05, momentum=0.1, affine=True, track_running_stats=True)\n",
      "        (2): ReLU(inplace=True)\n",
      "        (3): Conv2d(64, 64, kernel_size=(3, 3), stride=(1, 1), padding=(1, 1), bias=False)\n",
      "        (4): BatchNorm2d(64, eps=1e-05, momentum=0.1, affine=True, track_running_stats=True)\n",
      "        (5): ReLU(inplace=True)\n",
      "      )\n",
      "    )\n",
      "  )\n",
      "  (downs): ModuleList(\n",
      "    (0): DoubleConv(\n",
      "      (conv): Sequential(\n",
      "        (0): Conv2d(3, 64, kernel_size=(3, 3), stride=(1, 1), padding=(1, 1), bias=False)\n",
      "        (1): BatchNorm2d(64, eps=1e-05, momentum=0.1, affine=True, track_running_stats=True)\n",
      "        (2): ReLU(inplace=True)\n",
      "        (3): Conv2d(64, 64, kernel_size=(3, 3), stride=(1, 1), padding=(1, 1), bias=False)\n",
      "        (4): BatchNorm2d(64, eps=1e-05, momentum=0.1, affine=True, track_running_stats=True)\n",
      "        (5): ReLU(inplace=True)\n",
      "      )\n",
      "    )\n",
      "    (1): DoubleConv(\n",
      "      (conv): Sequential(\n",
      "        (0): Conv2d(64, 128, kernel_size=(3, 3), stride=(1, 1), padding=(1, 1), bias=False)\n",
      "        (1): BatchNorm2d(128, eps=1e-05, momentum=0.1, affine=True, track_running_stats=True)\n",
      "        (2): ReLU(inplace=True)\n",
      "        (3): Conv2d(128, 128, kernel_size=(3, 3), stride=(1, 1), padding=(1, 1), bias=False)\n",
      "        (4): BatchNorm2d(128, eps=1e-05, momentum=0.1, affine=True, track_running_stats=True)\n",
      "        (5): ReLU(inplace=True)\n",
      "      )\n",
      "    )\n",
      "    (2): DoubleConv(\n",
      "      (conv): Sequential(\n",
      "        (0): Conv2d(128, 256, kernel_size=(3, 3), stride=(1, 1), padding=(1, 1), bias=False)\n",
      "        (1): BatchNorm2d(256, eps=1e-05, momentum=0.1, affine=True, track_running_stats=True)\n",
      "        (2): ReLU(inplace=True)\n",
      "        (3): Conv2d(256, 256, kernel_size=(3, 3), stride=(1, 1), padding=(1, 1), bias=False)\n",
      "        (4): BatchNorm2d(256, eps=1e-05, momentum=0.1, affine=True, track_running_stats=True)\n",
      "        (5): ReLU(inplace=True)\n",
      "      )\n",
      "    )\n",
      "    (3): DoubleConv(\n",
      "      (conv): Sequential(\n",
      "        (0): Conv2d(256, 512, kernel_size=(3, 3), stride=(1, 1), padding=(1, 1), bias=False)\n",
      "        (1): BatchNorm2d(512, eps=1e-05, momentum=0.1, affine=True, track_running_stats=True)\n",
      "        (2): ReLU(inplace=True)\n",
      "        (3): Conv2d(512, 512, kernel_size=(3, 3), stride=(1, 1), padding=(1, 1), bias=False)\n",
      "        (4): BatchNorm2d(512, eps=1e-05, momentum=0.1, affine=True, track_running_stats=True)\n",
      "        (5): ReLU(inplace=True)\n",
      "      )\n",
      "    )\n",
      "  )\n",
      "  (pool): MaxPool2d(kernel_size=2, stride=2, padding=0, dilation=1, ceil_mode=False)\n",
      "  (bottleneck): DoubleConv(\n",
      "    (conv): Sequential(\n",
      "      (0): Conv2d(512, 1024, kernel_size=(3, 3), stride=(1, 1), padding=(1, 1), bias=False)\n",
      "      (1): BatchNorm2d(1024, eps=1e-05, momentum=0.1, affine=True, track_running_stats=True)\n",
      "      (2): ReLU(inplace=True)\n",
      "      (3): Conv2d(1024, 1024, kernel_size=(3, 3), stride=(1, 1), padding=(1, 1), bias=False)\n",
      "      (4): BatchNorm2d(1024, eps=1e-05, momentum=0.1, affine=True, track_running_stats=True)\n",
      "      (5): ReLU(inplace=True)\n",
      "    )\n",
      "  )\n",
      "  (final_conv): Conv2d(64, 4, kernel_size=(1, 1), stride=(1, 1))\n",
      ")\n",
      "Loss Type: CE\n",
      "Epoch: 0\n"
     ]
    },
    {
     "name": "stderr",
     "output_type": "stream",
     "text": [
      "100%|███████████████████████████████████████████████████████████████████████████████████████████████████████████████████████████████████████████████████████████████████| 70/70 [00:03<00:00, 20.57it/s, loss=1.27]\n"
     ]
    },
    {
     "name": "stdout",
     "output_type": "stream",
     "text": [
      "Ave Loss: 1.3684143662452697\n",
      "Ave Accuracy: 0.7104248046875\n",
      "Ave F1: 0.3038787130826845\n",
      "Ave Precision: 0.3181548284171153\n",
      "Ave Recall: 0.6627829327320766\n",
      "Ave Specificity: 0.6627829327320766\n",
      "Saving model to test.pth...\n",
      "Epoch: 1\n"
     ]
    },
    {
     "name": "stderr",
     "output_type": "stream",
     "text": [
      "100%|███████████████████████████████████████████████████████████████████████████████████████████████████████████████████████████████████████████████████████████████████| 70/70 [00:03<00:00, 20.92it/s, loss=1.15]\n"
     ]
    },
    {
     "name": "stdout",
     "output_type": "stream",
     "text": [
      "Ave Loss: 1.2241428988320486\n",
      "Ave Accuracy: 0.7676534016927083\n",
      "Ave F1: 0.33015518456134973\n",
      "Ave Precision: 0.33479087075609304\n",
      "Ave Recall: 0.6822828377072941\n",
      "Ave Specificity: 0.6822828377072941\n",
      "Saving model to test.pth...\n",
      "Epoch: 2\n"
     ]
    },
    {
     "name": "stderr",
     "output_type": "stream",
     "text": [
      "100%|███████████████████████████████████████████████████████████████████████████████████████████████████████████████████████████████████████████████████████████████████| 70/70 [00:03<00:00, 21.35it/s, loss=1.06]\n"
     ]
    },
    {
     "name": "stdout",
     "output_type": "stream",
     "text": [
      "Ave Loss: 1.1282688302653177\n",
      "Ave Accuracy: 0.8257670084635417\n",
      "Ave F1: 0.3545216107394146\n",
      "Ave Precision: 0.35505322418037266\n",
      "Ave Recall: 0.6843460101164758\n",
      "Ave Specificity: 0.6843460101164758\n",
      "Saving model to test.pth...\n",
      "Epoch: 3\n"
     ]
    },
    {
     "name": "stderr",
     "output_type": "stream",
     "text": [
      "100%|██████████████████████████████████████████████████████████████████████████████████████████████████████████████████████████████████████████████████████████████████| 70/70 [00:03<00:00, 21.37it/s, loss=0.994]\n"
     ]
    },
    {
     "name": "stdout",
     "output_type": "stream",
     "text": [
      "Ave Loss: 1.0485474356583186\n",
      "Ave Accuracy: 0.8747314453125\n",
      "Ave F1: 0.37535759412584374\n",
      "Ave Precision: 0.379258301561503\n",
      "Ave Recall: 0.6770909508687168\n",
      "Ave Specificity: 0.6770909508687168\n",
      "Saving model to test.pth...\n",
      "Epoch: 4\n"
     ]
    },
    {
     "name": "stderr",
     "output_type": "stream",
     "text": [
      "100%|██████████████████████████████████████████████████████████████████████████████████████████████████████████████████████████████████████████████████████████████████| 70/70 [00:03<00:00, 21.37it/s, loss=0.939]\n"
     ]
    },
    {
     "name": "stdout",
     "output_type": "stream",
     "text": [
      "Ave Loss: 0.9777984499931336\n",
      "Ave Accuracy: 0.9024922688802083\n",
      "Ave F1: 0.38619100706631737\n",
      "Ave Precision: 0.3989291908073653\n",
      "Ave Recall: 0.6669235100197025\n",
      "Ave Specificity: 0.6669235100197025\n",
      "Saving model to test.pth...\n",
      "Epoch: 5\n"
     ]
    },
    {
     "name": "stderr",
     "output_type": "stream",
     "text": [
      "100%|██████████████████████████████████████████████████████████████████████████████████████████████████████████████████████████████████████████████████████████████████| 70/70 [00:03<00:00, 21.17it/s, loss=0.895]\n"
     ]
    },
    {
     "name": "stdout",
     "output_type": "stream",
     "text": [
      "Ave Loss: 0.9189945834023612\n",
      "Ave Accuracy: 0.9137959798177083\n",
      "Ave F1: 0.4141908741874358\n",
      "Ave Precision: 0.4463296959722694\n",
      "Ave Recall: 0.6405191663772508\n",
      "Ave Specificity: 0.6630645448385024\n",
      "Saving model to test.pth...\n",
      "Epoch: 6\n"
     ]
    },
    {
     "name": "stderr",
     "output_type": "stream",
     "text": [
      "100%|██████████████████████████████████████████████████████████████████████████████████████████████████████████████████████████████████████████████████████████████████| 70/70 [00:03<00:00, 19.94it/s, loss=0.855]\n"
     ]
    },
    {
     "name": "stdout",
     "output_type": "stream",
     "text": [
      "Ave Loss: 0.8711866583142962\n",
      "Ave Accuracy: 0.9200337727864584\n",
      "Ave F1: 0.3993266905589975\n",
      "Ave Precision: 0.43985169906074356\n",
      "Ave Recall: 0.6357355131743512\n",
      "Ave Specificity: 0.6521209633809075\n",
      "Saving model to test.pth...\n",
      "Epoch: 7\n"
     ]
    },
    {
     "name": "stderr",
     "output_type": "stream",
     "text": [
      "100%|██████████████████████████████████████████████████████████████████████████████████████████████████████████████████████████████████████████████████████████████████| 70/70 [00:03<00:00, 21.08it/s, loss=0.813]\n"
     ]
    },
    {
     "name": "stdout",
     "output_type": "stream",
     "text": [
      "Ave Loss: 0.8301718643733433\n",
      "Ave Accuracy: 0.9214314778645833\n",
      "Ave F1: 0.4196894624415008\n",
      "Ave Precision: 0.4709229170358953\n",
      "Ave Recall: 0.6191850294055093\n",
      "Ave Specificity: 0.6508132640463138\n",
      "Saving model to test.pth...\n",
      "Epoch: 8\n"
     ]
    },
    {
     "name": "stderr",
     "output_type": "stream",
     "text": [
      "100%|██████████████████████████████████████████████████████████████████████████████████████████████████████████████████████████████████████████████████████████████████| 70/70 [00:03<00:00, 20.42it/s, loss=0.777]\n"
     ]
    },
    {
     "name": "stdout",
     "output_type": "stream",
     "text": [
      "Ave Loss: 0.7934794689927782\n",
      "Ave Accuracy: 0.9222798665364583\n",
      "Ave F1: 0.4131101460199732\n",
      "Ave Precision: 0.4671480389317504\n",
      "Ave Recall: 0.6173754702250078\n",
      "Ave Specificity: 0.6489455854950125\n",
      "Saving model to test.pth...\n",
      "Epoch: 9\n"
     ]
    },
    {
     "name": "stderr",
     "output_type": "stream",
     "text": [
      "100%|██████████████████████████████████████████████████████████████████████████████████████████████████████████████████████████████████████████████████████████████████| 70/70 [00:03<00:00, 19.80it/s, loss=0.751]\n"
     ]
    },
    {
     "name": "stdout",
     "output_type": "stream",
     "text": [
      "Ave Loss: 0.7616011542933327\n",
      "Ave Accuracy: 0.9232625325520833\n",
      "Ave F1: 0.4267282057330598\n",
      "Ave Precision: 0.49897875893242316\n",
      "Ave Recall: 0.6014335811025456\n",
      "Ave Specificity: 0.646746800347475\n",
      "Saving model to test.pth...\n",
      "Epoch: 10\n"
     ]
    },
    {
     "name": "stderr",
     "output_type": "stream",
     "text": [
      "100%|██████████████████████████████████████████████████████████████████████████████████████████████████████████████████████████████████████████████████████████████████| 70/70 [00:03<00:00, 20.15it/s, loss=0.723]\n"
     ]
    },
    {
     "name": "stdout",
     "output_type": "stream",
     "text": [
      "Ave Loss: 0.7346144429274968\n",
      "Ave Accuracy: 0.9247355143229167\n",
      "Ave F1: 0.4337902304052577\n",
      "Ave Precision: 0.5394404448312199\n",
      "Ave Recall: 0.5731133070154092\n",
      "Ave Specificity: 0.6318255417813959\n",
      "Saving model to test.pth...\n",
      "Epoch: 11\n"
     ]
    },
    {
     "name": "stderr",
     "output_type": "stream",
     "text": [
      "100%|██████████████████████████████████████████████████████████████████████████████████████████████████████████████████████████████████████████████████████████████████| 70/70 [00:03<00:00, 20.65it/s, loss=0.705]\n"
     ]
    },
    {
     "name": "stdout",
     "output_type": "stream",
     "text": [
      "Ave Loss: 0.7115834142480578\n",
      "Ave Accuracy: 0.9225809733072917\n",
      "Ave F1: 0.43775722538415096\n",
      "Ave Precision: 0.5669256169701352\n",
      "Ave Recall: 0.5644733442002746\n",
      "Ave Specificity: 0.6316410774923579\n",
      "Saving model to test.pth...\n",
      "Epoch: 12\n"
     ]
    },
    {
     "name": "stderr",
     "output_type": "stream",
     "text": [
      "100%|██████████████████████████████████████████████████████████████████████████████████████████████████████████████████████████████████████████████████████████████████| 70/70 [00:05<00:00, 13.62it/s, loss=0.685]\n"
     ]
    },
    {
     "name": "stdout",
     "output_type": "stream",
     "text": [
      "Ave Loss: 0.6901057294436863\n",
      "Ave Accuracy: 0.9202840169270833\n",
      "Ave F1: 0.4469171218483524\n",
      "Ave Precision: 0.5641222002185446\n",
      "Ave Recall: 0.5662909247011402\n",
      "Ave Specificity: 0.6373862672175485\n",
      "Saving model to test.pth...\n",
      "Epoch: 13\n"
     ]
    },
    {
     "name": "stderr",
     "output_type": "stream",
     "text": [
      "100%|██████████████████████████████████████████████████████████████████████████████████████████████████████████████████████████████████████████████████████████████████| 70/70 [00:03<00:00, 20.59it/s, loss=0.667]\n"
     ]
    },
    {
     "name": "stdout",
     "output_type": "stream",
     "text": [
      "Ave Loss: 0.6704438158443996\n",
      "Ave Accuracy: 0.9226155598958333\n",
      "Ave F1: 0.45149576489688076\n",
      "Ave Precision: 0.6044837994795562\n",
      "Ave Recall: 0.5656853151183505\n",
      "Ave Specificity: 0.637306269989105\n",
      "Saving model to test.pth...\n",
      "Epoch: 14\n"
     ]
    },
    {
     "name": "stderr",
     "output_type": "stream",
     "text": [
      "100%|██████████████████████████████████████████████████████████████████████████████████████████████████████████████████████████████████████████████████████████████████| 70/70 [00:03<00:00, 20.60it/s, loss=0.653]\n"
     ]
    },
    {
     "name": "stdout",
     "output_type": "stream",
     "text": [
      "Ave Loss: 0.6516632676124573\n",
      "Ave Accuracy: 0.9239969889322917\n",
      "Ave F1: 0.44665299956538135\n",
      "Ave Precision: 0.5955329502814766\n",
      "Ave Recall: 0.5553800971448613\n",
      "Ave Specificity: 0.6286168423108964\n",
      "Saving model to test.pth...\n",
      "Epoch: 15\n"
     ]
    },
    {
     "name": "stderr",
     "output_type": "stream",
     "text": [
      "100%|██████████████████████████████████████████████████████████████████████████████████████████████████████████████████████████████████████████████████████████████████| 70/70 [00:03<00:00, 20.66it/s, loss=0.638]\n"
     ]
    },
    {
     "name": "stdout",
     "output_type": "stream",
     "text": [
      "Ave Loss: 0.6353765061923435\n",
      "Ave Accuracy: 0.9210673014322917\n",
      "Ave F1: 0.45068472122147896\n",
      "Ave Precision: 0.5983005518275959\n",
      "Ave Recall: 0.5688397551010484\n",
      "Ave Specificity: 0.6396850046455228\n",
      "Saving model to test.pth...\n",
      "Epoch: 16\n"
     ]
    },
    {
     "name": "stderr",
     "output_type": "stream",
     "text": [
      "100%|██████████████████████████████████████████████████████████████████████████████████████████████████████████████████████████████████████████████████████████████████| 70/70 [00:03<00:00, 20.57it/s, loss=0.627]\n"
     ]
    },
    {
     "name": "stdout",
     "output_type": "stream",
     "text": [
      "Ave Loss: 0.6197837335722787\n",
      "Ave Accuracy: 0.923504638671875\n",
      "Ave F1: 0.46153465270974225\n",
      "Ave Precision: 0.6134889789963736\n",
      "Ave Recall: 0.5848557577495205\n",
      "Ave Specificity: 0.6500525548891181\n",
      "Saving model to test.pth...\n",
      "Epoch: 17\n"
     ]
    },
    {
     "name": "stderr",
     "output_type": "stream",
     "text": [
      "100%|██████████████████████████████████████████████████████████████████████████████████████████████████████████████████████████████████████████████████████████████████| 70/70 [00:03<00:00, 20.47it/s, loss=0.613]\n"
     ]
    },
    {
     "name": "stdout",
     "output_type": "stream",
     "text": [
      "Ave Loss: 0.6052978226116725\n",
      "Ave Accuracy: 0.9263814290364584\n",
      "Ave F1: 0.44510103356099007\n",
      "Ave Precision: 0.6069696091180351\n",
      "Ave Recall: 0.5542485909804002\n",
      "Ave Specificity: 0.6257625106445307\n",
      "Saving model to test.pth...\n",
      "Epoch: 18\n"
     ]
    },
    {
     "name": "stderr",
     "output_type": "stream",
     "text": [
      "100%|████████████████████████████████████████████████████████████████████████████████████████████████████████████████████████████████████████████████████████████████████| 70/70 [00:03<00:00, 20.15it/s, loss=0.6]\n"
     ]
    },
    {
     "name": "stdout",
     "output_type": "stream",
     "text": [
      "Ave Loss: 0.5914654885019575\n",
      "Ave Accuracy: 0.921856689453125\n",
      "Ave F1: 0.4679679280405135\n",
      "Ave Precision: 0.617799310163974\n",
      "Ave Recall: 0.5855180049507437\n",
      "Ave Specificity: 0.6532012676998462\n",
      "Saving model to test.pth...\n",
      "Epoch: 19\n"
     ]
    },
    {
     "name": "stderr",
     "output_type": "stream",
     "text": [
      "100%|██████████████████████████████████████████████████████████████████████████████████████████████████████████████████████████████████████████████████████████████████| 70/70 [00:03<00:00, 20.55it/s, loss=0.587]\n"
     ]
    },
    {
     "name": "stdout",
     "output_type": "stream",
     "text": [
      "Ave Loss: 0.577998366526195\n",
      "Ave Accuracy: 0.9199971516927083\n",
      "Ave F1: 0.4727950350241529\n",
      "Ave Precision: 0.6227831476728471\n",
      "Ave Recall: 0.5912223840975313\n",
      "Ave Specificity: 0.6577383863628051\n",
      "Saving model to test.pth...\n",
      "Epoch: 20\n"
     ]
    },
    {
     "name": "stderr",
     "output_type": "stream",
     "text": [
      "100%|██████████████████████████████████████████████████████████████████████████████████████████████████████████████████████████████████████████████████████████████████| 70/70 [00:03<00:00, 20.39it/s, loss=0.575]\n"
     ]
    },
    {
     "name": "stdout",
     "output_type": "stream",
     "text": [
      "Ave Loss: 0.5647185521466391\n",
      "Ave Accuracy: 0.9244303385416667\n",
      "Ave F1: 0.4583257304078566\n",
      "Ave Precision: 0.6238087849322117\n",
      "Ave Recall: 0.5645276600782574\n",
      "Ave Specificity: 0.6362954961580434\n",
      "Saving model to test.pth...\n",
      "Epoch: 21\n"
     ]
    },
    {
     "name": "stderr",
     "output_type": "stream",
     "text": [
      "100%|██████████████████████████████████████████████████████████████████████████████████████████████████████████████████████████████████████████████████████████████████| 70/70 [00:03<00:00, 19.53it/s, loss=0.563]\n"
     ]
    },
    {
     "name": "stdout",
     "output_type": "stream",
     "text": [
      "Ave Loss: 0.552204681294305\n",
      "Ave Accuracy: 0.9202067057291666\n",
      "Ave F1: 0.4723392945871332\n",
      "Ave Precision: 0.6227649352092033\n",
      "Ave Recall: 0.5891140521015713\n",
      "Ave Specificity: 0.6556240960631269\n",
      "Saving model to test.pth...\n",
      "Epoch: 22\n"
     ]
    },
    {
     "name": "stderr",
     "output_type": "stream",
     "text": [
      "100%|██████████████████████████████████████████████████████████████████████████████████████████████████████████████████████████████████████████████████████████████████| 70/70 [00:03<00:00, 20.26it/s, loss=0.552]\n"
     ]
    },
    {
     "name": "stdout",
     "output_type": "stream",
     "text": [
      "Ave Loss: 0.5403325830187117\n",
      "Ave Accuracy: 0.9218709309895833\n",
      "Ave F1: 0.47406446614364345\n",
      "Ave Precision: 0.6324505403306099\n",
      "Ave Recall: 0.5831109202045979\n",
      "Ave Specificity: 0.651648962575449\n",
      "Saving model to test.pth...\n",
      "Epoch: 23\n"
     ]
    },
    {
     "name": "stderr",
     "output_type": "stream",
     "text": [
      "100%|██████████████████████████████████████████████████████████████████████████████████████████████████████████████████████████████████████████████████████████████████| 70/70 [00:03<00:00, 20.15it/s, loss=0.541]\n"
     ]
    },
    {
     "name": "stdout",
     "output_type": "stream",
     "text": [
      "Ave Loss: 0.5295453923089164\n",
      "Ave Accuracy: 0.9209716796875\n",
      "Ave F1: 0.48369260893419896\n",
      "Ave Precision: 0.6302033039620266\n",
      "Ave Recall: 0.5918434148896843\n",
      "Ave Specificity: 0.6585310837815539\n",
      "Saving model to test.pth...\n",
      "Epoch: 24\n"
     ]
    },
    {
     "name": "stderr",
     "output_type": "stream",
     "text": [
      "100%|██████████████████████████████████████████████████████████████████████████████████████████████████████████████████████████████████████████████████████████████████| 70/70 [00:03<00:00, 20.18it/s, loss=0.531]\n"
     ]
    },
    {
     "name": "stdout",
     "output_type": "stream",
     "text": [
      "Ave Loss: 0.5184862477438791\n",
      "Ave Accuracy: 0.9133076985677083\n",
      "Ave F1: 0.5007201582540243\n",
      "Ave Precision: 0.6244656472243427\n",
      "Ave Recall: 0.6220056418281497\n",
      "Ave Specificity: 0.6828319967672164\n",
      "Saving model to test.pth...\n",
      "Epoch: 25\n"
     ]
    },
    {
     "name": "stderr",
     "output_type": "stream",
     "text": [
      "100%|██████████████████████████████████████████████████████████████████████████████████████████████████████████████████████████████████████████████████████████████████| 70/70 [00:03<00:00, 20.60it/s, loss=0.523]\n"
     ]
    },
    {
     "name": "stdout",
     "output_type": "stream",
     "text": [
      "Ave Loss: 0.5084501424006054\n",
      "Ave Accuracy: 0.9255126953125\n",
      "Ave F1: 0.4772311967900909\n",
      "Ave Precision: 0.6392957816365186\n",
      "Ave Recall: 0.5708726755224489\n",
      "Ave Specificity: 0.6420104619727183\n",
      "Saving model to test.pth...\n",
      "Epoch: 26\n"
     ]
    },
    {
     "name": "stderr",
     "output_type": "stream",
     "text": [
      "100%|██████████████████████████████████████████████████████████████████████████████████████████████████████████████████████████████████████████████████████████████████| 70/70 [00:03<00:00, 19.46it/s, loss=0.514]\n"
     ]
    },
    {
     "name": "stdout",
     "output_type": "stream",
     "text": [
      "Ave Loss: 0.49834643346922736\n",
      "Ave Accuracy: 0.9268758138020833\n",
      "Ave F1: 0.4693526626581713\n",
      "Ave Precision: 0.641722728759481\n",
      "Ave Recall: 0.5538112675119067\n",
      "Ave Specificity: 0.6280956119835254\n",
      "Saving model to test.pth...\n",
      "Epoch: 27\n"
     ]
    },
    {
     "name": "stderr",
     "output_type": "stream",
     "text": [
      "100%|██████████████████████████████████████████████████████████████████████████████████████████████████████████████████████████████████████████████████████████████████| 70/70 [00:03<00:00, 20.18it/s, loss=0.505]\n"
     ]
    },
    {
     "name": "stdout",
     "output_type": "stream",
     "text": [
      "Ave Loss: 0.4885852634906769\n",
      "Ave Accuracy: 0.9252705891927083\n",
      "Ave F1: 0.48314256269391986\n",
      "Ave Precision: 0.6366015900392766\n",
      "Ave Recall: 0.5749557873678316\n",
      "Ave Specificity: 0.6446365810220882\n",
      "Saving model to test.pth...\n",
      "Epoch: 28\n"
     ]
    },
    {
     "name": "stderr",
     "output_type": "stream",
     "text": [
      "100%|██████████████████████████████████████████████████████████████████████████████████████████████████████████████████████████████████████████████████████████████████| 70/70 [00:03<00:00, 20.31it/s, loss=0.492]\n"
     ]
    },
    {
     "name": "stdout",
     "output_type": "stream",
     "text": [
      "Ave Loss: 0.479087233543396\n",
      "Ave Accuracy: 0.9259114583333333\n",
      "Ave F1: 0.4827237644989963\n",
      "Ave Precision: 0.6384985551691457\n",
      "Ave Recall: 0.5773082288421388\n",
      "Ave Specificity: 0.6470859251640431\n",
      "Saving model to test.pth...\n",
      "Epoch: 29\n"
     ]
    },
    {
     "name": "stderr",
     "output_type": "stream",
     "text": [
      "100%|██████████████████████████████████████████████████████████████████████████████████████████████████████████████████████████████████████████████████████████████████| 70/70 [00:03<00:00, 19.40it/s, loss=0.485]\n"
     ]
    },
    {
     "name": "stdout",
     "output_type": "stream",
     "text": [
      "Ave Loss: 0.4693003982305527\n",
      "Ave Accuracy: 0.9171875\n",
      "Ave F1: 0.5177268763010463\n",
      "Ave Precision: 0.6277809193354209\n",
      "Ave Recall: 0.6362613642550328\n",
      "Ave Specificity: 0.6942967085770052\n",
      "Saving model to test.pth...\n",
      "Epoch: 30\n"
     ]
    },
    {
     "name": "stderr",
     "output_type": "stream",
     "text": [
      "100%|██████████████████████████████████████████████████████████████████████████████████████████████████████████████████████████████████████████████████████████████████| 70/70 [00:03<00:00, 20.45it/s, loss=0.475]\n"
     ]
    },
    {
     "name": "stdout",
     "output_type": "stream",
     "text": [
      "Ave Loss: 0.45739667926515853\n",
      "Ave Accuracy: 0.9212483723958333\n",
      "Ave F1: 0.5053652636942154\n",
      "Ave Precision: 0.6373190047486068\n",
      "Ave Recall: 0.6055200525650108\n",
      "Ave Specificity: 0.6696498504467704\n",
      "Saving model to test.pth...\n",
      "Epoch: 31\n"
     ]
    },
    {
     "name": "stderr",
     "output_type": "stream",
     "text": [
      "100%|██████████████████████████████████████████████████████████████████████████████████████████████████████████████████████████████████████████████████████████████████| 70/70 [00:03<00:00, 18.09it/s, loss=0.463]\n"
     ]
    },
    {
     "name": "stdout",
     "output_type": "stream",
     "text": [
      "Ave Loss: 0.44731060181345256\n",
      "Ave Accuracy: 0.9205790201822917\n",
      "Ave F1: 0.5038267573255067\n",
      "Ave Precision: 0.6320891927037882\n",
      "Ave Recall: 0.6025474744977404\n",
      "Ave Specificity: 0.6674073598619672\n",
      "Saving model to test.pth...\n",
      "Epoch: 32\n"
     ]
    },
    {
     "name": "stderr",
     "output_type": "stream",
     "text": [
      "100%|██████████████████████████████████████████████████████████████████████████████████████████████████████████████████████████████████████████████████████████████████| 70/70 [00:03<00:00, 18.61it/s, loss=0.456]\n"
     ]
    },
    {
     "name": "stdout",
     "output_type": "stream",
     "text": [
      "Ave Loss: 0.43750968532902856\n",
      "Ave Accuracy: 0.92481689453125\n",
      "Ave F1: 0.5170254109422813\n",
      "Ave Precision: 0.6363911426727074\n",
      "Ave Recall: 0.6224788916372822\n",
      "Ave Specificity: 0.6835251385848394\n",
      "Saving model to test.pth...\n",
      "Epoch: 33\n"
     ]
    },
    {
     "name": "stderr",
     "output_type": "stream",
     "text": [
      "100%|██████████████████████████████████████████████████████████████████████████████████████████████████████████████████████████████████████████████████████████████████| 70/70 [00:03<00:00, 19.92it/s, loss=0.444]\n"
     ]
    },
    {
     "name": "stdout",
     "output_type": "stream",
     "text": [
      "Ave Loss: 0.42776556057589393\n",
      "Ave Accuracy: 0.926641845703125\n",
      "Ave F1: 0.5151412346530042\n",
      "Ave Precision: 0.633544490142818\n",
      "Ave Recall: 0.6185389257160561\n",
      "Ave Specificity: 0.6806263751490544\n",
      "Saving model to test.pth...\n",
      "Epoch: 34\n"
     ]
    },
    {
     "name": "stderr",
     "output_type": "stream",
     "text": [
      "100%|███████████████████████████████████████████████████████████████████████████████████████████████████████████████████████████████████████████████████████████████████| 70/70 [00:03<00:00, 19.95it/s, loss=0.44]\n"
     ]
    },
    {
     "name": "stdout",
     "output_type": "stream",
     "text": [
      "Ave Loss: 0.4181925411735262\n",
      "Ave Accuracy: 0.9205912272135417\n",
      "Ave F1: 0.5142724299995617\n",
      "Ave Precision: 0.6330142227753774\n",
      "Ave Recall: 0.616805688463639\n",
      "Ave Specificity: 0.6790470216184149\n",
      "Saving model to test.pth...\n",
      "Epoch: 35\n"
     ]
    },
    {
     "name": "stderr",
     "output_type": "stream",
     "text": [
      "100%|██████████████████████████████████████████████████████████████████████████████████████████████████████████████████████████████████████████████████████████████████| 70/70 [00:03<00:00, 19.84it/s, loss=0.428]\n"
     ]
    },
    {
     "name": "stdout",
     "output_type": "stream",
     "text": [
      "Ave Loss: 0.40891773445265633\n",
      "Ave Accuracy: 0.919573974609375\n",
      "Ave F1: 0.5210035190577107\n",
      "Ave Precision: 0.6233486052827167\n",
      "Ave Recall: 0.6322378916113537\n",
      "Ave Specificity: 0.6911921865623074\n",
      "Saving model to test.pth...\n",
      "Epoch: 36\n"
     ]
    },
    {
     "name": "stderr",
     "output_type": "stream",
     "text": [
      "100%|██████████████████████████████████████████████████████████████████████████████████████████████████████████████████████████████████████████████████████████████████| 70/70 [00:03<00:00, 20.23it/s, loss=0.418]\n"
     ]
    },
    {
     "name": "stdout",
     "output_type": "stream",
     "text": [
      "Ave Loss: 0.39957320179258077\n",
      "Ave Accuracy: 0.9245381673177083\n",
      "Ave F1: 0.5284160310026622\n",
      "Ave Precision: 0.6271953439478222\n",
      "Ave Recall: 0.6427798760704937\n",
      "Ave Specificity: 0.7000154203264821\n",
      "Saving model to test.pth...\n",
      "Epoch: 37\n"
     ]
    },
    {
     "name": "stderr",
     "output_type": "stream",
     "text": [
      "100%|██████████████████████████████████████████████████████████████████████████████████████████████████████████████████████████████████████████████████████████████████| 70/70 [00:03<00:00, 19.91it/s, loss=0.409]\n"
     ]
    },
    {
     "name": "stdout",
     "output_type": "stream",
     "text": [
      "Ave Loss: 0.39031580005373273\n",
      "Ave Accuracy: 0.9263387044270833\n",
      "Ave F1: 0.5287819231450874\n",
      "Ave Precision: 0.6364735707956305\n",
      "Ave Recall: 0.6286703451561474\n",
      "Ave Specificity: 0.688424826477295\n",
      "Saving model to test.pth...\n",
      "Epoch: 38\n"
     ]
    },
    {
     "name": "stderr",
     "output_type": "stream",
     "text": [
      "100%|██████████████████████████████████████████████████████████████████████████████████████████████████████████████████████████████████████████████████████████████████| 70/70 [00:03<00:00, 19.87it/s, loss=0.401]\n"
     ]
    },
    {
     "name": "stdout",
     "output_type": "stream",
     "text": [
      "Ave Loss: 0.38122791605336326\n",
      "Ave Accuracy: 0.9262186686197916\n",
      "Ave F1: 0.5140686428997738\n",
      "Ave Precision: 0.6358633038170022\n",
      "Ave Recall: 0.6066208950209611\n",
      "Ave Specificity: 0.6704934540686228\n",
      "Saving model to test.pth...\n",
      "Epoch: 39\n"
     ]
    },
    {
     "name": "stderr",
     "output_type": "stream",
     "text": [
      "100%|██████████████████████████████████████████████████████████████████████████████████████████████████████████████████████████████████████████████████████████████████| 70/70 [00:03<00:00, 19.84it/s, loss=0.394]\n"
     ]
    },
    {
     "name": "stdout",
     "output_type": "stream",
     "text": [
      "Ave Loss: 0.37248342973845344\n",
      "Ave Accuracy: 0.9234944661458333\n",
      "Ave F1: 0.5221954480063075\n",
      "Ave Precision: 0.6293722216130607\n",
      "Ave Recall: 0.6316994381875581\n",
      "Ave Specificity: 0.6911307649044715\n",
      "Saving model to test.pth...\n",
      "Epoch: 40\n"
     ]
    },
    {
     "name": "stderr",
     "output_type": "stream",
     "text": [
      "100%|██████████████████████████████████████████████████████████████████████████████████████████████████████████████████████████████████████████████████████████████████| 70/70 [00:03<00:00, 19.30it/s, loss=0.385]\n"
     ]
    },
    {
     "name": "stdout",
     "output_type": "stream",
     "text": [
      "Ave Loss: 0.36390955320426394\n",
      "Ave Accuracy: 0.920526123046875\n",
      "Ave F1: 0.5356470737897262\n",
      "Ave Precision: 0.6236067749092276\n",
      "Ave Recall: 0.6467945981863612\n",
      "Ave Specificity: 0.7033671298421538\n",
      "Saving model to test.pth...\n",
      "Epoch: 41\n"
     ]
    },
    {
     "name": "stderr",
     "output_type": "stream",
     "text": [
      "  3%|████▋                                                                                                                                                              | 2/70 [00:00<00:03, 19.25it/s, loss=0.373]"
     ]
    }
   ],
   "source": [
    "img_height     = 128\n",
    "img_width      = 128\n",
    "device         = 'cuda'\n",
    "gpu_index      = 0\n",
    "input_img_dir  = train_images_dir\n",
    "input_mask_dir = train_masks_dir\n",
    "model_file     = \"test.pth\"\n",
    "epochs         = 200\n",
    "learning_rate  = 1e-005\n",
    "in_channels    = 3\n",
    "out_channels   = 4\n",
    "batch_size     = 1\n",
    "loss_type      = 'CE'\n",
    "model_type     = 'unet'\n",
    "\n",
    "params = {\n",
    "    'img_height':     img_height,\n",
    "    'img_width':      img_width,\n",
    "    'device':         device,\n",
    "    'gpu_index':      gpu_index,\n",
    "    'input_img_dir':  input_img_dir,\n",
    "    'input_mask_dir': input_mask_dir,\n",
    "    'epochs':         epochs,\n",
    "    'learning_rate':  learning_rate,\n",
    "    'in_channels':    in_channels,\n",
    "    'out_channels':   out_channels,\n",
    "    'loss_type':      loss_type,\n",
    "    'batch_size':     batch_size,\n",
    "    'model_file':     model_file,\n",
    "    'test_img_dir':   test_images_dir,\n",
    "    'test_mask_dir':  test_masks_dir,\n",
    "    'model_type':     model_type\n",
    "}\n",
    "\n",
    "cmd = Train(params=params)\n",
    "\n",
    "cmd.execute()\n",
    "\n",
    "model = cmd.model\n",
    "\n",
    "num_parameters = count_parameters(model)\n",
    "\n",
    "print(\"Number of Parameters: {}\".format(num_parameters))"
   ]
  },
  {
   "cell_type": "code",
   "execution_count": null,
   "id": "2a8b39c4",
   "metadata": {},
   "outputs": [],
   "source": [
    "plt.plot(cmd.losses, label='loss', color='red')\n",
    "plt.plot(cmd.accuracies, label='accuracy', color='blue')\n",
    "plt.plot(cmd.f1s, label='f1', color='green')\n",
    "plt.plot(cmd.precisions, label='precision', color='gold')\n",
    "plt.plot(cmd.recalls, label='recall', color='teal')\n",
    "plt.plot(cmd.specificities, label='specificity', color='purple')\n",
    "plt.title('Training Evaluation', fontsize=14)\n",
    "plt.xlabel('Epoch', fontsize=11)\n",
    "plt.ylabel('Magnitude', fontsize=11)\n",
    "plt.grid(True)\n",
    "plt.legend()\n",
    "plt.show()"
   ]
  },
  {
   "cell_type": "code",
   "execution_count": null,
   "id": "66b36eb9",
   "metadata": {},
   "outputs": [],
   "source": [
    "images = sorted(glob.glob(\"{}/*\".format(test_images_dir)))\n",
    "masks  = sorted(glob.glob(\"{}/*\".format(test_masks_dir)))\n",
    "\n",
    "dim = (img_width, img_height)\n",
    "\n",
    "num_images = len(images)\n",
    "num_cols   = 3\n",
    "\n",
    "col_names = [\n",
    "    \"Original\",\n",
    "    \"Ground Truth\",\n",
    "    \"Prediction\"\n",
    "]\n",
    "\n",
    "fig, axes = plt.subplots(nrows=num_images, ncols=num_cols, figsize=(num_cols*4, num_images*4))\n",
    "\n",
    "for ax, col in zip(axes[0], col_names):\n",
    "    ax.set_title(col)\n",
    "    \n",
    "counter = 0\n",
    "\n",
    "scores = []\n",
    "\n",
    "for i in range(num_images):\n",
    "    image_file = images[i]\n",
    "    mask_file  = masks[i]\n",
    "    \n",
    "    img  = get_image(image_file, dim)\n",
    "    mask = get_mask(mask_file, dim)\n",
    "    \n",
    "    prediction = get_predicted_img(img, model)\n",
    "    \n",
    "    counter += 1\n",
    "    \n",
    "    plt.subplot(num_images, num_cols, counter)\n",
    "    plt.imshow(img)\n",
    "    \n",
    "    counter += 1\n",
    "    \n",
    "    plt.subplot(num_images, num_cols, counter)\n",
    "    plt.imshow(mask)\n",
    "    \n",
    "    counter += 1\n",
    "    \n",
    "    plt.subplot(num_images, num_cols, counter)\n",
    "    plt.imshow(prediction)\n",
    "    \n",
    "    mask_vectorized = mask.ravel().astype(int)\n",
    "    prediction_vectorized = prediction.ravel().astype(int)\n",
    "    \n",
    "    macro_score = jaccard_score(mask_vectorized, prediction_vectorized, average='macro')\n",
    "    label_score = jaccard_score(mask_vectorized, prediction_vectorized, average=None)\n",
    "    \n",
    "    label_specificity = recall_score(mask_vectorized, prediction_vectorized, labels=[0, 1, 2, 3], average=None, zero_division=1)\n",
    "    label_recall      = recall_score(mask_vectorized, prediction_vectorized, average=None, zero_division=1)\n",
    "    \n",
    "    f1          = f1_score(mask_vectorized, prediction_vectorized, average='macro', zero_division=1)\n",
    "    accuracy    = accuracy_score(mask_vectorized, prediction_vectorized)\n",
    "    precision   = precision_score(mask_vectorized, prediction_vectorized, average='macro', zero_division=1)\n",
    "    recall      = recall_score(mask_vectorized, prediction_vectorized, average='macro', zero_division=1) # sensitivity\n",
    "    specificity = recall_score(mask_vectorized, prediction_vectorized, labels=[0, 1, 2, 3], average='macro', zero_division=1)\n",
    "    \n",
    "    jaccard_score_0 = None\n",
    "    jaccard_score_1 = None\n",
    "    jaccard_score_2 = None\n",
    "    jaccard_score_3 = None\n",
    "    \n",
    "    specificity_0 = None\n",
    "    specificity_1 = None\n",
    "    specificity_2 = None\n",
    "    specificity_3 = None\n",
    "    \n",
    "    recall_0 = None\n",
    "    recall_1 = None\n",
    "    recall_2 = None\n",
    "    recall_3 = None\n",
    "    \n",
    "    dice_0 = dice_score(mask_vectorized, prediction_vectorized, k=0)\n",
    "    dice_1 = dice_score(mask_vectorized, prediction_vectorized, k=1)\n",
    "    dice_2 = dice_score(mask_vectorized, prediction_vectorized, k=2)\n",
    "    dice_3 = dice_score(mask_vectorized, prediction_vectorized, k=3)\n",
    "    \n",
    "    for i in range(len(label_score)):\n",
    "        if i == 0:\n",
    "            jaccard_score_0 = label_score[i]\n",
    "        elif i == 1:\n",
    "            jaccard_score_1 = label_score[i]\n",
    "        elif i == 2:\n",
    "            jaccard_score_2 = label_score[i]\n",
    "        elif i == 3:\n",
    "            jaccard_score_3 = label_score[i]\n",
    "            \n",
    "    for i in range(len(label_specificity)):\n",
    "        if i == 0:\n",
    "            specificity_0    = label_specificity[i]\n",
    "        elif i == 1:\n",
    "            specificity_1    = label_specificity[i]\n",
    "        elif i == 2:\n",
    "            specificity_2    = label_specificity[i]\n",
    "        elif i == 3:\n",
    "            specificity_3    = label_specificity[i]\n",
    "            \n",
    "    for i in range(len(label_recall)):\n",
    "        if i == 0:\n",
    "            recall_0 = label_recall[i]\n",
    "        elif i == 1:\n",
    "            recall_1 = label_recall[i]\n",
    "        elif i == 2:\n",
    "            recall_2 = label_recall[i]\n",
    "        elif i == 3:\n",
    "            recall_3 = label_recall[i]\n",
    "        \n",
    "    \n",
    "    \n",
    "    scores.append({\n",
    "        'image_file':  image_file,\n",
    "        'mask_file':   mask_file,\n",
    "        'jaccard_score': macro_score,\n",
    "        'f1_score': f1,\n",
    "        'accuracy': accuracy,\n",
    "        'precision': precision,\n",
    "        'recall': recall,\n",
    "        'precision': precision,\n",
    "        'specificity': specificity,\n",
    "        'jaccard_score_0': jaccard_score_0,\n",
    "        'jaccard_score_1': jaccard_score_1,\n",
    "        'jaccard_score_2': jaccard_score_2,\n",
    "        'jaccard_score_3': jaccard_score_3,\n",
    "        'specificity_0': specificity_0,\n",
    "        'specificity_1': specificity_1,\n",
    "        'specificity_2': specificity_2,\n",
    "        'specificity_3': specificity_3,\n",
    "        'recall_0': recall_0,\n",
    "        'recall_1': recall_1,\n",
    "        'recall_2': recall_2,\n",
    "        'recall_3': recall_3,\n",
    "        'dice_0': dice_0,\n",
    "        'dice_1': dice_1,\n",
    "        'dice_2': dice_2,\n",
    "        'dice_3': dice_3,\n",
    "    })\n",
    "\n",
    "plt.show()"
   ]
  },
  {
   "cell_type": "code",
   "execution_count": null,
   "id": "f3cf07fe",
   "metadata": {},
   "outputs": [],
   "source": [
    "df_scores = pd.DataFrame(scores)\n",
    "\n",
    "df_scores"
   ]
  },
  {
   "cell_type": "code",
   "execution_count": null,
   "id": "ba7d1f04",
   "metadata": {},
   "outputs": [],
   "source": [
    "df_scores.describe()"
   ]
  },
  {
   "cell_type": "code",
   "execution_count": null,
   "id": "1d248459",
   "metadata": {},
   "outputs": [],
   "source": [
    "df_scores.describe().to_csv(\"unet-scores-covid19-3.csv\")"
   ]
  },
  {
   "cell_type": "code",
   "execution_count": null,
   "id": "40b87d9f",
   "metadata": {},
   "outputs": [],
   "source": []
  }
 ],
 "metadata": {
  "kernelspec": {
   "display_name": "Python 3 (ipykernel)",
   "language": "python",
   "name": "python3"
  },
  "language_info": {
   "codemirror_mode": {
    "name": "ipython",
    "version": 3
   },
   "file_extension": ".py",
   "mimetype": "text/x-python",
   "name": "python",
   "nbconvert_exporter": "python",
   "pygments_lexer": "ipython3",
   "version": "3.10.6"
  },
  "vscode": {
   "interpreter": {
    "hash": "916dbcbb3f70747c44a77c7bcd40155683ae19c65e1c03b4aa3499c5328201f1"
   }
  }
 },
 "nbformat": 4,
 "nbformat_minor": 5
}
