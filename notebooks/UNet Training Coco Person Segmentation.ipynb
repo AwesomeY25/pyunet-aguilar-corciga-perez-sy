{
 "cells": [
  {
   "cell_type": "code",
   "execution_count": null,
   "id": "c1d16df1",
   "metadata": {},
   "outputs": [],
   "source": [
    "import json\n",
    "import pandas as pd\n",
    "import copy\n",
    "import glob\n",
    "import cv2\n",
    "import matplotlib.pyplot as plt\n",
    "import sys\n",
    "import os\n",
    "import numpy as np\n",
    "sys.path.append(os.path.join('./','../pyunet'))\n",
    "from lib.unet import UNet\n",
    "from modules.train import Train\n",
    "import torch\n",
    "from lib.utils import get_image, get_mask, get_predicted_img, dice_score\n",
    "import glob\n",
    "import shutil"
   ]
  },
  {
   "cell_type": "code",
   "execution_count": null,
   "id": "9a499e85",
   "metadata": {},
   "outputs": [],
   "source": [
    "img_dir  = \"/home/ralampay/workspace/pycocosegmentor/images/\"\n",
    "mask_dir = \"/home/ralampay/workspace/pycocosegmentor/masks/\""
   ]
  },
  {
   "cell_type": "code",
   "execution_count": null,
   "id": "7688da81",
   "metadata": {},
   "outputs": [],
   "source": [
    "img_height     = 256\n",
    "img_width      = 256\n",
    "device         = 'cuda'\n",
    "gpu_index      = 0\n",
    "input_img_dir  = train_images_dir\n",
    "input_mask_dir = train_masks_dir\n",
    "model_file     = \"unet-rd.pth\"\n",
    "epochs         = 100\n",
    "learning_rate  = 0.0001\n",
    "in_channels    = 3\n",
    "out_channels   = 2\n",
    "is_normalized  = True\n",
    "batch_size     = 1\n",
    "loss_type      = 'CE'\n",
    "model_type     = 'unet_rd'\n",
    "\n",
    "params = {\n",
    "    'img_height':     img_height,\n",
    "    'img_width':      img_width,\n",
    "    'device':         device,\n",
    "    'gpu_index':      gpu_index,\n",
    "    'input_img_dir':  img_dir,\n",
    "    'input_mask_dir': mask_dir,\n",
    "    'epochs':         epochs,\n",
    "    'learning_rate':  learning_rate,\n",
    "    'in_channels':    in_channels,\n",
    "    'out_channels':   out_channels,\n",
    "    'loss_type':      loss_type,\n",
    "    'batch_size':     batch_size,\n",
    "    'model_file':     model_file,\n",
    "    'model_type':     model_type\n",
    "}\n",
    "\n",
    "cmd = Train(params=params)\n",
    "\n",
    "cmd.execute()\n",
    "\n",
    "model = cmd.model"
   ]
  }
 ],
 "metadata": {
  "kernelspec": {
   "display_name": "Python 3 (ipykernel)",
   "language": "python",
   "name": "python3"
  },
  "language_info": {
   "codemirror_mode": {
    "name": "ipython",
    "version": 3
   },
   "file_extension": ".py",
   "mimetype": "text/x-python",
   "name": "python",
   "nbconvert_exporter": "python",
   "pygments_lexer": "ipython3",
   "version": "3.10.6"
  }
 },
 "nbformat": 4,
 "nbformat_minor": 5
}
